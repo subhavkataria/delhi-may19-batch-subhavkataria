{
 "cells": [
  {
   "cell_type": "raw",
   "metadata": {},
   "source": [
    "Dataset columns - first three columns are userId, productId, and ratings and the fourth column is\n",
    "timestamp. You can discard the timestamp column as in this case you may not need to use it.\n",
    "\n",
    "Source - Amazon Reviews data (http://jmcauley.ucsd.edu/data/amazon/) The repository has\n",
    "several datasets. For this case study, we are using the Electronics dataset.\n",
    "\n",
    "\n",
    "Please do the analysis based on steps( 1 to 8) as given below -\n",
    "Steps -\n",
    "1. Read and explore the given dataset. ( Rename column/add headers, plot histograms,\n",
    "find data characteristics)\n",
    "2. Take a subset of the dataset to make it less sparse/ denser. ( For example, keep the\n",
    "users only who has given 50 or more number of ratings )\n",
    "3. Split the data randomly into train and test dataset. ( For example, split it in 70/30 ratio)\n",
    "4. Build Popularity Recommender model.\n",
    "5. Build Collaborative Filtering model.\n",
    "6. Evaluate both the models. ( Once the model is trained on the training data, it can be\n",
    "used to compute the error (like RMSE) on predictions made on the test data.) You can\n",
    "also use a different method to evaluate the models.\n",
    "7. Get top - K ( K = 5) recommendations. Since our goal is to recommend new products to\n",
    "each user based on his/her habits, we will recommend 5 new products.\n",
    "8. Summarise your insights."
   ]
  },
  {
   "cell_type": "code",
   "execution_count": 1,
   "metadata": {},
   "outputs": [],
   "source": [
    "%matplotlib inline\n",
    "import math, random, warnings\n",
    "import pandas as pd\n",
    "import matplotlib.pyplot as plt\n",
    "import seaborn as sns\n",
    "from surprise import KNNWithMeans\n",
    "from surprise import accuracy\n",
    "import time\n",
    "from sklearn.externals import joblib\n",
    "from collections import defaultdict\n",
    "from IPython.core.interactiveshell import InteractiveShell"
   ]
  },
  {
   "cell_type": "code",
   "execution_count": 2,
   "metadata": {},
   "outputs": [],
   "source": [
    "# Configure for any default setting of any library\n",
    "InteractiveShell.ast_node_interactivity = \"all\"\n",
    "warnings.filterwarnings('ignore')"
   ]
  },
  {
   "cell_type": "markdown",
   "metadata": {},
   "source": [
    "### Read and explore the given dataset"
   ]
  },
  {
   "cell_type": "code",
   "execution_count": 3,
   "metadata": {},
   "outputs": [],
   "source": [
    "electronics_ratings_df = pd.read_csv('ratings_Electronics.csv',names = ['userId', 'productId', 'ratings','timestamp'])"
   ]
  },
  {
   "cell_type": "code",
   "execution_count": 4,
   "metadata": {},
   "outputs": [],
   "source": [
    "# Save an original copy of the dataframe\n",
    "electronics_ratings_original_df = electronics_ratings_df.copy(deep=True)"
   ]
  },
  {
   "cell_type": "code",
   "execution_count": 5,
   "metadata": {},
   "outputs": [
    {
     "data": {
      "text/html": [
       "<div>\n",
       "<style scoped>\n",
       "    .dataframe tbody tr th:only-of-type {\n",
       "        vertical-align: middle;\n",
       "    }\n",
       "\n",
       "    .dataframe tbody tr th {\n",
       "        vertical-align: top;\n",
       "    }\n",
       "\n",
       "    .dataframe thead th {\n",
       "        text-align: right;\n",
       "    }\n",
       "</style>\n",
       "<table border=\"1\" class=\"dataframe\">\n",
       "  <thead>\n",
       "    <tr style=\"text-align: right;\">\n",
       "      <th></th>\n",
       "      <th>userId</th>\n",
       "      <th>productId</th>\n",
       "      <th>ratings</th>\n",
       "      <th>timestamp</th>\n",
       "    </tr>\n",
       "  </thead>\n",
       "  <tbody>\n",
       "    <tr>\n",
       "      <th>0</th>\n",
       "      <td>AKM1MP6P0OYPR</td>\n",
       "      <td>0132793040</td>\n",
       "      <td>5.0</td>\n",
       "      <td>1365811200</td>\n",
       "    </tr>\n",
       "    <tr>\n",
       "      <th>1</th>\n",
       "      <td>A2CX7LUOHB2NDG</td>\n",
       "      <td>0321732944</td>\n",
       "      <td>5.0</td>\n",
       "      <td>1341100800</td>\n",
       "    </tr>\n",
       "    <tr>\n",
       "      <th>2</th>\n",
       "      <td>A2NWSAGRHCP8N5</td>\n",
       "      <td>0439886341</td>\n",
       "      <td>1.0</td>\n",
       "      <td>1367193600</td>\n",
       "    </tr>\n",
       "    <tr>\n",
       "      <th>3</th>\n",
       "      <td>A2WNBOD3WNDNKT</td>\n",
       "      <td>0439886341</td>\n",
       "      <td>3.0</td>\n",
       "      <td>1374451200</td>\n",
       "    </tr>\n",
       "    <tr>\n",
       "      <th>4</th>\n",
       "      <td>A1GI0U4ZRJA8WN</td>\n",
       "      <td>0439886341</td>\n",
       "      <td>1.0</td>\n",
       "      <td>1334707200</td>\n",
       "    </tr>\n",
       "  </tbody>\n",
       "</table>\n",
       "</div>"
      ],
      "text/plain": [
       "           userId   productId  ratings   timestamp\n",
       "0   AKM1MP6P0OYPR  0132793040      5.0  1365811200\n",
       "1  A2CX7LUOHB2NDG  0321732944      5.0  1341100800\n",
       "2  A2NWSAGRHCP8N5  0439886341      1.0  1367193600\n",
       "3  A2WNBOD3WNDNKT  0439886341      3.0  1374451200\n",
       "4  A1GI0U4ZRJA8WN  0439886341      1.0  1334707200"
      ]
     },
     "execution_count": 5,
     "metadata": {},
     "output_type": "execute_result"
    }
   ],
   "source": [
    "electronics_ratings_df.head(5)"
   ]
  },
  {
   "cell_type": "code",
   "execution_count": 6,
   "metadata": {},
   "outputs": [
    {
     "data": {
      "text/html": [
       "<div>\n",
       "<style scoped>\n",
       "    .dataframe tbody tr th:only-of-type {\n",
       "        vertical-align: middle;\n",
       "    }\n",
       "\n",
       "    .dataframe tbody tr th {\n",
       "        vertical-align: top;\n",
       "    }\n",
       "\n",
       "    .dataframe thead th {\n",
       "        text-align: right;\n",
       "    }\n",
       "</style>\n",
       "<table border=\"1\" class=\"dataframe\">\n",
       "  <thead>\n",
       "    <tr style=\"text-align: right;\">\n",
       "      <th></th>\n",
       "      <th>userId</th>\n",
       "      <th>productId</th>\n",
       "      <th>ratings</th>\n",
       "      <th>timestamp</th>\n",
       "    </tr>\n",
       "  </thead>\n",
       "  <tbody>\n",
       "    <tr>\n",
       "      <th>7824477</th>\n",
       "      <td>A2YZI3C9MOHC0L</td>\n",
       "      <td>BT008UKTMW</td>\n",
       "      <td>5.0</td>\n",
       "      <td>1396569600</td>\n",
       "    </tr>\n",
       "    <tr>\n",
       "      <th>7824478</th>\n",
       "      <td>A322MDK0M89RHN</td>\n",
       "      <td>BT008UKTMW</td>\n",
       "      <td>5.0</td>\n",
       "      <td>1313366400</td>\n",
       "    </tr>\n",
       "    <tr>\n",
       "      <th>7824479</th>\n",
       "      <td>A1MH90R0ADMIK0</td>\n",
       "      <td>BT008UKTMW</td>\n",
       "      <td>4.0</td>\n",
       "      <td>1404172800</td>\n",
       "    </tr>\n",
       "    <tr>\n",
       "      <th>7824480</th>\n",
       "      <td>A10M2KEFPEQDHN</td>\n",
       "      <td>BT008UKTMW</td>\n",
       "      <td>4.0</td>\n",
       "      <td>1297555200</td>\n",
       "    </tr>\n",
       "    <tr>\n",
       "      <th>7824481</th>\n",
       "      <td>A2G81TMIOIDEQQ</td>\n",
       "      <td>BT008V9J9U</td>\n",
       "      <td>5.0</td>\n",
       "      <td>1312675200</td>\n",
       "    </tr>\n",
       "  </tbody>\n",
       "</table>\n",
       "</div>"
      ],
      "text/plain": [
       "                 userId   productId  ratings   timestamp\n",
       "7824477  A2YZI3C9MOHC0L  BT008UKTMW      5.0  1396569600\n",
       "7824478  A322MDK0M89RHN  BT008UKTMW      5.0  1313366400\n",
       "7824479  A1MH90R0ADMIK0  BT008UKTMW      4.0  1404172800\n",
       "7824480  A10M2KEFPEQDHN  BT008UKTMW      4.0  1297555200\n",
       "7824481  A2G81TMIOIDEQQ  BT008V9J9U      5.0  1312675200"
      ]
     },
     "execution_count": 6,
     "metadata": {},
     "output_type": "execute_result"
    }
   ],
   "source": [
    "electronics_ratings_df.tail(5)"
   ]
  },
  {
   "cell_type": "markdown",
   "metadata": {},
   "source": [
    "### Rename column/add headers, plot histograms,find data characteristics"
   ]
  },
  {
   "cell_type": "code",
   "execution_count": 7,
   "metadata": {},
   "outputs": [
    {
     "data": {
      "text/plain": [
       "(7824482, 4)"
      ]
     },
     "execution_count": 7,
     "metadata": {},
     "output_type": "execute_result"
    }
   ],
   "source": [
    "electronics_ratings_df.shape"
   ]
  },
  {
   "cell_type": "code",
   "execution_count": 8,
   "metadata": {},
   "outputs": [],
   "source": [
    "electronics_ratings_df.drop('timestamp',inplace=True,axis=1)"
   ]
  },
  {
   "cell_type": "code",
   "execution_count": 9,
   "metadata": {},
   "outputs": [
    {
     "data": {
      "text/plain": [
       "(7824482, 3)"
      ]
     },
     "execution_count": 9,
     "metadata": {},
     "output_type": "execute_result"
    }
   ],
   "source": [
    "electronics_ratings_df.shape"
   ]
  },
  {
   "cell_type": "code",
   "execution_count": 10,
   "metadata": {},
   "outputs": [
    {
     "name": "stdout",
     "output_type": "stream",
     "text": [
      "Unique users are 4201696\n"
     ]
    }
   ],
   "source": [
    "unique_users = electronics_ratings_df['userId'].unique()\n",
    "print(\"Unique users are\",len(unique_users))"
   ]
  },
  {
   "cell_type": "code",
   "execution_count": 11,
   "metadata": {},
   "outputs": [
    {
     "name": "stdout",
     "output_type": "stream",
     "text": [
      "Unique products are 476002\n"
     ]
    }
   ],
   "source": [
    "unique_products = electronics_ratings_df['productId'].unique()\n",
    "print(\"Unique products are\",len(unique_products))"
   ]
  },
  {
   "cell_type": "markdown",
   "metadata": {},
   "source": [
    "#### Ratings frequency count"
   ]
  },
  {
   "cell_type": "code",
   "execution_count": 12,
   "metadata": {},
   "outputs": [
    {
     "data": {
      "text/plain": [
       "1.0     901765\n",
       "2.0     456322\n",
       "3.0     633073\n",
       "4.0    1485781\n",
       "5.0    4347541\n",
       "Name: ratings, dtype: int64"
      ]
     },
     "execution_count": 12,
     "metadata": {},
     "output_type": "execute_result"
    }
   ],
   "source": [
    "electronics_ratings_value_counts = electronics_ratings_df['ratings'].value_counts().sort_index()\n",
    "electronics_ratings_value_counts"
   ]
  },
  {
   "cell_type": "code",
   "execution_count": 13,
   "metadata": {},
   "outputs": [
    {
     "data": {
      "text/plain": [
       "<seaborn.axisgrid.FacetGrid at 0x1e365fa77b8>"
      ]
     },
     "execution_count": 13,
     "metadata": {},
     "output_type": "execute_result"
    },
    {
     "data": {
      "image/png": "[encoded data removed]",
      "text/plain": [
       "<Figure size 720x360 with 1 Axes>"
      ]
     },
     "metadata": {
      "needs_background": "light"
     },
     "output_type": "display_data"
    }
   ],
   "source": [
    "g = sns.factorplot(\"ratings\", data=electronics_ratings_df, aspect=2.0, kind='count')\n",
    "g.set_ylabels(\"Total number of ratings\")"
   ]
  },
  {
   "cell_type": "markdown",
   "metadata": {},
   "source": [
    "#### From above plot we can see that rating category shows there is more frequency under rating 5 then rating 4 and then rating 1.\n",
    "#### Users are rating mostly when they are satisfied or totally unsatisfied , average ratings is very less that is why rating 2 and tating 3 are less "
   ]
  },
  {
   "cell_type": "code",
   "execution_count": 14,
   "metadata": {},
   "outputs": [
    {
     "name": "stdout",
     "output_type": "stream",
     "text": [
      "<class 'pandas.core.frame.DataFrame'>\n",
      "RangeIndex: 7824482 entries, 0 to 7824481\n",
      "Data columns (total 3 columns):\n",
      "userId       object\n",
      "productId    object\n",
      "ratings      float64\n",
      "dtypes: float64(1), object(2)\n",
      "memory usage: 179.1+ MB\n"
     ]
    }
   ],
   "source": [
    "electronics_ratings_df.info()"
   ]
  },
  {
   "cell_type": "code",
   "execution_count": 15,
   "metadata": {},
   "outputs": [
    {
     "data": {
      "text/html": [
       "<div>\n",
       "<style scoped>\n",
       "    .dataframe tbody tr th:only-of-type {\n",
       "        vertical-align: middle;\n",
       "    }\n",
       "\n",
       "    .dataframe tbody tr th {\n",
       "        vertical-align: top;\n",
       "    }\n",
       "\n",
       "    .dataframe thead th {\n",
       "        text-align: right;\n",
       "    }\n",
       "</style>\n",
       "<table border=\"1\" class=\"dataframe\">\n",
       "  <thead>\n",
       "    <tr style=\"text-align: right;\">\n",
       "      <th></th>\n",
       "      <th>count</th>\n",
       "      <th>mean</th>\n",
       "      <th>std</th>\n",
       "      <th>min</th>\n",
       "      <th>25%</th>\n",
       "      <th>50%</th>\n",
       "      <th>75%</th>\n",
       "      <th>max</th>\n",
       "    </tr>\n",
       "  </thead>\n",
       "  <tbody>\n",
       "    <tr>\n",
       "      <th>ratings</th>\n",
       "      <td>7824482.0</td>\n",
       "      <td>4.012337</td>\n",
       "      <td>1.38091</td>\n",
       "      <td>1.0</td>\n",
       "      <td>3.0</td>\n",
       "      <td>5.0</td>\n",
       "      <td>5.0</td>\n",
       "      <td>5.0</td>\n",
       "    </tr>\n",
       "  </tbody>\n",
       "</table>\n",
       "</div>"
      ],
      "text/plain": [
       "             count      mean      std  min  25%  50%  75%  max\n",
       "ratings  7824482.0  4.012337  1.38091  1.0  3.0  5.0  5.0  5.0"
      ]
     },
     "execution_count": 15,
     "metadata": {},
     "output_type": "execute_result"
    }
   ],
   "source": [
    "electronics_ratings_df.describe().T"
   ]
  },
  {
   "cell_type": "markdown",
   "metadata": {},
   "source": [
    "### From Above we can see that Mean rating is 4.01 and Median rating is 5.0"
   ]
  },
  {
   "cell_type": "code",
   "execution_count": 16,
   "metadata": {},
   "outputs": [
    {
     "data": {
      "text/plain": [
       "userId       0\n",
       "productId    0\n",
       "ratings      0\n",
       "dtype: int64"
      ]
     },
     "execution_count": 16,
     "metadata": {},
     "output_type": "execute_result"
    }
   ],
   "source": [
    "electronics_ratings_df.isna().sum()"
   ]
  },
  {
   "cell_type": "markdown",
   "metadata": {},
   "source": [
    ">  There are no missing / null values"
   ]
  },
  {
   "cell_type": "code",
   "execution_count": 17,
   "metadata": {},
   "outputs": [
    {
     "data": {
      "text/html": [
       "<div>\n",
       "<style scoped>\n",
       "    .dataframe tbody tr th:only-of-type {\n",
       "        vertical-align: middle;\n",
       "    }\n",
       "\n",
       "    .dataframe tbody tr th {\n",
       "        vertical-align: top;\n",
       "    }\n",
       "\n",
       "    .dataframe thead th {\n",
       "        text-align: right;\n",
       "    }\n",
       "</style>\n",
       "<table border=\"1\" class=\"dataframe\">\n",
       "  <thead>\n",
       "    <tr style=\"text-align: right;\">\n",
       "      <th></th>\n",
       "      <th>userId</th>\n",
       "      <th>productId</th>\n",
       "      <th>ratings</th>\n",
       "    </tr>\n",
       "  </thead>\n",
       "  <tbody>\n",
       "  </tbody>\n",
       "</table>\n",
       "</div>"
      ],
      "text/plain": [
       "Empty DataFrame\n",
       "Columns: [userId, productId, ratings]\n",
       "Index: []"
      ]
     },
     "execution_count": 17,
     "metadata": {},
     "output_type": "execute_result"
    }
   ],
   "source": [
    "## Check if there are duplicate entries in the data\n",
    "rating_combination = ['userId', 'productId']\n",
    "electronics_ratings_df[electronics_ratings_df.duplicated(subset=rating_combination, keep=False)].sort_values(rating_combination).head()"
   ]
  },
  {
   "cell_type": "markdown",
   "metadata": {},
   "source": [
    "### There are no duplicates"
   ]
  },
  {
   "cell_type": "code",
   "execution_count": 18,
   "metadata": {},
   "outputs": [
    {
     "data": {
      "text/plain": [
       "ratings\n",
       "1.0    176283\n",
       "2.0    123419\n",
       "3.0    152827\n",
       "4.0    223845\n",
       "5.0    358458\n",
       "Name: productId, dtype: int64"
      ]
     },
     "execution_count": 18,
     "metadata": {},
     "output_type": "execute_result"
    }
   ],
   "source": [
    "# Find the unique products under each ratings\n",
    "electronics_ratings_df.groupby('ratings')['productId'].nunique()"
   ]
  },
  {
   "cell_type": "markdown",
   "metadata": {},
   "source": [
    "## Take a subset of the dataset to make it less sparse/ denser"
   ]
  },
  {
   "cell_type": "code",
   "execution_count": 19,
   "metadata": {},
   "outputs": [
    {
     "data": {
      "text/html": [
       "<div>\n",
       "<style scoped>\n",
       "    .dataframe tbody tr th:only-of-type {\n",
       "        vertical-align: middle;\n",
       "    }\n",
       "\n",
       "    .dataframe tbody tr th {\n",
       "        vertical-align: top;\n",
       "    }\n",
       "\n",
       "    .dataframe thead th {\n",
       "        text-align: right;\n",
       "    }\n",
       "</style>\n",
       "<table border=\"1\" class=\"dataframe\">\n",
       "  <thead>\n",
       "    <tr style=\"text-align: right;\">\n",
       "      <th></th>\n",
       "      <th>userId</th>\n",
       "      <th>ratings</th>\n",
       "    </tr>\n",
       "  </thead>\n",
       "  <tbody>\n",
       "    <tr>\n",
       "      <th>0</th>\n",
       "      <td>A5JLAU2ARJ0BO</td>\n",
       "      <td>520</td>\n",
       "    </tr>\n",
       "    <tr>\n",
       "      <th>1</th>\n",
       "      <td>ADLVFFE4VBT8</td>\n",
       "      <td>501</td>\n",
       "    </tr>\n",
       "    <tr>\n",
       "      <th>2</th>\n",
       "      <td>A3OXHLG6DIBRW8</td>\n",
       "      <td>498</td>\n",
       "    </tr>\n",
       "    <tr>\n",
       "      <th>3</th>\n",
       "      <td>A6FIAB28IS79</td>\n",
       "      <td>431</td>\n",
       "    </tr>\n",
       "    <tr>\n",
       "      <th>4</th>\n",
       "      <td>A680RUE1FDO8B</td>\n",
       "      <td>406</td>\n",
       "    </tr>\n",
       "    <tr>\n",
       "      <th>5</th>\n",
       "      <td>A1ODOGXEYECQQ8</td>\n",
       "      <td>380</td>\n",
       "    </tr>\n",
       "    <tr>\n",
       "      <th>6</th>\n",
       "      <td>A36K2N527TXXJN</td>\n",
       "      <td>314</td>\n",
       "    </tr>\n",
       "    <tr>\n",
       "      <th>7</th>\n",
       "      <td>A2AY4YUOX2N1BQ</td>\n",
       "      <td>311</td>\n",
       "    </tr>\n",
       "    <tr>\n",
       "      <th>8</th>\n",
       "      <td>AWPODHOB4GFWL</td>\n",
       "      <td>308</td>\n",
       "    </tr>\n",
       "    <tr>\n",
       "      <th>9</th>\n",
       "      <td>ARBKYIVNYWK3C</td>\n",
       "      <td>296</td>\n",
       "    </tr>\n",
       "  </tbody>\n",
       "</table>\n",
       "</div>"
      ],
      "text/plain": [
       "           userId  ratings\n",
       "0   A5JLAU2ARJ0BO      520\n",
       "1    ADLVFFE4VBT8      501\n",
       "2  A3OXHLG6DIBRW8      498\n",
       "3    A6FIAB28IS79      431\n",
       "4   A680RUE1FDO8B      406\n",
       "5  A1ODOGXEYECQQ8      380\n",
       "6  A36K2N527TXXJN      314\n",
       "7  A2AY4YUOX2N1BQ      311\n",
       "8   AWPODHOB4GFWL      308\n",
       "9   ARBKYIVNYWK3C      296"
      ]
     },
     "execution_count": 19,
     "metadata": {},
     "output_type": "execute_result"
    },
    {
     "name": "stdout",
     "output_type": "stream",
     "text": [
      "These are the top 10 users based on number of ratings given\n"
     ]
    }
   ],
   "source": [
    "ratings_counts=electronics_ratings_df['userId'].value_counts().rename_axis('userId').reset_index(name='ratings')\n",
    "ratings_counts[:10]\n",
    "print(\"These are the top 10 users based on number of ratings given\")"
   ]
  },
  {
   "cell_type": "code",
   "execution_count": 20,
   "metadata": {},
   "outputs": [
    {
     "data": {
      "text/html": [
       "<div>\n",
       "<style scoped>\n",
       "    .dataframe tbody tr th:only-of-type {\n",
       "        vertical-align: middle;\n",
       "    }\n",
       "\n",
       "    .dataframe tbody tr th {\n",
       "        vertical-align: top;\n",
       "    }\n",
       "\n",
       "    .dataframe thead th {\n",
       "        text-align: right;\n",
       "    }\n",
       "</style>\n",
       "<table border=\"1\" class=\"dataframe\">\n",
       "  <thead>\n",
       "    <tr style=\"text-align: right;\">\n",
       "      <th></th>\n",
       "      <th>userId</th>\n",
       "      <th>ratings</th>\n",
       "    </tr>\n",
       "  </thead>\n",
       "  <tbody>\n",
       "    <tr>\n",
       "      <th>4201686</th>\n",
       "      <td>A3UALPMZ157V7Z</td>\n",
       "      <td>1</td>\n",
       "    </tr>\n",
       "    <tr>\n",
       "      <th>4201687</th>\n",
       "      <td>A1CI55DFLV6LE</td>\n",
       "      <td>1</td>\n",
       "    </tr>\n",
       "    <tr>\n",
       "      <th>4201688</th>\n",
       "      <td>A18ADSD3OOF7AC</td>\n",
       "      <td>1</td>\n",
       "    </tr>\n",
       "    <tr>\n",
       "      <th>4201689</th>\n",
       "      <td>A23KV2EPEKB5G5</td>\n",
       "      <td>1</td>\n",
       "    </tr>\n",
       "    <tr>\n",
       "      <th>4201690</th>\n",
       "      <td>A1YAAQ4WCH3ALW</td>\n",
       "      <td>1</td>\n",
       "    </tr>\n",
       "    <tr>\n",
       "      <th>4201691</th>\n",
       "      <td>A28STMXBTDQC2L</td>\n",
       "      <td>1</td>\n",
       "    </tr>\n",
       "    <tr>\n",
       "      <th>4201692</th>\n",
       "      <td>A1PZRZBOY4X8NV</td>\n",
       "      <td>1</td>\n",
       "    </tr>\n",
       "    <tr>\n",
       "      <th>4201693</th>\n",
       "      <td>A23NHKGPJQNQAK</td>\n",
       "      <td>1</td>\n",
       "    </tr>\n",
       "    <tr>\n",
       "      <th>4201694</th>\n",
       "      <td>AJF9TFCNLLY56</td>\n",
       "      <td>1</td>\n",
       "    </tr>\n",
       "    <tr>\n",
       "      <th>4201695</th>\n",
       "      <td>AJHYMVABKPTQ6</td>\n",
       "      <td>1</td>\n",
       "    </tr>\n",
       "  </tbody>\n",
       "</table>\n",
       "</div>"
      ],
      "text/plain": [
       "                 userId  ratings\n",
       "4201686  A3UALPMZ157V7Z        1\n",
       "4201687   A1CI55DFLV6LE        1\n",
       "4201688  A18ADSD3OOF7AC        1\n",
       "4201689  A23KV2EPEKB5G5        1\n",
       "4201690  A1YAAQ4WCH3ALW        1\n",
       "4201691  A28STMXBTDQC2L        1\n",
       "4201692  A1PZRZBOY4X8NV        1\n",
       "4201693  A23NHKGPJQNQAK        1\n",
       "4201694   AJF9TFCNLLY56        1\n",
       "4201695   AJHYMVABKPTQ6        1"
      ]
     },
     "execution_count": 20,
     "metadata": {},
     "output_type": "execute_result"
    },
    {
     "name": "stdout",
     "output_type": "stream",
     "text": [
      "These are the last 10 users based on ratings given. These have given ratings only once \n"
     ]
    }
   ],
   "source": [
    "ratings_counts[-10:]\n",
    "print(\"These are the last 10 users based on ratings given. These have given ratings only once \")"
   ]
  },
  {
   "cell_type": "markdown",
   "metadata": {},
   "source": [
    "#### if we have a user with only one rating ,we might be able to recommend some items but these recommendations might not be correct for that user."
   ]
  },
  {
   "cell_type": "code",
   "execution_count": 21,
   "metadata": {},
   "outputs": [
    {
     "data": {
      "text/plain": [
       "<pandas.core.groupby.generic.DataFrameGroupBy object at 0x000001E35AEAA7B8>"
      ]
     },
     "execution_count": 21,
     "metadata": {},
     "output_type": "execute_result"
    }
   ],
   "source": [
    "ratings_counts.groupby('ratings')"
   ]
  },
  {
   "cell_type": "markdown",
   "metadata": {},
   "source": [
    "### Users only who has given 50 or more number of ratings"
   ]
  },
  {
   "cell_type": "code",
   "execution_count": 22,
   "metadata": {},
   "outputs": [],
   "source": [
    "#users_ratings_count = pd.DataFrame(electronics_ratings_df[['userId', 'ratings']].groupby('userId').count())\n",
    "#well_rated_df = users_ratings_count[users_ratings_count.apply(lambda x: x['ratings'] >= 50, axis='columns')]"
   ]
  },
  {
   "cell_type": "code",
   "execution_count": 23,
   "metadata": {},
   "outputs": [
    {
     "name": "stdout",
     "output_type": "stream",
     "text": [
      "Users who have rated 50 or more products : 1540\n",
      "Users dropped      : 4200156\n",
      "Items remaining    : 48190\n",
      "Items dropped      : 427812\n"
     ]
    }
   ],
   "source": [
    "# Drop the users who have rated less than 50 products , Finding count user and items remaining\n",
    "well_rated_electronics_ratings_df = electronics_ratings_df[electronics_ratings_df.userId.isin(ratings_counts[ratings_counts['ratings'] >= 50].userId)]\n",
    "print('Users who have rated 50 or more products :', well_rated_electronics_ratings_df.userId.nunique())\n",
    "print('Users dropped      :', electronics_ratings_df.userId.nunique() - well_rated_electronics_ratings_df.userId.nunique())\n",
    "print('Items remaining    :', well_rated_electronics_ratings_df.productId.nunique())\n",
    "print('Items dropped      :', electronics_ratings_df.productId.nunique() - well_rated_electronics_ratings_df.productId.nunique())"
   ]
  },
  {
   "cell_type": "code",
   "execution_count": 24,
   "metadata": {},
   "outputs": [
    {
     "name": "stdout",
     "output_type": "stream",
     "text": [
      "\n",
      "Final shape of the dataset : (125871, 3)\n"
     ]
    }
   ],
   "source": [
    "print('\\nFinal shape of the dataset :', well_rated_electronics_ratings_df.shape)"
   ]
  },
  {
   "cell_type": "markdown",
   "metadata": {},
   "source": [
    "#### 1540 unique users with 50 or more ratings\n",
    "#### This has made or dataset more dense"
   ]
  },
  {
   "cell_type": "markdown",
   "metadata": {},
   "source": [
    "### Split the data randomly into train and test dataset"
   ]
  },
  {
   "cell_type": "code",
   "execution_count": 25,
   "metadata": {},
   "outputs": [],
   "source": [
    "from sklearn.model_selection import train_test_split as train_test_split_sklearn\n",
    "trainsetDf, testsetDf = train_test_split_sklearn(well_rated_electronics_ratings_df, test_size=.3,random_state=10)"
   ]
  },
  {
   "cell_type": "code",
   "execution_count": 26,
   "metadata": {},
   "outputs": [
    {
     "name": "stdout",
     "output_type": "stream",
     "text": [
      "Shape of the training set  : (88109, 3)\n",
      "Shape of the test set      : (37762, 3)\n"
     ]
    }
   ],
   "source": [
    "print('Shape of the training set  :', trainsetDf.shape)\n",
    "print('Shape of the test set      :', testsetDf.shape)"
   ]
  },
  {
   "cell_type": "markdown",
   "metadata": {},
   "source": [
    "### Build Popularity Recommender model"
   ]
  },
  {
   "cell_type": "markdown",
   "metadata": {},
   "source": [
    "#### Model 1 based on UserId count for each unique product , This method doesn't consider the the quality of the ratings recieved, rather just counts how many ratings are present for each product. "
   ]
  },
  {
   "cell_type": "code",
   "execution_count": 27,
   "metadata": {},
   "outputs": [],
   "source": [
    "# Get top - K ( K = 5) recommendations\n",
    "def popularProducts(data,K = 5) : \n",
    "        agg_func=dict(userId='count')\n",
    "        data_grouped = trainsetDf.groupby('productId').agg(agg_func).reset_index()\n",
    "        data_grouped.rename(columns = {'userId': 'score'},inplace=True)\n",
    "        #Sort based upon recommendation score\n",
    "        data_sorted = data_grouped.sort_values(['score', 'productId'], ascending = [0,1])\n",
    "        #Generate a recommendation rank based upon score\n",
    "        data_sorted['Rank'] = data_sorted['score'].rank(ascending=0, method='first')\n",
    "\n",
    "        #Get the top k recommendations\n",
    "        return data_sorted.head(K)\n",
    "        "
   ]
  },
  {
   "cell_type": "code",
   "execution_count": null,
   "metadata": {},
   "outputs": [],
   "source": []
  },
  {
   "cell_type": "code",
   "execution_count": 28,
   "metadata": {},
   "outputs": [
    {
     "data": {
      "text/html": [
       "<div>\n",
       "<style scoped>\n",
       "    .dataframe tbody tr th:only-of-type {\n",
       "        vertical-align: middle;\n",
       "    }\n",
       "\n",
       "    .dataframe tbody tr th {\n",
       "        vertical-align: top;\n",
       "    }\n",
       "\n",
       "    .dataframe thead th {\n",
       "        text-align: right;\n",
       "    }\n",
       "</style>\n",
       "<table border=\"1\" class=\"dataframe\">\n",
       "  <thead>\n",
       "    <tr style=\"text-align: right;\">\n",
       "      <th></th>\n",
       "      <th>productId</th>\n",
       "      <th>score</th>\n",
       "      <th>Rank</th>\n",
       "    </tr>\n",
       "  </thead>\n",
       "  <tbody>\n",
       "    <tr>\n",
       "      <th>30874</th>\n",
       "      <td>B0088CJT4U</td>\n",
       "      <td>142</td>\n",
       "      <td>1.0</td>\n",
       "    </tr>\n",
       "    <tr>\n",
       "      <th>19570</th>\n",
       "      <td>B003ES5ZUU</td>\n",
       "      <td>134</td>\n",
       "      <td>2.0</td>\n",
       "    </tr>\n",
       "    <tr>\n",
       "      <th>30273</th>\n",
       "      <td>B007WTAJTO</td>\n",
       "      <td>126</td>\n",
       "      <td>3.0</td>\n",
       "    </tr>\n",
       "    <tr>\n",
       "      <th>8700</th>\n",
       "      <td>B000N99BBC</td>\n",
       "      <td>117</td>\n",
       "      <td>4.0</td>\n",
       "    </tr>\n",
       "    <tr>\n",
       "      <th>30561</th>\n",
       "      <td>B00829TIEK</td>\n",
       "      <td>104</td>\n",
       "      <td>5.0</td>\n",
       "    </tr>\n",
       "  </tbody>\n",
       "</table>\n",
       "</div>"
      ],
      "text/plain": [
       "        productId  score  Rank\n",
       "30874  B0088CJT4U    142   1.0\n",
       "19570  B003ES5ZUU    134   2.0\n",
       "30273  B007WTAJTO    126   3.0\n",
       "8700   B000N99BBC    117   4.0\n",
       "30561  B00829TIEK    104   5.0"
      ]
     },
     "execution_count": 28,
     "metadata": {},
     "output_type": "execute_result"
    }
   ],
   "source": [
    "topReccomendedProducts =popularProducts(trainsetDf)\n",
    "topReccomendedProducts"
   ]
  },
  {
   "cell_type": "markdown",
   "metadata": {},
   "source": [
    "### Top five Trending or popular items are as above"
   ]
  },
  {
   "cell_type": "code",
   "execution_count": 29,
   "metadata": {},
   "outputs": [],
   "source": [
    "# To suggest top 5 trending items to a particular user \n",
    "def recommendPopularItems(userId):\n",
    "    print(\"%s User is reccomended below popular Items\"%userId)\n",
    "    topReccomendedProducts =popularProducts(trainsetDf)\n",
    "    topReccomendedProducts['userId'] = userId\n",
    "    return topReccomendedProducts"
   ]
  },
  {
   "cell_type": "code",
   "execution_count": 30,
   "metadata": {},
   "outputs": [],
   "source": [
    "users = testsetDf['userId'].unique()"
   ]
  },
  {
   "cell_type": "code",
   "execution_count": 31,
   "metadata": {},
   "outputs": [
    {
     "name": "stdout",
     "output_type": "stream",
     "text": [
      "A3VONQL7YW8UPM User is reccomended below popular Items\n"
     ]
    },
    {
     "data": {
      "text/html": [
       "<div>\n",
       "<style scoped>\n",
       "    .dataframe tbody tr th:only-of-type {\n",
       "        vertical-align: middle;\n",
       "    }\n",
       "\n",
       "    .dataframe tbody tr th {\n",
       "        vertical-align: top;\n",
       "    }\n",
       "\n",
       "    .dataframe thead th {\n",
       "        text-align: right;\n",
       "    }\n",
       "</style>\n",
       "<table border=\"1\" class=\"dataframe\">\n",
       "  <thead>\n",
       "    <tr style=\"text-align: right;\">\n",
       "      <th></th>\n",
       "      <th>productId</th>\n",
       "      <th>score</th>\n",
       "      <th>Rank</th>\n",
       "      <th>userId</th>\n",
       "    </tr>\n",
       "  </thead>\n",
       "  <tbody>\n",
       "    <tr>\n",
       "      <th>30874</th>\n",
       "      <td>B0088CJT4U</td>\n",
       "      <td>142</td>\n",
       "      <td>1.0</td>\n",
       "      <td>A3VONQL7YW8UPM</td>\n",
       "    </tr>\n",
       "    <tr>\n",
       "      <th>19570</th>\n",
       "      <td>B003ES5ZUU</td>\n",
       "      <td>134</td>\n",
       "      <td>2.0</td>\n",
       "      <td>A3VONQL7YW8UPM</td>\n",
       "    </tr>\n",
       "    <tr>\n",
       "      <th>30273</th>\n",
       "      <td>B007WTAJTO</td>\n",
       "      <td>126</td>\n",
       "      <td>3.0</td>\n",
       "      <td>A3VONQL7YW8UPM</td>\n",
       "    </tr>\n",
       "    <tr>\n",
       "      <th>8700</th>\n",
       "      <td>B000N99BBC</td>\n",
       "      <td>117</td>\n",
       "      <td>4.0</td>\n",
       "      <td>A3VONQL7YW8UPM</td>\n",
       "    </tr>\n",
       "    <tr>\n",
       "      <th>30561</th>\n",
       "      <td>B00829TIEK</td>\n",
       "      <td>104</td>\n",
       "      <td>5.0</td>\n",
       "      <td>A3VONQL7YW8UPM</td>\n",
       "    </tr>\n",
       "  </tbody>\n",
       "</table>\n",
       "</div>"
      ],
      "text/plain": [
       "        productId  score  Rank          userId\n",
       "30874  B0088CJT4U    142   1.0  A3VONQL7YW8UPM\n",
       "19570  B003ES5ZUU    134   2.0  A3VONQL7YW8UPM\n",
       "30273  B007WTAJTO    126   3.0  A3VONQL7YW8UPM\n",
       "8700   B000N99BBC    117   4.0  A3VONQL7YW8UPM\n",
       "30561  B00829TIEK    104   5.0  A3VONQL7YW8UPM"
      ]
     },
     "execution_count": 31,
     "metadata": {},
     "output_type": "execute_result"
    }
   ],
   "source": [
    "user_id = users[10]\n",
    "recommendPopularItems(user_id)"
   ]
  },
  {
   "cell_type": "markdown",
   "metadata": {},
   "source": [
    "#### Model 2: sum of ratings for each unique product , this method will sum ratings for each product and then recommend products with highest sum. This model is better than Model 1. Producst with highest sum will be displayed first"
   ]
  },
  {
   "cell_type": "code",
   "execution_count": 32,
   "metadata": {},
   "outputs": [],
   "source": [
    "# Get top - K ( K = 5) recommendations\n",
    "def popularProductsM2(data,K = 5) : \n",
    "        agg_func=dict(ratings='sum')\n",
    "        data_grouped = trainsetDf.groupby('productId').agg(agg_func).reset_index()\n",
    "        data_grouped.rename(columns = {'ratings': 'score'},inplace=True)\n",
    "        #Sort based upon recommendation score\n",
    "        data_sorted = data_grouped.sort_values(['score', 'productId'], ascending = [0,1])\n",
    "        #Generate a recommendation rank based upon score\n",
    "        data_sorted['Rank'] = data_sorted['score'].rank(ascending=0, method='first')\n",
    "\n",
    "        #Get the top k recommendations\n",
    "        return data_sorted.head(K)\n",
    "    \n",
    "# To suggest top 5 trending items to a particular user \n",
    "def recommendPopularItemsM2(userId):\n",
    "    print(\"%s User is reccomended below popular Items\"%userId)\n",
    "    topReccomendedProducts =popularProductsM2(trainsetDf)\n",
    "    topReccomendedProducts['userId'] = userId\n",
    "    return topReccomendedProducts\n",
    "        "
   ]
  },
  {
   "cell_type": "code",
   "execution_count": 33,
   "metadata": {},
   "outputs": [
    {
     "name": "stdout",
     "output_type": "stream",
     "text": [
      "A3VONQL7YW8UPM User is reccomended below popular Items\n"
     ]
    },
    {
     "data": {
      "text/html": [
       "<div>\n",
       "<style scoped>\n",
       "    .dataframe tbody tr th:only-of-type {\n",
       "        vertical-align: middle;\n",
       "    }\n",
       "\n",
       "    .dataframe tbody tr th {\n",
       "        vertical-align: top;\n",
       "    }\n",
       "\n",
       "    .dataframe thead th {\n",
       "        text-align: right;\n",
       "    }\n",
       "</style>\n",
       "<table border=\"1\" class=\"dataframe\">\n",
       "  <thead>\n",
       "    <tr style=\"text-align: right;\">\n",
       "      <th></th>\n",
       "      <th>productId</th>\n",
       "      <th>score</th>\n",
       "      <th>Rank</th>\n",
       "      <th>userId</th>\n",
       "    </tr>\n",
       "  </thead>\n",
       "  <tbody>\n",
       "    <tr>\n",
       "      <th>19570</th>\n",
       "      <td>B003ES5ZUU</td>\n",
       "      <td>652.0</td>\n",
       "      <td>1.0</td>\n",
       "      <td>A3VONQL7YW8UPM</td>\n",
       "    </tr>\n",
       "    <tr>\n",
       "      <th>30273</th>\n",
       "      <td>B007WTAJTO</td>\n",
       "      <td>594.0</td>\n",
       "      <td>2.0</td>\n",
       "      <td>A3VONQL7YW8UPM</td>\n",
       "    </tr>\n",
       "    <tr>\n",
       "      <th>30874</th>\n",
       "      <td>B0088CJT4U</td>\n",
       "      <td>591.0</td>\n",
       "      <td>3.0</td>\n",
       "      <td>A3VONQL7YW8UPM</td>\n",
       "    </tr>\n",
       "    <tr>\n",
       "      <th>8700</th>\n",
       "      <td>B000N99BBC</td>\n",
       "      <td>560.0</td>\n",
       "      <td>4.0</td>\n",
       "      <td>A3VONQL7YW8UPM</td>\n",
       "    </tr>\n",
       "    <tr>\n",
       "      <th>30561</th>\n",
       "      <td>B00829TIEK</td>\n",
       "      <td>460.0</td>\n",
       "      <td>5.0</td>\n",
       "      <td>A3VONQL7YW8UPM</td>\n",
       "    </tr>\n",
       "  </tbody>\n",
       "</table>\n",
       "</div>"
      ],
      "text/plain": [
       "        productId  score  Rank          userId\n",
       "19570  B003ES5ZUU  652.0   1.0  A3VONQL7YW8UPM\n",
       "30273  B007WTAJTO  594.0   2.0  A3VONQL7YW8UPM\n",
       "30874  B0088CJT4U  591.0   3.0  A3VONQL7YW8UPM\n",
       "8700   B000N99BBC  560.0   4.0  A3VONQL7YW8UPM\n",
       "30561  B00829TIEK  460.0   5.0  A3VONQL7YW8UPM"
      ]
     },
     "execution_count": 33,
     "metadata": {},
     "output_type": "execute_result"
    }
   ],
   "source": [
    "user_id = users[10]\n",
    "recommendPopularItemsM2(user_id)"
   ]
  },
  {
   "cell_type": "markdown",
   "metadata": {},
   "source": [
    "### Build Collaborative Filtering model\n",
    "\n",
    "#### Idea:\n",
    "If a person A likes items 1, 2, 3 and B like 2,3,4 then they have similar interests and\n",
    "A should like item\n",
    "4 and B should like item 1.\n",
    "This algorithm is entirely based on the past behavior and not on the context.\n",
    "This makes it one of the\n",
    "most commonly used algorithm as it is not dependent on any additional\n",
    "information.\n",
    "\n",
    "#### Basic assumptions:\n",
    "- Customers who had similar tastes in the past, will have similar tastes in the future\n",
    "- Users give ratings to catalog items (implicitly or explicitly) \n",
    "\n",
    "\n",
    "#### Examples : \n",
    "Product recommendations by e commerce player like Amazon and merchant recommendations by banks like\n",
    "American Express.\n",
    "\n",
    "\n",
    "#### Types of Collaborative Filtering (Nearest Neighborhood approach) : \n",
    "- Item Based Collaborative Filtering (IBCF)\n",
    "    - Compute similarity between Items\n",
    "- User Based Collaborative Filtering (UBCF)\n",
    "    - Compute similarity between Users\n",
    "    \n",
    "Item Based Collaborative Filtering (IBCF) is more efficient than User Based Collaborative Filtering (UBCF) because Typical applications involve far more Users than Items.Similarity estimates between items is also more likely to converge over time than similarity between users. Hence the similarities can be pre computed and cached unlike similarity between users that need to be dynamically computed at every certain interval.\n",
    "\n",
    "#### Matrix Factorization based Collaborative Filtering :\n",
    "Identify latent (hidden) features from the input user x itemRatings matrix to represent users and items as vectors in N dimensional space.\n",
    "\n",
    "Singular Value Decomposition (SVD)\n",
    "Singular Value Decomposition (SVD) can be used to decompose any given Matrix, M into a product of 3 matrices as follows:$$M=U\\times\\sum\\times{}V^T$$Where:\n",
    "\n",
    "$U$: Left Singular Matrix\n",
    "$V$: Right Singular Matrix\n",
    "$\\sum$: Diagonal Matrix of Latent Factors, and the values of the diagonal of $\\sum$ are called the singular values\n",
    "The matrix can be approximated to a lower rank by considering only the largest singular values.\n",
    "\n"
   ]
  },
  {
   "cell_type": "code",
   "execution_count": 34,
   "metadata": {},
   "outputs": [],
   "source": [
    "### Due to memory issue considering only 25000 records, Since our rating scale is 1-5 which is also the default rating for Surprise reader package\n",
    "from surprise import Reader, Dataset\n",
    "reader = Reader()\n",
    "surprise_ratings_df = Dataset.load_from_df(well_rated_electronics_ratings_df.head(25000), reader)"
   ]
  },
  {
   "cell_type": "code",
   "execution_count": 35,
   "metadata": {},
   "outputs": [],
   "source": [
    "from surprise.model_selection import train_test_split\n",
    "\n",
    "trainset, testset = train_test_split(surprise_ratings_df, test_size=0.30,random_state=10)"
   ]
  },
  {
   "cell_type": "code",
   "execution_count": 36,
   "metadata": {},
   "outputs": [
    {
     "name": "stdout",
     "output_type": "stream",
     "text": [
      "Estimating biases using als...\n",
      "Computing the pearson_baseline similarity matrix...\n",
      "Done computing similarity matrix.\n"
     ]
    },
    {
     "data": {
      "text/plain": [
       "<surprise.prediction_algorithms.knns.KNNWithMeans at 0x1e3039c0978>"
      ]
     },
     "execution_count": 36,
     "metadata": {},
     "output_type": "execute_result"
    }
   ],
   "source": [
    "# Use user_based true/false to switch between user-based or item-based collaborative filtering\n",
    "algo = KNNWithMeans(k=5, sim_options={'name': 'pearson_baseline', 'user_based': False})\n",
    "algo.fit(trainset)"
   ]
  },
  {
   "cell_type": "markdown",
   "metadata": {},
   "source": [
    "### Evaluating Item Based Collaborative Filtering (IBCF) model"
   ]
  },
  {
   "cell_type": "code",
   "execution_count": 37,
   "metadata": {},
   "outputs": [],
   "source": [
    "# run the trained model against the testset\n",
    "test_pred = algo.test(testset)"
   ]
  },
  {
   "cell_type": "code",
   "execution_count": 38,
   "metadata": {},
   "outputs": [],
   "source": [
    "# convert results to dataframe\n",
    "test_pred_df = pd.DataFrame(test_pred)\n",
    "test_pred_df[\"was_impossible\"] = [x[\"was_impossible\"] for x in test_pred_df[\"details\"]]\n",
    "# Sort in descending order\n",
    "test_pred_df.sort_values(by=['uid','est'], ascending=False, inplace=True)"
   ]
  },
  {
   "cell_type": "code",
   "execution_count": 39,
   "metadata": {},
   "outputs": [
    {
     "data": {
      "text/html": [
       "<div>\n",
       "<style scoped>\n",
       "    .dataframe tbody tr th:only-of-type {\n",
       "        vertical-align: middle;\n",
       "    }\n",
       "\n",
       "    .dataframe tbody tr th {\n",
       "        vertical-align: top;\n",
       "    }\n",
       "\n",
       "    .dataframe thead th {\n",
       "        text-align: right;\n",
       "    }\n",
       "</style>\n",
       "<table border=\"1\" class=\"dataframe\">\n",
       "  <thead>\n",
       "    <tr style=\"text-align: right;\">\n",
       "      <th></th>\n",
       "      <th>uid</th>\n",
       "      <th>iid</th>\n",
       "      <th>r_ui</th>\n",
       "      <th>est</th>\n",
       "      <th>details</th>\n",
       "      <th>was_impossible</th>\n",
       "    </tr>\n",
       "  </thead>\n",
       "  <tbody>\n",
       "    <tr>\n",
       "      <th>6071</th>\n",
       "      <td>AZOK5STV85FBJ</td>\n",
       "      <td>B000GL3MOY</td>\n",
       "      <td>5.0</td>\n",
       "      <td>5.000000</td>\n",
       "      <td>{'actual_k': 0, 'was_impossible': False}</td>\n",
       "      <td>False</td>\n",
       "    </tr>\n",
       "    <tr>\n",
       "      <th>5792</th>\n",
       "      <td>AZOK5STV85FBJ</td>\n",
       "      <td>B00003006E</td>\n",
       "      <td>5.0</td>\n",
       "      <td>4.333333</td>\n",
       "      <td>{'actual_k': 0, 'was_impossible': False}</td>\n",
       "      <td>False</td>\n",
       "    </tr>\n",
       "    <tr>\n",
       "      <th>452</th>\n",
       "      <td>AZOK5STV85FBJ</td>\n",
       "      <td>B000EDMPQK</td>\n",
       "      <td>5.0</td>\n",
       "      <td>4.262114</td>\n",
       "      <td>{'was_impossible': True, 'reason': 'User and/o...</td>\n",
       "      <td>True</td>\n",
       "    </tr>\n",
       "    <tr>\n",
       "      <th>674</th>\n",
       "      <td>AZOK5STV85FBJ</td>\n",
       "      <td>B000NNQO8Q</td>\n",
       "      <td>5.0</td>\n",
       "      <td>4.262114</td>\n",
       "      <td>{'was_impossible': True, 'reason': 'User and/o...</td>\n",
       "      <td>True</td>\n",
       "    </tr>\n",
       "    <tr>\n",
       "      <th>2477</th>\n",
       "      <td>AZOK5STV85FBJ</td>\n",
       "      <td>B000CQQ092</td>\n",
       "      <td>3.0</td>\n",
       "      <td>4.262114</td>\n",
       "      <td>{'was_impossible': True, 'reason': 'User and/o...</td>\n",
       "      <td>True</td>\n",
       "    </tr>\n",
       "  </tbody>\n",
       "</table>\n",
       "</div>"
      ],
      "text/plain": [
       "                uid         iid  r_ui       est  \\\n",
       "6071  AZOK5STV85FBJ  B000GL3MOY   5.0  5.000000   \n",
       "5792  AZOK5STV85FBJ  B00003006E   5.0  4.333333   \n",
       "452   AZOK5STV85FBJ  B000EDMPQK   5.0  4.262114   \n",
       "674   AZOK5STV85FBJ  B000NNQO8Q   5.0  4.262114   \n",
       "2477  AZOK5STV85FBJ  B000CQQ092   3.0  4.262114   \n",
       "\n",
       "                                                details  was_impossible  \n",
       "6071           {'actual_k': 0, 'was_impossible': False}           False  \n",
       "5792           {'actual_k': 0, 'was_impossible': False}           False  \n",
       "452   {'was_impossible': True, 'reason': 'User and/o...            True  \n",
       "674   {'was_impossible': True, 'reason': 'User and/o...            True  \n",
       "2477  {'was_impossible': True, 'reason': 'User and/o...            True  "
      ]
     },
     "execution_count": 39,
     "metadata": {},
     "output_type": "execute_result"
    }
   ],
   "source": [
    "test_pred_df.head()"
   ]
  },
  {
   "cell_type": "code",
   "execution_count": 40,
   "metadata": {},
   "outputs": [
    {
     "data": {
      "text/html": [
       "<div>\n",
       "<style scoped>\n",
       "    .dataframe tbody tr th:only-of-type {\n",
       "        vertical-align: middle;\n",
       "    }\n",
       "\n",
       "    .dataframe tbody tr th {\n",
       "        vertical-align: top;\n",
       "    }\n",
       "\n",
       "    .dataframe thead th {\n",
       "        text-align: right;\n",
       "    }\n",
       "</style>\n",
       "<table border=\"1\" class=\"dataframe\">\n",
       "  <thead>\n",
       "    <tr style=\"text-align: right;\">\n",
       "      <th></th>\n",
       "      <th>uid</th>\n",
       "      <th>iid</th>\n",
       "      <th>r_ui</th>\n",
       "      <th>est</th>\n",
       "      <th>details</th>\n",
       "      <th>was_impossible</th>\n",
       "    </tr>\n",
       "  </thead>\n",
       "  <tbody>\n",
       "    <tr>\n",
       "      <th>2471</th>\n",
       "      <td>A100UD67AHFODS</td>\n",
       "      <td>B000OMKR8E</td>\n",
       "      <td>2.0</td>\n",
       "      <td>4.500000</td>\n",
       "      <td>{'actual_k': 0, 'was_impossible': False}</td>\n",
       "      <td>False</td>\n",
       "    </tr>\n",
       "    <tr>\n",
       "      <th>6696</th>\n",
       "      <td>A100UD67AHFODS</td>\n",
       "      <td>B0002KVQBA</td>\n",
       "      <td>5.0</td>\n",
       "      <td>4.500000</td>\n",
       "      <td>{'actual_k': 0, 'was_impossible': False}</td>\n",
       "      <td>False</td>\n",
       "    </tr>\n",
       "    <tr>\n",
       "      <th>518</th>\n",
       "      <td>A100UD67AHFODS</td>\n",
       "      <td>B00005T3X7</td>\n",
       "      <td>5.0</td>\n",
       "      <td>4.262114</td>\n",
       "      <td>{'was_impossible': True, 'reason': 'User and/o...</td>\n",
       "      <td>True</td>\n",
       "    </tr>\n",
       "    <tr>\n",
       "      <th>503</th>\n",
       "      <td>A100UD67AHFODS</td>\n",
       "      <td>B000RYS3S0</td>\n",
       "      <td>3.0</td>\n",
       "      <td>3.000000</td>\n",
       "      <td>{'actual_k': 0, 'was_impossible': False}</td>\n",
       "      <td>False</td>\n",
       "    </tr>\n",
       "    <tr>\n",
       "      <th>6943</th>\n",
       "      <td>A100UD67AHFODS</td>\n",
       "      <td>B000J0072M</td>\n",
       "      <td>3.0</td>\n",
       "      <td>3.000000</td>\n",
       "      <td>{'actual_k': 0, 'was_impossible': False}</td>\n",
       "      <td>False</td>\n",
       "    </tr>\n",
       "  </tbody>\n",
       "</table>\n",
       "</div>"
      ],
      "text/plain": [
       "                 uid         iid  r_ui       est  \\\n",
       "2471  A100UD67AHFODS  B000OMKR8E   2.0  4.500000   \n",
       "6696  A100UD67AHFODS  B0002KVQBA   5.0  4.500000   \n",
       "518   A100UD67AHFODS  B00005T3X7   5.0  4.262114   \n",
       "503   A100UD67AHFODS  B000RYS3S0   3.0  3.000000   \n",
       "6943  A100UD67AHFODS  B000J0072M   3.0  3.000000   \n",
       "\n",
       "                                                details  was_impossible  \n",
       "2471           {'actual_k': 0, 'was_impossible': False}           False  \n",
       "6696           {'actual_k': 0, 'was_impossible': False}           False  \n",
       "518   {'was_impossible': True, 'reason': 'User and/o...            True  \n",
       "503            {'actual_k': 0, 'was_impossible': False}           False  \n",
       "6943           {'actual_k': 0, 'was_impossible': False}           False  "
      ]
     },
     "execution_count": 40,
     "metadata": {},
     "output_type": "execute_result"
    }
   ],
   "source": [
    "test_pred_df.tail()"
   ]
  },
  {
   "cell_type": "markdown",
   "metadata": {},
   "source": [
    "#### Algo is not able to find 5 neighbours for each user that is why se see \"was_impossible': True\" in some records, So we will filter these records"
   ]
  },
  {
   "cell_type": "code",
   "execution_count": 41,
   "metadata": {},
   "outputs": [
    {
     "data": {
      "text/html": [
       "<div>\n",
       "<style scoped>\n",
       "    .dataframe tbody tr th:only-of-type {\n",
       "        vertical-align: middle;\n",
       "    }\n",
       "\n",
       "    .dataframe tbody tr th {\n",
       "        vertical-align: top;\n",
       "    }\n",
       "\n",
       "    .dataframe thead th {\n",
       "        text-align: right;\n",
       "    }\n",
       "</style>\n",
       "<table border=\"1\" class=\"dataframe\">\n",
       "  <thead>\n",
       "    <tr style=\"text-align: right;\">\n",
       "      <th></th>\n",
       "      <th>uid</th>\n",
       "      <th>iid</th>\n",
       "      <th>r_ui</th>\n",
       "      <th>est</th>\n",
       "      <th>details</th>\n",
       "      <th>was_impossible</th>\n",
       "    </tr>\n",
       "  </thead>\n",
       "  <tbody>\n",
       "    <tr>\n",
       "      <th>6071</th>\n",
       "      <td>AZOK5STV85FBJ</td>\n",
       "      <td>B000GL3MOY</td>\n",
       "      <td>5.0</td>\n",
       "      <td>5.000000</td>\n",
       "      <td>{'actual_k': 0, 'was_impossible': False}</td>\n",
       "      <td>False</td>\n",
       "    </tr>\n",
       "    <tr>\n",
       "      <th>5792</th>\n",
       "      <td>AZOK5STV85FBJ</td>\n",
       "      <td>B00003006E</td>\n",
       "      <td>5.0</td>\n",
       "      <td>4.333333</td>\n",
       "      <td>{'actual_k': 0, 'was_impossible': False}</td>\n",
       "      <td>False</td>\n",
       "    </tr>\n",
       "    <tr>\n",
       "      <th>5415</th>\n",
       "      <td>AZNUHQSHZHSUE</td>\n",
       "      <td>B000N99BBC</td>\n",
       "      <td>5.0</td>\n",
       "      <td>5.000000</td>\n",
       "      <td>{'actual_k': 1, 'was_impossible': False}</td>\n",
       "      <td>False</td>\n",
       "    </tr>\n",
       "    <tr>\n",
       "      <th>921</th>\n",
       "      <td>AZNUHQSHZHSUE</td>\n",
       "      <td>B00006B7DA</td>\n",
       "      <td>5.0</td>\n",
       "      <td>4.602787</td>\n",
       "      <td>{'actual_k': 1, 'was_impossible': False}</td>\n",
       "      <td>False</td>\n",
       "    </tr>\n",
       "    <tr>\n",
       "      <th>1907</th>\n",
       "      <td>AZMY6E8B52L2T</td>\n",
       "      <td>B000A0CV9S</td>\n",
       "      <td>5.0</td>\n",
       "      <td>5.000000</td>\n",
       "      <td>{'actual_k': 0, 'was_impossible': False}</td>\n",
       "      <td>False</td>\n",
       "    </tr>\n",
       "  </tbody>\n",
       "</table>\n",
       "</div>"
      ],
      "text/plain": [
       "                uid         iid  r_ui       est  \\\n",
       "6071  AZOK5STV85FBJ  B000GL3MOY   5.0  5.000000   \n",
       "5792  AZOK5STV85FBJ  B00003006E   5.0  4.333333   \n",
       "5415  AZNUHQSHZHSUE  B000N99BBC   5.0  5.000000   \n",
       "921   AZNUHQSHZHSUE  B00006B7DA   5.0  4.602787   \n",
       "1907  AZMY6E8B52L2T  B000A0CV9S   5.0  5.000000   \n",
       "\n",
       "                                       details  was_impossible  \n",
       "6071  {'actual_k': 0, 'was_impossible': False}           False  \n",
       "5792  {'actual_k': 0, 'was_impossible': False}           False  \n",
       "5415  {'actual_k': 1, 'was_impossible': False}           False  \n",
       "921   {'actual_k': 1, 'was_impossible': False}           False  \n",
       "1907  {'actual_k': 0, 'was_impossible': False}           False  "
      ]
     },
     "execution_count": 41,
     "metadata": {},
     "output_type": "execute_result"
    }
   ],
   "source": [
    "test_pred_df = test_pred_df.loc[~test_pred_df.was_impossible]\n",
    "test_pred_df.head()"
   ]
  },
  {
   "cell_type": "markdown",
   "metadata": {},
   "source": [
    "### Item Based Collaborative Filtering (IBCF) - RMSE"
   ]
  },
  {
   "cell_type": "code",
   "execution_count": 42,
   "metadata": {},
   "outputs": [
    {
     "name": "stdout",
     "output_type": "stream",
     "text": [
      "Item Based Collaborative Filtering (IBCF) Model : Test Set\n",
      "RMSE: 1.2177\n"
     ]
    },
    {
     "data": {
      "text/plain": [
       "1.2176561355430768"
      ]
     },
     "execution_count": 42,
     "metadata": {},
     "output_type": "execute_result"
    }
   ],
   "source": [
    "print(\"Item Based Collaborative Filtering (IBCF) Model : Test Set\")\n",
    "accuracy.rmse(test_pred, verbose=True)"
   ]
  },
  {
   "cell_type": "markdown",
   "metadata": {},
   "source": [
    "### Get top - K ( K = 5) recommendations - Popularity Recommender model¶"
   ]
  },
  {
   "cell_type": "code",
   "execution_count": 43,
   "metadata": {},
   "outputs": [],
   "source": [
    "user_id = users[10]"
   ]
  },
  {
   "cell_type": "code",
   "execution_count": 44,
   "metadata": {},
   "outputs": [
    {
     "name": "stdout",
     "output_type": "stream",
     "text": [
      "A3VONQL7YW8UPM User is reccomended below popular Items\n"
     ]
    },
    {
     "data": {
      "text/plain": [
       "19570    B003ES5ZUU\n",
       "30273    B007WTAJTO\n",
       "30874    B0088CJT4U\n",
       "8700     B000N99BBC\n",
       "30561    B00829TIEK\n",
       "Name: productId, dtype: object"
      ]
     },
     "execution_count": 44,
     "metadata": {},
     "output_type": "execute_result"
    }
   ],
   "source": [
    "#### Polularity based top 5 reccomendations\n",
    "recommendPopularItemsM2(user_id)['productId']"
   ]
  },
  {
   "cell_type": "code",
   "execution_count": null,
   "metadata": {},
   "outputs": [],
   "source": []
  },
  {
   "cell_type": "markdown",
   "metadata": {},
   "source": [
    "### Item Based Collaborative Filtering (IBCF) model top 5 recommendations - Considering only those rows for which recommendation was possible"
   ]
  },
  {
   "cell_type": "code",
   "execution_count": 45,
   "metadata": {},
   "outputs": [],
   "source": [
    "def collaborativeFilteringRecommendations(data,user_id,k=5):\n",
    "    return data.loc[data['uid']==user_id]"
   ]
  },
  {
   "cell_type": "code",
   "execution_count": 46,
   "metadata": {},
   "outputs": [
    {
     "data": {
      "text/html": [
       "<div>\n",
       "<style scoped>\n",
       "    .dataframe tbody tr th:only-of-type {\n",
       "        vertical-align: middle;\n",
       "    }\n",
       "\n",
       "    .dataframe tbody tr th {\n",
       "        vertical-align: top;\n",
       "    }\n",
       "\n",
       "    .dataframe thead th {\n",
       "        text-align: right;\n",
       "    }\n",
       "</style>\n",
       "<table border=\"1\" class=\"dataframe\">\n",
       "  <thead>\n",
       "    <tr style=\"text-align: right;\">\n",
       "      <th></th>\n",
       "      <th>uid</th>\n",
       "      <th>iid</th>\n",
       "      <th>r_ui</th>\n",
       "      <th>est</th>\n",
       "      <th>details</th>\n",
       "      <th>was_impossible</th>\n",
       "    </tr>\n",
       "  </thead>\n",
       "  <tbody>\n",
       "    <tr>\n",
       "      <th>3603</th>\n",
       "      <td>A3VONQL7YW8UPM</td>\n",
       "      <td>B00000K3RI</td>\n",
       "      <td>4.0</td>\n",
       "      <td>3.0</td>\n",
       "      <td>{'actual_k': 0, 'was_impossible': False}</td>\n",
       "      <td>False</td>\n",
       "    </tr>\n",
       "  </tbody>\n",
       "</table>\n",
       "</div>"
      ],
      "text/plain": [
       "                 uid         iid  r_ui  est  \\\n",
       "3603  A3VONQL7YW8UPM  B00000K3RI   4.0  3.0   \n",
       "\n",
       "                                       details  was_impossible  \n",
       "3603  {'actual_k': 0, 'was_impossible': False}           False  "
      ]
     },
     "execution_count": 46,
     "metadata": {},
     "output_type": "execute_result"
    }
   ],
   "source": [
    "collaborativeFilteringRecommendations(test_pred_df,user_id)"
   ]
  },
  {
   "cell_type": "code",
   "execution_count": 47,
   "metadata": {},
   "outputs": [],
   "source": [
    "#### For User A2XIOXRRYX0KZY there is only one recommendation as there are less than 5 neighbour"
   ]
  },
  {
   "cell_type": "code",
   "execution_count": 48,
   "metadata": {},
   "outputs": [
    {
     "data": {
      "text/html": [
       "<div>\n",
       "<style scoped>\n",
       "    .dataframe tbody tr th:only-of-type {\n",
       "        vertical-align: middle;\n",
       "    }\n",
       "\n",
       "    .dataframe tbody tr th {\n",
       "        vertical-align: top;\n",
       "    }\n",
       "\n",
       "    .dataframe thead th {\n",
       "        text-align: right;\n",
       "    }\n",
       "</style>\n",
       "<table border=\"1\" class=\"dataframe\">\n",
       "  <thead>\n",
       "    <tr style=\"text-align: right;\">\n",
       "      <th></th>\n",
       "      <th>uid</th>\n",
       "      <th>iid</th>\n",
       "      <th>r_ui</th>\n",
       "      <th>est</th>\n",
       "      <th>details</th>\n",
       "      <th>was_impossible</th>\n",
       "    </tr>\n",
       "  </thead>\n",
       "  <tbody>\n",
       "    <tr>\n",
       "      <th>2744</th>\n",
       "      <td>A2NB2E5DXE319Z</td>\n",
       "      <td>B000I30HOS</td>\n",
       "      <td>5.0</td>\n",
       "      <td>5.000000</td>\n",
       "      <td>{'actual_k': 0, 'was_impossible': False}</td>\n",
       "      <td>False</td>\n",
       "    </tr>\n",
       "    <tr>\n",
       "      <th>3578</th>\n",
       "      <td>A2NB2E5DXE319Z</td>\n",
       "      <td>B000N99BBC</td>\n",
       "      <td>5.0</td>\n",
       "      <td>4.756303</td>\n",
       "      <td>{'actual_k': 1, 'was_impossible': False}</td>\n",
       "      <td>False</td>\n",
       "    </tr>\n",
       "    <tr>\n",
       "      <th>801</th>\n",
       "      <td>A2NB2E5DXE319Z</td>\n",
       "      <td>B000AZ57M6</td>\n",
       "      <td>5.0</td>\n",
       "      <td>4.714286</td>\n",
       "      <td>{'actual_k': 1, 'was_impossible': False}</td>\n",
       "      <td>False</td>\n",
       "    </tr>\n",
       "    <tr>\n",
       "      <th>1560</th>\n",
       "      <td>A2NB2E5DXE319Z</td>\n",
       "      <td>B0002UB2P0</td>\n",
       "      <td>5.0</td>\n",
       "      <td>4.500000</td>\n",
       "      <td>{'actual_k': 0, 'was_impossible': False}</td>\n",
       "      <td>False</td>\n",
       "    </tr>\n",
       "  </tbody>\n",
       "</table>\n",
       "</div>"
      ],
      "text/plain": [
       "                 uid         iid  r_ui       est  \\\n",
       "2744  A2NB2E5DXE319Z  B000I30HOS   5.0  5.000000   \n",
       "3578  A2NB2E5DXE319Z  B000N99BBC   5.0  4.756303   \n",
       "801   A2NB2E5DXE319Z  B000AZ57M6   5.0  4.714286   \n",
       "1560  A2NB2E5DXE319Z  B0002UB2P0   5.0  4.500000   \n",
       "\n",
       "                                       details  was_impossible  \n",
       "2744  {'actual_k': 0, 'was_impossible': False}           False  \n",
       "3578  {'actual_k': 1, 'was_impossible': False}           False  \n",
       "801   {'actual_k': 1, 'was_impossible': False}           False  \n",
       "1560  {'actual_k': 0, 'was_impossible': False}           False  "
      ]
     },
     "execution_count": 48,
     "metadata": {},
     "output_type": "execute_result"
    }
   ],
   "source": [
    "# Getting reccomendations for different users\n",
    "user_id2 = users[15]\n",
    "collaborativeFilteringRecommendations(test_pred_df,user_id2)"
   ]
  },
  {
   "cell_type": "markdown",
   "metadata": {},
   "source": [
    "### User Based Collaborative Filtering (UBCF) model"
   ]
  },
  {
   "cell_type": "code",
   "execution_count": 51,
   "metadata": {},
   "outputs": [
    {
     "name": "stdout",
     "output_type": "stream",
     "text": [
      "Estimating biases using als...\n",
      "Computing the pearson_baseline similarity matrix...\n",
      "Done computing similarity matrix.\n"
     ]
    },
    {
     "data": {
      "text/plain": [
       "<surprise.prediction_algorithms.knns.KNNWithMeans at 0x1e305591390>"
      ]
     },
     "execution_count": 51,
     "metadata": {},
     "output_type": "execute_result"
    },
    {
     "data": {
      "text/html": [
       "<div>\n",
       "<style scoped>\n",
       "    .dataframe tbody tr th:only-of-type {\n",
       "        vertical-align: middle;\n",
       "    }\n",
       "\n",
       "    .dataframe tbody tr th {\n",
       "        vertical-align: top;\n",
       "    }\n",
       "\n",
       "    .dataframe thead th {\n",
       "        text-align: right;\n",
       "    }\n",
       "</style>\n",
       "<table border=\"1\" class=\"dataframe\">\n",
       "  <thead>\n",
       "    <tr style=\"text-align: right;\">\n",
       "      <th></th>\n",
       "      <th>uid</th>\n",
       "      <th>iid</th>\n",
       "      <th>r_ui</th>\n",
       "      <th>est</th>\n",
       "      <th>details</th>\n",
       "      <th>was_impossible</th>\n",
       "    </tr>\n",
       "  </thead>\n",
       "  <tbody>\n",
       "    <tr>\n",
       "      <th>5792</th>\n",
       "      <td>AZOK5STV85FBJ</td>\n",
       "      <td>B00003006E</td>\n",
       "      <td>5.0</td>\n",
       "      <td>4.722222</td>\n",
       "      <td>{'actual_k': 0, 'was_impossible': False}</td>\n",
       "      <td>False</td>\n",
       "    </tr>\n",
       "    <tr>\n",
       "      <th>6071</th>\n",
       "      <td>AZOK5STV85FBJ</td>\n",
       "      <td>B000GL3MOY</td>\n",
       "      <td>5.0</td>\n",
       "      <td>4.722222</td>\n",
       "      <td>{'actual_k': 0, 'was_impossible': False}</td>\n",
       "      <td>False</td>\n",
       "    </tr>\n",
       "    <tr>\n",
       "      <th>921</th>\n",
       "      <td>AZNUHQSHZHSUE</td>\n",
       "      <td>B00006B7DA</td>\n",
       "      <td>5.0</td>\n",
       "      <td>4.222222</td>\n",
       "      <td>{'actual_k': 0, 'was_impossible': False}</td>\n",
       "      <td>False</td>\n",
       "    </tr>\n",
       "    <tr>\n",
       "      <th>5415</th>\n",
       "      <td>AZNUHQSHZHSUE</td>\n",
       "      <td>B000N99BBC</td>\n",
       "      <td>5.0</td>\n",
       "      <td>4.222222</td>\n",
       "      <td>{'actual_k': 0, 'was_impossible': False}</td>\n",
       "      <td>False</td>\n",
       "    </tr>\n",
       "    <tr>\n",
       "      <th>1621</th>\n",
       "      <td>AZMY6E8B52L2T</td>\n",
       "      <td>B000ANOY7M</td>\n",
       "      <td>5.0</td>\n",
       "      <td>4.916667</td>\n",
       "      <td>{'actual_k': 0, 'was_impossible': False}</td>\n",
       "      <td>False</td>\n",
       "    </tr>\n",
       "  </tbody>\n",
       "</table>\n",
       "</div>"
      ],
      "text/plain": [
       "                uid         iid  r_ui       est  \\\n",
       "5792  AZOK5STV85FBJ  B00003006E   5.0  4.722222   \n",
       "6071  AZOK5STV85FBJ  B000GL3MOY   5.0  4.722222   \n",
       "921   AZNUHQSHZHSUE  B00006B7DA   5.0  4.222222   \n",
       "5415  AZNUHQSHZHSUE  B000N99BBC   5.0  4.222222   \n",
       "1621  AZMY6E8B52L2T  B000ANOY7M   5.0  4.916667   \n",
       "\n",
       "                                       details  was_impossible  \n",
       "5792  {'actual_k': 0, 'was_impossible': False}           False  \n",
       "6071  {'actual_k': 0, 'was_impossible': False}           False  \n",
       "921   {'actual_k': 0, 'was_impossible': False}           False  \n",
       "5415  {'actual_k': 0, 'was_impossible': False}           False  \n",
       "1621  {'actual_k': 0, 'was_impossible': False}           False  "
      ]
     },
     "execution_count": 51,
     "metadata": {},
     "output_type": "execute_result"
    }
   ],
   "source": [
    "# Use user_based true/false to switch between user-based or item-based collaborative filtering\n",
    "algo_ubcf = KNNWithMeans(k=10, sim_options={'name': 'pearson_baseline', 'user_based': True})\n",
    "algo_ubcf.fit(trainset)\n",
    "# run the trained model against the testset\n",
    "test_pred_ubcf = algo_ubcf.test(testset)\n",
    "# convert results to dataframe\n",
    "test_pred_ubcf_df = pd.DataFrame(test_pred_ubcf)\n",
    "test_pred_ubcf_df[\"was_impossible\"] = [x[\"was_impossible\"] for x in test_pred_ubcf_df[\"details\"]]\n",
    "# Sort in descending order\n",
    "test_pred_ubcf_df.sort_values(by=['uid','est'], ascending=False, inplace=True)\n",
    "test_pred_ubcf_df = test_pred_ubcf_df.loc[~test_pred_ubcf_df.was_impossible]\n",
    "test_pred_ubcf_df.head()"
   ]
  },
  {
   "cell_type": "markdown",
   "metadata": {},
   "source": [
    "### Evaluating RMSE User Based Collaborative Filtering (UBCF) model"
   ]
  },
  {
   "cell_type": "code",
   "execution_count": 52,
   "metadata": {},
   "outputs": [
    {
     "name": "stdout",
     "output_type": "stream",
     "text": [
      "Item Based Collaborative Filtering (IBCF) Model : Test Set\n",
      "RMSE: 1.1254\n"
     ]
    },
    {
     "data": {
      "text/plain": [
       "1.1254314554102391"
      ]
     },
     "execution_count": 52,
     "metadata": {},
     "output_type": "execute_result"
    }
   ],
   "source": [
    "print(\"Item Based Collaborative Filtering (IBCF) Model : Test Set\")\n",
    "accuracy.rmse(test_pred_ubcf, verbose=True)"
   ]
  },
  {
   "cell_type": "markdown",
   "metadata": {},
   "source": [
    "#### Top 5 Recommendation using User Based approach"
   ]
  },
  {
   "cell_type": "code",
   "execution_count": 53,
   "metadata": {},
   "outputs": [
    {
     "data": {
      "text/html": [
       "<div>\n",
       "<style scoped>\n",
       "    .dataframe tbody tr th:only-of-type {\n",
       "        vertical-align: middle;\n",
       "    }\n",
       "\n",
       "    .dataframe tbody tr th {\n",
       "        vertical-align: top;\n",
       "    }\n",
       "\n",
       "    .dataframe thead th {\n",
       "        text-align: right;\n",
       "    }\n",
       "</style>\n",
       "<table border=\"1\" class=\"dataframe\">\n",
       "  <thead>\n",
       "    <tr style=\"text-align: right;\">\n",
       "      <th></th>\n",
       "      <th>uid</th>\n",
       "      <th>iid</th>\n",
       "      <th>r_ui</th>\n",
       "      <th>est</th>\n",
       "      <th>details</th>\n",
       "      <th>was_impossible</th>\n",
       "    </tr>\n",
       "  </thead>\n",
       "  <tbody>\n",
       "    <tr>\n",
       "      <th>801</th>\n",
       "      <td>A2NB2E5DXE319Z</td>\n",
       "      <td>B000AZ57M6</td>\n",
       "      <td>5.0</td>\n",
       "      <td>4.684211</td>\n",
       "      <td>{'actual_k': 0, 'was_impossible': False}</td>\n",
       "      <td>False</td>\n",
       "    </tr>\n",
       "    <tr>\n",
       "      <th>1560</th>\n",
       "      <td>A2NB2E5DXE319Z</td>\n",
       "      <td>B0002UB2P0</td>\n",
       "      <td>5.0</td>\n",
       "      <td>4.684211</td>\n",
       "      <td>{'actual_k': 0, 'was_impossible': False}</td>\n",
       "      <td>False</td>\n",
       "    </tr>\n",
       "    <tr>\n",
       "      <th>2744</th>\n",
       "      <td>A2NB2E5DXE319Z</td>\n",
       "      <td>B000I30HOS</td>\n",
       "      <td>5.0</td>\n",
       "      <td>4.684211</td>\n",
       "      <td>{'actual_k': 0, 'was_impossible': False}</td>\n",
       "      <td>False</td>\n",
       "    </tr>\n",
       "    <tr>\n",
       "      <th>3578</th>\n",
       "      <td>A2NB2E5DXE319Z</td>\n",
       "      <td>B000N99BBC</td>\n",
       "      <td>5.0</td>\n",
       "      <td>4.684211</td>\n",
       "      <td>{'actual_k': 0, 'was_impossible': False}</td>\n",
       "      <td>False</td>\n",
       "    </tr>\n",
       "  </tbody>\n",
       "</table>\n",
       "</div>"
      ],
      "text/plain": [
       "                 uid         iid  r_ui       est  \\\n",
       "801   A2NB2E5DXE319Z  B000AZ57M6   5.0  4.684211   \n",
       "1560  A2NB2E5DXE319Z  B0002UB2P0   5.0  4.684211   \n",
       "2744  A2NB2E5DXE319Z  B000I30HOS   5.0  4.684211   \n",
       "3578  A2NB2E5DXE319Z  B000N99BBC   5.0  4.684211   \n",
       "\n",
       "                                       details  was_impossible  \n",
       "801   {'actual_k': 0, 'was_impossible': False}           False  \n",
       "1560  {'actual_k': 0, 'was_impossible': False}           False  \n",
       "2744  {'actual_k': 0, 'was_impossible': False}           False  \n",
       "3578  {'actual_k': 0, 'was_impossible': False}           False  "
      ]
     },
     "execution_count": 53,
     "metadata": {},
     "output_type": "execute_result"
    }
   ],
   "source": [
    "collaborativeFilteringRecommendations(test_pred_ubcf_df,user_id2)"
   ]
  },
  {
   "cell_type": "code",
   "execution_count": 54,
   "metadata": {},
   "outputs": [
    {
     "data": {
      "text/html": [
       "<div>\n",
       "<style scoped>\n",
       "    .dataframe tbody tr th:only-of-type {\n",
       "        vertical-align: middle;\n",
       "    }\n",
       "\n",
       "    .dataframe tbody tr th {\n",
       "        vertical-align: top;\n",
       "    }\n",
       "\n",
       "    .dataframe thead th {\n",
       "        text-align: right;\n",
       "    }\n",
       "</style>\n",
       "<table border=\"1\" class=\"dataframe\">\n",
       "  <thead>\n",
       "    <tr style=\"text-align: right;\">\n",
       "      <th></th>\n",
       "      <th>uid</th>\n",
       "      <th>iid</th>\n",
       "      <th>r_ui</th>\n",
       "      <th>est</th>\n",
       "      <th>details</th>\n",
       "      <th>was_impossible</th>\n",
       "    </tr>\n",
       "  </thead>\n",
       "  <tbody>\n",
       "    <tr>\n",
       "      <th>3603</th>\n",
       "      <td>A3VONQL7YW8UPM</td>\n",
       "      <td>B00000K3RI</td>\n",
       "      <td>4.0</td>\n",
       "      <td>3.857143</td>\n",
       "      <td>{'actual_k': 0, 'was_impossible': False}</td>\n",
       "      <td>False</td>\n",
       "    </tr>\n",
       "  </tbody>\n",
       "</table>\n",
       "</div>"
      ],
      "text/plain": [
       "                 uid         iid  r_ui       est  \\\n",
       "3603  A3VONQL7YW8UPM  B00000K3RI   4.0  3.857143   \n",
       "\n",
       "                                       details  was_impossible  \n",
       "3603  {'actual_k': 0, 'was_impossible': False}           False  "
      ]
     },
     "execution_count": 54,
     "metadata": {},
     "output_type": "execute_result"
    }
   ],
   "source": [
    "collaborativeFilteringRecommendations(test_pred_ubcf_df,user_id)"
   ]
  },
  {
   "cell_type": "markdown",
   "metadata": {},
   "source": [
    "### Matrix Factorization based Collaborative Filtering SVD Model "
   ]
  },
  {
   "cell_type": "code",
   "execution_count": 55,
   "metadata": {},
   "outputs": [
    {
     "data": {
      "text/plain": [
       "<surprise.prediction_algorithms.matrix_factorization.SVD at 0x1e35aeaac18>"
      ]
     },
     "execution_count": 55,
     "metadata": {},
     "output_type": "execute_result"
    }
   ],
   "source": [
    "from surprise import SVD\n",
    "algo = SVD()\n",
    "algo.fit(trainset)"
   ]
  },
  {
   "cell_type": "code",
   "execution_count": 56,
   "metadata": {},
   "outputs": [],
   "source": [
    "predictions = algo.test(testset)"
   ]
  },
  {
   "cell_type": "code",
   "execution_count": 57,
   "metadata": {},
   "outputs": [],
   "source": [
    "def get_top_n(predictions, n=5):\n",
    "    # First map the predictions to each user.\n",
    "    top_n = defaultdict(list)\n",
    "    for uid, iid, true_r, est, _ in predictions:\n",
    "        top_n[uid].append((iid, est))\n",
    "\n",
    "    # Then sort the predictions for each user and retrieve the k highest ones.\n",
    "    for uid, user_ratings in top_n.items():\n",
    "        user_ratings.sort(key=lambda x: x[1], reverse=True)\n",
    "        top_n[uid] = user_ratings[:n]\n",
    "\n",
    "    return top_n"
   ]
  },
  {
   "cell_type": "code",
   "execution_count": 58,
   "metadata": {},
   "outputs": [],
   "source": [
    "top_n = get_top_n(predictions, n=5)"
   ]
  },
  {
   "cell_type": "code",
   "execution_count": 59,
   "metadata": {},
   "outputs": [
    {
     "data": {
      "text/plain": [
       "[('B000RZNI4S', 4.615146016794938),\n",
       " ('B000HDQ2G6', 4.614668550569081),\n",
       " ('B000G18DR0', 4.6140566141728065),\n",
       " ('B00003G1RG', 4.526906465563579),\n",
       " ('B000IF51UQ', 4.507517722538404)]"
      ]
     },
     "execution_count": 59,
     "metadata": {},
     "output_type": "execute_result"
    }
   ],
   "source": [
    "top_n['A6VPK7X53QNAQ']"
   ]
  },
  {
   "cell_type": "code",
   "execution_count": 60,
   "metadata": {},
   "outputs": [
    {
     "name": "stdout",
     "output_type": "stream",
     "text": [
      "SVD Model : Test Set\n",
      "RMSE: 1.0712\n"
     ]
    },
    {
     "data": {
      "text/plain": [
       "1.0711828106384205"
      ]
     },
     "execution_count": 60,
     "metadata": {},
     "output_type": "execute_result"
    }
   ],
   "source": [
    "print(\"SVD Model : Test Set\")\n",
    "accuracy.rmse(predictions, verbose=True)"
   ]
  },
  {
   "cell_type": "markdown",
   "metadata": {},
   "source": [
    "#### We can tune algorithm parameters with GridSearchCV"
   ]
  },
  {
   "cell_type": "code",
   "execution_count": 61,
   "metadata": {},
   "outputs": [
    {
     "name": "stdout",
     "output_type": "stream",
     "text": [
      "1.066061943482858\n",
      "{'n_epochs': 10, 'lr_all': 0.005, 'reg_all': 0.4}\n"
     ]
    }
   ],
   "source": [
    "from surprise.model_selection import GridSearchCV\n",
    "\n",
    "param_grid = {'n_epochs': [5, 10], 'lr_all': [0.002, 0.005],\n",
    "              'reg_all': [0.4, 0.6]}\n",
    "gs = GridSearchCV(SVD, param_grid, measures=['rmse', 'mae'], cv=5)\n",
    "\n",
    "gs.fit(surprise_ratings_df)\n",
    "\n",
    "# best RMSE score\n",
    "print(gs.best_score['rmse'])\n",
    "\n",
    "# combination of parameters that gave the best RMSE score\n",
    "print(gs.best_params['rmse'])"
   ]
  },
  {
   "cell_type": "markdown",
   "metadata": {},
   "source": [
    "### Summarise your insights"
   ]
  },
  {
   "cell_type": "markdown",
   "metadata": {},
   "source": [
    "> The collaborative filtering model is more personalized than the popularity based model.\n",
    "\n",
    "> <b>Popularity based reccomendations :</b> The products with highest number of ratings sum gets recommended irrespective of user's interest i.e shows same recommendations to all the user. This is the model used as a basic recommendation even when the user is not even logged into Amazon.\n",
    "\n",
    "> Collaborative filtering gives a more personalised recommendations as opposed to popularity based.\n",
    "<b>Collaborative Filtering</b> based model has recommended entire different list based on the user past purchase history.\n",
    "\n",
    "> SVD has lower RMSE than Item - Item  and User - Item similarity model"
   ]
  },
  {
   "cell_type": "code",
   "execution_count": null,
   "metadata": {},
   "outputs": [],
   "source": []
  }
 ],
 "metadata": {
  "kernelspec": {
   "display_name": "Python 3",
   "language": "python",
   "name": "python3"
  },
  "language_info": {
   "codemirror_mode": {
    "name": "ipython",
    "version": 3
   },
   "file_extension": ".py",
   "mimetype": "text/x-python",
   "name": "python",
   "nbconvert_exporter": "python",
   "pygments_lexer": "ipython3",
   "version": "3.7.3"
  }
 },
 "nbformat": 4,
 "nbformat_minor": 2
}
