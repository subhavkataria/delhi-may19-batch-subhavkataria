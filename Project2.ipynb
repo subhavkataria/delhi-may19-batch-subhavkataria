{
 "cells": [
  {
   "cell_type": "markdown",
   "metadata": {},
   "source": [
    "# Project  2 - Problem statement\n",
    "\n",
    "Please find below the Project for Statistical Learning course. This is an individual assignment. Kindly submit it before it's deadline.\n",
    "\n",
    "The Titan Insurance Company has just installed a new incentive payment scheme for its lift policy sales force. It wants to have an early view of the success or failure of the new scheme. Indications are that the sales force is selling more policies, but sales always vary in an unpredictable pattern from month to month and it is not clear that the scheme has made a significant difference.\n",
    "\n",
    "Life Insurance companies typically measure the monthly output of a salesperson as the total sum assured for the policies sold by that person during the month. For example, suppose salesperson X has, in the month, sold seven policies for which the sums assured are £1000, £2500, £3000, £5000, £10000, £35000. X's output for the month is the total of these sums assured, £61,500. Titan's new scheme is that the sales force receives low regular salaries but are paid large bonuses related to their output (i.e. to the total sum assured of policies sold by them). The scheme is expensive for the company, but they are looking for sales increases which more than compensate. The agreement with the sales force is that if the scheme does not at least break even for the company, it will be abandoned after six months.\n",
    "\n",
    "The scheme has now been in operation for four months. It has settled down after fluctuations in the first two months due to the changeover.\n",
    "\n",
    "To test the effectiveness of the scheme, Titan have taken a random sample of 30 salespeople measured their output in the penultimate month prior to changeover and then measured it in the fourth month after the changeover (they have deliberately chosen months not too close to the changeover). The outputs of the salespeople are shown in Table 1\n",
    "\n",
    " \n",
    "\n",
    "\n",
    "<p> </p>\n",
    "<h1>Questions</h1>\n",
    "<ol>\n",
    "<li>Find the mean of old scheme and new scheme column. (5 points)</li>\n",
    "<li>Use the five percent significance test over the data to determine the p value to check new scheme has significantly raised outputs? (10 points)</li>\n",
    "<li>What conclusion does the test (p-value) lead to? (2.5 points)</li>\n",
    "<li>Suppose it has been calculated that in order for Titan to break even, the average output must increase by £5000 in the scheme compared to the old scheme. If this figure is alternative hypothesis, what is:</li>\n",
    "</ol>\n",
    "<p>        a) The probability of a type 1 error? (2.5 points)</p>\n",
    "<p>        b) What is the p- value of the hypothesis test if we test for a difference of $5000? (10 points)</p>\n",
    "<p>        c) Power of the test (5 points)</p>\n",
    "<p> </p>\n",
    "<p>Github link: <span> </span><a class=\"external\" title=\"\" href=\"https://github.com/GreatLearningAIML1/delhi-may19-batch-subhavkataria\" target=\"_blank\"><span><span>https://github.com/GreatLearningAIML1/delhi-may19-batch-subhavkataria</span></span></a></p>\n"
   ]
  },
  {
   "cell_type": "code",
   "execution_count": 64,
   "metadata": {},
   "outputs": [],
   "source": [
    "import numpy as np\n",
    "import pandas as pd\n",
    "import matplotlib.pyplot as plt\n",
    "%matplotlib inline\n",
    "plt.style.use('ggplot')\n",
    "import seaborn as sns\n",
    "from scipy.stats import ttest_1samp, ttest_ind,mannwhitneyu,levene,shapiro,wilcoxon\n",
    "from statsmodels.stats.power import ttest_power\n",
    "from scipy import stats "
   ]
  },
  {
   "cell_type": "markdown",
   "metadata": {},
   "source": [
    "## Answer1 "
   ]
  },
  {
   "cell_type": "code",
   "execution_count": 65,
   "metadata": {},
   "outputs": [],
   "source": [
    "sales_person= pd.Series([1,2,3,4,5,6,7,8,9,10,11,12,13,14,15,16,17,18,19,20,21,22,23,24,25,26,27,28,29,30])\n",
    "old_scheme = pd.Series([57,103,59,75,84,73,35,110,44,82,67,64,78,53,41,39,80,87,73,65,28,62,49,84,63,77,67,101,91,50],name='old_scheme')\n",
    "new_scheme = pd.Series([62,122,54,82,84,86,32,104,38,107,84,85,99,39,34,58,73,53,66,78,41,71,38,95,81,58,75,94,100,68],name='new_scheme')"
   ]
  },
  {
   "cell_type": "code",
   "execution_count": 66,
   "metadata": {},
   "outputs": [],
   "source": [
    "old_scheme = old_scheme*1000\n",
    "new_scheme = new_scheme*1000"
   ]
  },
  {
   "cell_type": "code",
   "execution_count": 67,
   "metadata": {},
   "outputs": [
    {
     "data": {
      "text/html": [
       "<div>\n",
       "<style scoped>\n",
       "    .dataframe tbody tr th:only-of-type {\n",
       "        vertical-align: middle;\n",
       "    }\n",
       "\n",
       "    .dataframe tbody tr th {\n",
       "        vertical-align: top;\n",
       "    }\n",
       "\n",
       "    .dataframe thead th {\n",
       "        text-align: right;\n",
       "    }\n",
       "</style>\n",
       "<table border=\"1\" class=\"dataframe\">\n",
       "  <thead>\n",
       "    <tr style=\"text-align: right;\">\n",
       "      <th></th>\n",
       "      <th>old_scheme</th>\n",
       "      <th>new_scheme</th>\n",
       "    </tr>\n",
       "  </thead>\n",
       "  <tbody>\n",
       "    <tr>\n",
       "      <th>0</th>\n",
       "      <td>57000</td>\n",
       "      <td>62000</td>\n",
       "    </tr>\n",
       "    <tr>\n",
       "      <th>1</th>\n",
       "      <td>103000</td>\n",
       "      <td>122000</td>\n",
       "    </tr>\n",
       "    <tr>\n",
       "      <th>2</th>\n",
       "      <td>59000</td>\n",
       "      <td>54000</td>\n",
       "    </tr>\n",
       "    <tr>\n",
       "      <th>3</th>\n",
       "      <td>75000</td>\n",
       "      <td>82000</td>\n",
       "    </tr>\n",
       "    <tr>\n",
       "      <th>4</th>\n",
       "      <td>84000</td>\n",
       "      <td>84000</td>\n",
       "    </tr>\n",
       "    <tr>\n",
       "      <th>5</th>\n",
       "      <td>73000</td>\n",
       "      <td>86000</td>\n",
       "    </tr>\n",
       "    <tr>\n",
       "      <th>6</th>\n",
       "      <td>35000</td>\n",
       "      <td>32000</td>\n",
       "    </tr>\n",
       "    <tr>\n",
       "      <th>7</th>\n",
       "      <td>110000</td>\n",
       "      <td>104000</td>\n",
       "    </tr>\n",
       "    <tr>\n",
       "      <th>8</th>\n",
       "      <td>44000</td>\n",
       "      <td>38000</td>\n",
       "    </tr>\n",
       "    <tr>\n",
       "      <th>9</th>\n",
       "      <td>82000</td>\n",
       "      <td>107000</td>\n",
       "    </tr>\n",
       "    <tr>\n",
       "      <th>10</th>\n",
       "      <td>67000</td>\n",
       "      <td>84000</td>\n",
       "    </tr>\n",
       "    <tr>\n",
       "      <th>11</th>\n",
       "      <td>64000</td>\n",
       "      <td>85000</td>\n",
       "    </tr>\n",
       "    <tr>\n",
       "      <th>12</th>\n",
       "      <td>78000</td>\n",
       "      <td>99000</td>\n",
       "    </tr>\n",
       "    <tr>\n",
       "      <th>13</th>\n",
       "      <td>53000</td>\n",
       "      <td>39000</td>\n",
       "    </tr>\n",
       "    <tr>\n",
       "      <th>14</th>\n",
       "      <td>41000</td>\n",
       "      <td>34000</td>\n",
       "    </tr>\n",
       "    <tr>\n",
       "      <th>15</th>\n",
       "      <td>39000</td>\n",
       "      <td>58000</td>\n",
       "    </tr>\n",
       "    <tr>\n",
       "      <th>16</th>\n",
       "      <td>80000</td>\n",
       "      <td>73000</td>\n",
       "    </tr>\n",
       "    <tr>\n",
       "      <th>17</th>\n",
       "      <td>87000</td>\n",
       "      <td>53000</td>\n",
       "    </tr>\n",
       "    <tr>\n",
       "      <th>18</th>\n",
       "      <td>73000</td>\n",
       "      <td>66000</td>\n",
       "    </tr>\n",
       "    <tr>\n",
       "      <th>19</th>\n",
       "      <td>65000</td>\n",
       "      <td>78000</td>\n",
       "    </tr>\n",
       "    <tr>\n",
       "      <th>20</th>\n",
       "      <td>28000</td>\n",
       "      <td>41000</td>\n",
       "    </tr>\n",
       "    <tr>\n",
       "      <th>21</th>\n",
       "      <td>62000</td>\n",
       "      <td>71000</td>\n",
       "    </tr>\n",
       "    <tr>\n",
       "      <th>22</th>\n",
       "      <td>49000</td>\n",
       "      <td>38000</td>\n",
       "    </tr>\n",
       "    <tr>\n",
       "      <th>23</th>\n",
       "      <td>84000</td>\n",
       "      <td>95000</td>\n",
       "    </tr>\n",
       "    <tr>\n",
       "      <th>24</th>\n",
       "      <td>63000</td>\n",
       "      <td>81000</td>\n",
       "    </tr>\n",
       "    <tr>\n",
       "      <th>25</th>\n",
       "      <td>77000</td>\n",
       "      <td>58000</td>\n",
       "    </tr>\n",
       "    <tr>\n",
       "      <th>26</th>\n",
       "      <td>67000</td>\n",
       "      <td>75000</td>\n",
       "    </tr>\n",
       "    <tr>\n",
       "      <th>27</th>\n",
       "      <td>101000</td>\n",
       "      <td>94000</td>\n",
       "    </tr>\n",
       "    <tr>\n",
       "      <th>28</th>\n",
       "      <td>91000</td>\n",
       "      <td>100000</td>\n",
       "    </tr>\n",
       "    <tr>\n",
       "      <th>29</th>\n",
       "      <td>50000</td>\n",
       "      <td>68000</td>\n",
       "    </tr>\n",
       "  </tbody>\n",
       "</table>\n",
       "</div>"
      ],
      "text/plain": [
       "    old_scheme  new_scheme\n",
       "0        57000       62000\n",
       "1       103000      122000\n",
       "2        59000       54000\n",
       "3        75000       82000\n",
       "4        84000       84000\n",
       "5        73000       86000\n",
       "6        35000       32000\n",
       "7       110000      104000\n",
       "8        44000       38000\n",
       "9        82000      107000\n",
       "10       67000       84000\n",
       "11       64000       85000\n",
       "12       78000       99000\n",
       "13       53000       39000\n",
       "14       41000       34000\n",
       "15       39000       58000\n",
       "16       80000       73000\n",
       "17       87000       53000\n",
       "18       73000       66000\n",
       "19       65000       78000\n",
       "20       28000       41000\n",
       "21       62000       71000\n",
       "22       49000       38000\n",
       "23       84000       95000\n",
       "24       63000       81000\n",
       "25       77000       58000\n",
       "26       67000       75000\n",
       "27      101000       94000\n",
       "28       91000      100000\n",
       "29       50000       68000"
      ]
     },
     "execution_count": 67,
     "metadata": {},
     "output_type": "execute_result"
    }
   ],
   "source": [
    "scheme_df = pd.concat([old_scheme,new_scheme],axis=1)\n",
    "scheme_df"
   ]
  },
  {
   "cell_type": "code",
   "execution_count": 68,
   "metadata": {},
   "outputs": [
    {
     "data": {
      "text/html": [
       "<div>\n",
       "<style scoped>\n",
       "    .dataframe tbody tr th:only-of-type {\n",
       "        vertical-align: middle;\n",
       "    }\n",
       "\n",
       "    .dataframe tbody tr th {\n",
       "        vertical-align: top;\n",
       "    }\n",
       "\n",
       "    .dataframe thead th {\n",
       "        text-align: right;\n",
       "    }\n",
       "</style>\n",
       "<table border=\"1\" class=\"dataframe\">\n",
       "  <thead>\n",
       "    <tr style=\"text-align: right;\">\n",
       "      <th></th>\n",
       "      <th>old_scheme</th>\n",
       "      <th>new_scheme</th>\n",
       "    </tr>\n",
       "  </thead>\n",
       "  <tbody>\n",
       "    <tr>\n",
       "      <th>count</th>\n",
       "      <td>30.000000</td>\n",
       "      <td>30.000000</td>\n",
       "    </tr>\n",
       "    <tr>\n",
       "      <th>mean</th>\n",
       "      <td>68033.333333</td>\n",
       "      <td>72033.333333</td>\n",
       "    </tr>\n",
       "    <tr>\n",
       "      <th>std</th>\n",
       "      <td>20455.980212</td>\n",
       "      <td>24062.394947</td>\n",
       "    </tr>\n",
       "    <tr>\n",
       "      <th>min</th>\n",
       "      <td>28000.000000</td>\n",
       "      <td>32000.000000</td>\n",
       "    </tr>\n",
       "    <tr>\n",
       "      <th>25%</th>\n",
       "      <td>54000.000000</td>\n",
       "      <td>55000.000000</td>\n",
       "    </tr>\n",
       "    <tr>\n",
       "      <th>50%</th>\n",
       "      <td>67000.000000</td>\n",
       "      <td>74000.000000</td>\n",
       "    </tr>\n",
       "    <tr>\n",
       "      <th>75%</th>\n",
       "      <td>81500.000000</td>\n",
       "      <td>85750.000000</td>\n",
       "    </tr>\n",
       "    <tr>\n",
       "      <th>max</th>\n",
       "      <td>110000.000000</td>\n",
       "      <td>122000.000000</td>\n",
       "    </tr>\n",
       "  </tbody>\n",
       "</table>\n",
       "</div>"
      ],
      "text/plain": [
       "          old_scheme     new_scheme\n",
       "count      30.000000      30.000000\n",
       "mean    68033.333333   72033.333333\n",
       "std     20455.980212   24062.394947\n",
       "min     28000.000000   32000.000000\n",
       "25%     54000.000000   55000.000000\n",
       "50%     67000.000000   74000.000000\n",
       "75%     81500.000000   85750.000000\n",
       "max    110000.000000  122000.000000"
      ]
     },
     "execution_count": 68,
     "metadata": {},
     "output_type": "execute_result"
    }
   ],
   "source": [
    "#printing five point summary for old_scheme & new_scheme\n",
    "scheme_df.describe()"
   ]
  },
  {
   "cell_type": "code",
   "execution_count": 8,
   "metadata": {},
   "outputs": [
    {
     "name": "stdout",
     "output_type": "stream",
     "text": [
      " mean of old_scheme is 68033 thousand\n"
     ]
    }
   ],
   "source": [
    "old_scheme_mean = scheme_df['old_scheme'].mean()\n",
    "print(\" mean of old_scheme is %d thousand\"%(old_scheme_mean))"
   ]
  },
  {
   "cell_type": "code",
   "execution_count": 11,
   "metadata": {},
   "outputs": [
    {
     "name": "stdout",
     "output_type": "stream",
     "text": [
      " mean of new_scheme is 72033 thousand\n"
     ]
    }
   ],
   "source": [
    "new_scheme_mean = scheme_df['new_scheme'].mean()\n",
    "print(\" mean of new_scheme is %d thousand\"%(new_scheme_mean))"
   ]
  },
  {
   "cell_type": "markdown",
   "metadata": {},
   "source": [
    "## Answer2"
   ]
  },
  {
   "cell_type": "markdown",
   "metadata": {},
   "source": [
    "### Observation from data are as folows\n",
    "> -  Since population standard deviation is unkown so we have to use t stat test\n",
    "-  given signifance level i.e aplha is 0.05\n",
    "- sample size = 30\n",
    "<br>\n"
   ]
  },
  {
   "cell_type": "markdown",
   "metadata": {},
   "source": [
    "> #### Hypothesis Formulation\n",
    "-  H0 (NULL hypothesis) : new scheme has not significantly raised outputs i.e **there is no change in means M1 == M2** \n",
    "-  H1 (Alternate hypothesis) : new scheme has significantly raised outputs i.e **there is change in means M1 < M2 or  M2 -M1 > 0**\n",
    "-  Since same set of sales person sample is used and population standard deviation is unknown so we use <b>paired sample t-test</b>"
   ]
  },
  {
   "cell_type": "code",
   "execution_count": 40,
   "metadata": {},
   "outputs": [
    {
     "name": "stdout",
     "output_type": "stream",
     "text": [
      "Mean difference is 4000\n",
      "t_statistic is 1.555914 , p_value is 0.130576\n"
     ]
    }
   ],
   "source": [
    "difference_mean = int(new_scheme_mean-old_scheme_mean)\n",
    "print('Mean difference is %d'%(difference_mean))\n",
    "t_statistic,p_value = ttest_1samp(scheme_df['new_scheme'] - scheme_df['old_scheme'],0)\n",
    "print('t_statistic is %f , p_value is %f'%(t_statistic,p_value))"
   ]
  },
  {
   "cell_type": "code",
   "execution_count": 41,
   "metadata": {},
   "outputs": [
    {
     "name": "stdout",
     "output_type": "stream",
     "text": [
      "1.5559143823544377 0.13057553961337662\n"
     ]
    }
   ],
   "source": [
    "statistic ,pvalue =  stats.ttest_rel(scheme_df['new_scheme'], scheme_df['old_scheme'])\n",
    "print(statistic ,pvalue)"
   ]
  },
  {
   "cell_type": "code",
   "execution_count": 47,
   "metadata": {},
   "outputs": [
    {
     "data": {
      "text/plain": [
       "0.06528776980668831"
      ]
     },
     "execution_count": 47,
     "metadata": {},
     "output_type": "execute_result"
    }
   ],
   "source": [
    "p_value/2\n",
    "# Since we have to check if scheme has raised outputs or not i.e we have to check on right side"
   ]
  },
  {
   "cell_type": "markdown",
   "metadata": {},
   "source": [
    "### Answer 3"
   ]
  },
  {
   "cell_type": "markdown",
   "metadata": {},
   "source": [
    ">  Since p-value (=0.06528) is higher than 0.05, we **accept NULL hypothesis**. The new scheme has not significantly raised outputs."
   ]
  },
  {
   "cell_type": "markdown",
   "metadata": {},
   "source": [
    "### Answer 4"
   ]
  },
  {
   "cell_type": "markdown",
   "metadata": {},
   "source": [
    "> #### Hypothesis Formulation\n",
    "-  H0 : the average output must increase by £5000  i.e Mean difference Md = (M1 - M2 ) <=5000\n",
    "-  H1 : the average output must increase by £5000 i.e  Mean difference Md = (M1 - M2 ) >5000\n",
    "-  Since same set of sales person sample is used and population standard deviation is unknown so we use <b>paired sample t-test</b>"
   ]
  },
  {
   "cell_type": "markdown",
   "metadata": {},
   "source": [
    "**Answer:**\n",
    "\n",
    ">  ***Type I error - Rejecting Null hypothesis when it is true***\n",
    "<br> Probability of Type I error is significant level or aplha, \n",
    "normally we take aplha to be 0.05 or 5%"
   ]
  },
  {
   "cell_type": "markdown",
   "metadata": {},
   "source": [
    ">  \n",
    "-  H0 will be rejected if t_statistic > t_critical\n",
    "-  t_critical = 1.69 for 0.05 signifance level and degree of freedom is 29"
   ]
  },
  {
   "cell_type": "code",
   "execution_count": 53,
   "metadata": {},
   "outputs": [
    {
     "name": "stdout",
     "output_type": "stream",
     "text": [
      "1.6991270265334972\n"
     ]
    }
   ],
   "source": [
    "t_critical = stats.t.ppf(1-0.05, 29)\n",
    "print (t_critical)"
   ]
  },
  {
   "cell_type": "markdown",
   "metadata": {},
   "source": [
    "**What is the p- value of the hypothesis test if we test for a difference of $5000? (10 points)**"
   ]
  },
  {
   "cell_type": "code",
   "execution_count": 33,
   "metadata": {},
   "outputs": [
    {
     "name": "stdout",
     "output_type": "stream",
     "text": [
      "t_statistic is -0.388979 , p_value is 0.700133\n"
     ]
    }
   ],
   "source": [
    "t_statistic,p_value = ttest_1samp(scheme_df['new_scheme'] - scheme_df['old_scheme'],5000)\n",
    "print('t_statistic is %f , p_value is %f'%(t_statistic,p_value))"
   ]
  },
  {
   "cell_type": "code",
   "execution_count": 82,
   "metadata": {},
   "outputs": [
    {
     "name": "stdout",
     "output_type": "stream",
     "text": [
      "2570.8355455569017\n",
      "4368.176156228719\n"
     ]
    }
   ],
   "source": [
    "standardError = ((scheme_df['new_scheme'] - scheme_df['old_scheme']).std())/np.sqrt(30)\n",
    "print(standardError)\n",
    "mud = 4000\n",
    "xbar = t_critical* standardError\n",
    "print(xbar)"
   ]
  },
  {
   "cell_type": "markdown",
   "metadata": {},
   "source": [
    ">  **NULL Hypothesis will be rejected if xbar >= 4368.176 or t_statistic >= 1.699127**\n",
    "<br> **Type II error (beta) is Probability of failing to reject null when it is false. \n",
    "Power of test = (1- beta)**"
   ]
  },
  {
   "cell_type": "code",
   "execution_count": 88,
   "metadata": {},
   "outputs": [
    {
     "data": {
      "text/plain": [
       "-0.2457659514095497"
      ]
     },
     "execution_count": 88,
     "metadata": {},
     "output_type": "execute_result"
    }
   ],
   "source": [
    "t_statistic = (xbar- 5000 ) / standardError\n",
    "t_statistic"
   ]
  },
  {
   "cell_type": "code",
   "execution_count": 99,
   "metadata": {},
   "outputs": [
    {
     "name": "stdout",
     "output_type": "stream",
     "text": [
      "Probability of making Type II Error is 0.403797\n"
     ]
    }
   ],
   "source": [
    "# calculating p value for t_statistic\n",
    "p_value = stats.t.cdf(t_statistic,df=29)\n",
    "print('Probability of making Type II Error is %f'%(p_value))"
   ]
  },
  {
   "cell_type": "code",
   "execution_count": 93,
   "metadata": {},
   "outputs": [
    {
     "data": {
      "text/plain": [
       "0.5962027475205683"
      ]
     },
     "execution_count": 93,
     "metadata": {},
     "output_type": "execute_result"
    }
   ],
   "source": [
    "power_of_test = 1- p_value\n",
    "power_of_test"
   ]
  },
  {
   "cell_type": "markdown",
   "metadata": {},
   "source": [
    ">  **Power of the test is 1 minus the probability of Type II error i.e  is 0.59 or 59%**"
   ]
  },
  {
   "cell_type": "code",
   "execution_count": null,
   "metadata": {},
   "outputs": [],
   "source": []
  }
 ],
 "metadata": {
  "kernelspec": {
   "display_name": "Python 3",
   "language": "python",
   "name": "python3"
  },
  "language_info": {
   "codemirror_mode": {
    "name": "ipython",
    "version": 3
   },
   "file_extension": ".py",
   "mimetype": "text/x-python",
   "name": "python",
   "nbconvert_exporter": "python",
   "pygments_lexer": "ipython3",
   "version": "3.7.3"
  }
 },
 "nbformat": 4,
 "nbformat_minor": 2
}
