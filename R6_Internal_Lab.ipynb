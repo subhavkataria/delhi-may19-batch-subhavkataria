{
  "nbformat": 4,
  "nbformat_minor": 0,
  "metadata": {
    "colab": {
      "name": "R6_Internal_Lab.ipynb",
      "provenance": [],
      "collapsed_sections": [],
      "toc_visible": true
    },
    "kernelspec": {
      "name": "python3",
      "display_name": "Python 3"
    },
    "accelerator": "GPU"
  },
  "cells": [
    {
      "cell_type": "markdown",
      "metadata": {
        "colab_type": "text",
        "id": "84Q8JfvaeZZ6"
      },
      "source": [
        "## Linear Classifier in TensorFlow \n",
        "Using Low Level API in Eager Execution mode"
      ]
    },
    {
      "cell_type": "markdown",
      "metadata": {
        "colab_type": "text",
        "id": "sb7Epo0VOB58"
      },
      "source": [
        "### Load tensorflow"
      ]
    },
    {
      "cell_type": "code",
      "metadata": {
        "id": "qsTsgnCXamKz",
        "colab_type": "code",
        "colab": {
          "base_uri": "https://localhost:8080/",
          "height": 118
        },
        "outputId": "0b5d1fb6-1706-400f-cd2d-03334449f051"
      },
      "source": [
        "!pip3 install -U tensorflow --quiet"
      ],
      "execution_count": 2,
      "outputs": [
        {
          "output_type": "stream",
          "text": [
            "\u001b[K     |████████████████████████████████| 86.3MB 118kB/s \n",
            "\u001b[K     |████████████████████████████████| 3.8MB 35.3MB/s \n",
            "\u001b[K     |████████████████████████████████| 450kB 22.6MB/s \n",
            "\u001b[K     |████████████████████████████████| 81kB 6.2MB/s \n",
            "\u001b[31mERROR: tensorboard 2.0.1 has requirement grpcio>=1.24.3, but you'll have grpcio 1.15.0 which is incompatible.\u001b[0m\n",
            "\u001b[31mERROR: google-colab 1.0.0 has requirement google-auth~=1.4.0, but you'll have google-auth 1.6.3 which is incompatible.\u001b[0m\n",
            "\u001b[?25h"
          ],
          "name": "stdout"
        }
      ]
    },
    {
      "cell_type": "code",
      "metadata": {
        "colab_type": "code",
        "id": "fHpCNRv1OB5-",
        "colab": {}
      },
      "source": [
        "import tensorflow as tf"
      ],
      "execution_count": 0,
      "outputs": []
    },
    {
      "cell_type": "code",
      "metadata": {
        "colab_type": "code",
        "id": "Mjtb-EMcm5K0",
        "colab": {}
      },
      "source": [
        "#Enable Eager Execution if using tensflow version < 2.0\n",
        "#From tensorflow v2.0 onwards, Eager Execution will be enabled by default\n"
      ],
      "execution_count": 0,
      "outputs": []
    },
    {
      "cell_type": "markdown",
      "metadata": {
        "colab_type": "text",
        "id": "DxJDmJqqOB6K"
      },
      "source": [
        "### Collect Data"
      ]
    },
    {
      "cell_type": "code",
      "metadata": {
        "colab_type": "code",
        "id": "FhllFLyKOB6N",
        "colab": {
          "base_uri": "https://localhost:8080/",
          "height": 121
        },
        "outputId": "93c9b0bc-18f1-429d-f5be-4f740a1f6d2a"
      },
      "source": [
        "from google.colab import drive\n",
        "drive.mount('/gdrive')"
      ],
      "execution_count": 7,
      "outputs": [
        {
          "output_type": "stream",
          "text": [
            "Go to this URL in a browser: https://accounts.google.com/o/oauth2/auth?client_id=947318989803-6bn6qk8qdgf4n4g3pfee6491hc0brc4i.apps.googleusercontent.com&redirect_uri=urn%3Aietf%3Awg%3Aoauth%3A2.0%3Aoob&scope=email%20https%3A%2F%2Fwww.googleapis.com%2Fauth%2Fdocs.test%20https%3A%2F%2Fwww.googleapis.com%2Fauth%2Fdrive%20https%3A%2F%2Fwww.googleapis.com%2Fauth%2Fdrive.photos.readonly%20https%3A%2F%2Fwww.googleapis.com%2Fauth%2Fpeopleapi.readonly&response_type=code\n",
            "\n",
            "Enter your authorization code:\n",
            "··········\n",
            "Mounted at /gdrive\n"
          ],
          "name": "stdout"
        }
      ]
    },
    {
      "cell_type": "code",
      "metadata": {
        "id": "6CO0UHpubijb",
        "colab_type": "code",
        "colab": {}
      },
      "source": [
        ""
      ],
      "execution_count": 0,
      "outputs": []
    },
    {
      "cell_type": "code",
      "metadata": {
        "id": "BoWRcpVUbjIk",
        "colab_type": "code",
        "colab": {
          "base_uri": "https://localhost:8080/",
          "height": 121
        },
        "outputId": "ad3411d4-54ea-46e5-f9bf-dea716643304"
      },
      "source": [
        "#from google.colab import drive\n",
        "#drive.mount('/content/drive')"
      ],
      "execution_count": 3,
      "outputs": [
        {
          "output_type": "stream",
          "text": [
            "Go to this URL in a browser: https://accounts.google.com/o/oauth2/auth?client_id=947318989803-6bn6qk8qdgf4n4g3pfee6491hc0brc4i.apps.googleusercontent.com&redirect_uri=urn%3Aietf%3Awg%3Aoauth%3A2.0%3Aoob&scope=email%20https%3A%2F%2Fwww.googleapis.com%2Fauth%2Fdocs.test%20https%3A%2F%2Fwww.googleapis.com%2Fauth%2Fdrive%20https%3A%2F%2Fwww.googleapis.com%2Fauth%2Fdrive.photos.readonly%20https%3A%2F%2Fwww.googleapis.com%2Fauth%2Fpeopleapi.readonly&response_type=code\n",
            "\n",
            "Enter your authorization code:\n",
            "··········\n",
            "Mounted at /content/drive\n"
          ],
          "name": "stdout"
        }
      ]
    },
    {
      "cell_type": "code",
      "metadata": {
        "colab_type": "code",
        "id": "KiObW4V4SIOz",
        "colab": {}
      },
      "source": [
        "import pandas as pd"
      ],
      "execution_count": 0,
      "outputs": []
    },
    {
      "cell_type": "code",
      "metadata": {
        "colab_type": "code",
        "id": "B4yQKMiJOB6R",
        "colab": {}
      },
      "source": [
        "data = pd.read_csv('/gdrive/My Drive/greatlakes/Residency6/InternalLab/prices.csv')"
      ],
      "execution_count": 0,
      "outputs": []
    },
    {
      "cell_type": "markdown",
      "metadata": {
        "colab_type": "text",
        "id": "fgkX6SEqOB6W"
      },
      "source": [
        "### Check all columns in the dataset"
      ]
    },
    {
      "cell_type": "code",
      "metadata": {
        "colab_type": "code",
        "id": "7K8pWsNQOB6X",
        "colab": {
          "base_uri": "https://localhost:8080/",
          "height": 218
        },
        "outputId": "b1cefed3-9ad5-443c-e833-922aed316d83"
      },
      "source": [
        "data.info()"
      ],
      "execution_count": 10,
      "outputs": [
        {
          "output_type": "stream",
          "text": [
            "<class 'pandas.core.frame.DataFrame'>\n",
            "RangeIndex: 851264 entries, 0 to 851263\n",
            "Data columns (total 7 columns):\n",
            "date      851264 non-null object\n",
            "symbol    851264 non-null object\n",
            "open      851264 non-null float64\n",
            "close     851264 non-null float64\n",
            "low       851264 non-null float64\n",
            "high      851264 non-null float64\n",
            "volume    851264 non-null float64\n",
            "dtypes: float64(5), object(2)\n",
            "memory usage: 45.5+ MB\n"
          ],
          "name": "stdout"
        }
      ]
    },
    {
      "cell_type": "code",
      "metadata": {
        "id": "4Nuyywk4ckxr",
        "colab_type": "code",
        "colab": {
          "base_uri": "https://localhost:8080/",
          "height": 34
        },
        "outputId": "3ca4cff9-6f8a-4491-ba34-27f6e2b962f5"
      },
      "source": [
        "data.columns"
      ],
      "execution_count": 11,
      "outputs": [
        {
          "output_type": "execute_result",
          "data": {
            "text/plain": [
              "Index(['date', 'symbol', 'open', 'close', 'low', 'high', 'volume'], dtype='object')"
            ]
          },
          "metadata": {
            "tags": []
          },
          "execution_count": 11
        }
      ]
    },
    {
      "cell_type": "markdown",
      "metadata": {
        "colab_type": "text",
        "id": "7dU6X7MpOB6c"
      },
      "source": [
        "### Drop columns `date` and  `symbol`"
      ]
    },
    {
      "cell_type": "code",
      "metadata": {
        "colab_type": "code",
        "id": "lh_6spSKOB6e",
        "colab": {}
      },
      "source": [
        "data = data.drop(['date','symbol'],axis=1)"
      ],
      "execution_count": 0,
      "outputs": []
    },
    {
      "cell_type": "code",
      "metadata": {
        "colab_type": "code",
        "id": "xlwbUgTwOB6i",
        "outputId": "5c13d59b-ab0b-41c2-d0b9-47d7febda9eb",
        "colab": {
          "base_uri": "https://localhost:8080/",
          "height": 195
        }
      },
      "source": [
        "data.head()"
      ],
      "execution_count": 13,
      "outputs": [
        {
          "output_type": "execute_result",
          "data": {
            "text/html": [
              "<div>\n",
              "<style scoped>\n",
              "    .dataframe tbody tr th:only-of-type {\n",
              "        vertical-align: middle;\n",
              "    }\n",
              "\n",
              "    .dataframe tbody tr th {\n",
              "        vertical-align: top;\n",
              "    }\n",
              "\n",
              "    .dataframe thead th {\n",
              "        text-align: right;\n",
              "    }\n",
              "</style>\n",
              "<table border=\"1\" class=\"dataframe\">\n",
              "  <thead>\n",
              "    <tr style=\"text-align: right;\">\n",
              "      <th></th>\n",
              "      <th>open</th>\n",
              "      <th>close</th>\n",
              "      <th>low</th>\n",
              "      <th>high</th>\n",
              "      <th>volume</th>\n",
              "    </tr>\n",
              "  </thead>\n",
              "  <tbody>\n",
              "    <tr>\n",
              "      <th>0</th>\n",
              "      <td>123.430000</td>\n",
              "      <td>125.839996</td>\n",
              "      <td>122.309998</td>\n",
              "      <td>126.250000</td>\n",
              "      <td>2163600.0</td>\n",
              "    </tr>\n",
              "    <tr>\n",
              "      <th>1</th>\n",
              "      <td>125.239998</td>\n",
              "      <td>119.980003</td>\n",
              "      <td>119.940002</td>\n",
              "      <td>125.540001</td>\n",
              "      <td>2386400.0</td>\n",
              "    </tr>\n",
              "    <tr>\n",
              "      <th>2</th>\n",
              "      <td>116.379997</td>\n",
              "      <td>114.949997</td>\n",
              "      <td>114.930000</td>\n",
              "      <td>119.739998</td>\n",
              "      <td>2489500.0</td>\n",
              "    </tr>\n",
              "    <tr>\n",
              "      <th>3</th>\n",
              "      <td>115.480003</td>\n",
              "      <td>116.620003</td>\n",
              "      <td>113.500000</td>\n",
              "      <td>117.440002</td>\n",
              "      <td>2006300.0</td>\n",
              "    </tr>\n",
              "    <tr>\n",
              "      <th>4</th>\n",
              "      <td>117.010002</td>\n",
              "      <td>114.970001</td>\n",
              "      <td>114.089996</td>\n",
              "      <td>117.330002</td>\n",
              "      <td>1408600.0</td>\n",
              "    </tr>\n",
              "  </tbody>\n",
              "</table>\n",
              "</div>"
            ],
            "text/plain": [
              "         open       close         low        high     volume\n",
              "0  123.430000  125.839996  122.309998  126.250000  2163600.0\n",
              "1  125.239998  119.980003  119.940002  125.540001  2386400.0\n",
              "2  116.379997  114.949997  114.930000  119.739998  2489500.0\n",
              "3  115.480003  116.620003  113.500000  117.440002  2006300.0\n",
              "4  117.010002  114.970001  114.089996  117.330002  1408600.0"
            ]
          },
          "metadata": {
            "tags": []
          },
          "execution_count": 13
        }
      ]
    },
    {
      "cell_type": "markdown",
      "metadata": {
        "colab_type": "text",
        "id": "3DBv3WWYOB6q"
      },
      "source": [
        "### Consider only first 1000 rows in the dataset for building feature set and target set\n",
        "Target 'Volume' has very high values. Divide 'Volume' by 1000,000"
      ]
    },
    {
      "cell_type": "code",
      "metadata": {
        "colab_type": "code",
        "id": "Z_hG9rGBOB6s",
        "colab": {
          "base_uri": "https://localhost:8080/",
          "height": 34
        },
        "outputId": "40817660-31c2-4cdf-ca8b-c3842c0f2202"
      },
      "source": [
        "data.shape"
      ],
      "execution_count": 14,
      "outputs": [
        {
          "output_type": "execute_result",
          "data": {
            "text/plain": [
              "(851264, 5)"
            ]
          },
          "metadata": {
            "tags": []
          },
          "execution_count": 14
        }
      ]
    },
    {
      "cell_type": "code",
      "metadata": {
        "id": "giaTQPVSeBKu",
        "colab_type": "code",
        "colab": {}
      },
      "source": [
        "data_1000 = data.loc[0:1000]"
      ],
      "execution_count": 0,
      "outputs": []
    },
    {
      "cell_type": "code",
      "metadata": {
        "id": "zRbFGpYKfSKv",
        "colab_type": "code",
        "colab": {
          "base_uri": "https://localhost:8080/",
          "height": 118
        },
        "outputId": "867586fa-4b9e-41ee-c8b2-c06d775cc326"
      },
      "source": [
        "data_1000['volume'] = data_1000['volume'] / 1000000"
      ],
      "execution_count": 17,
      "outputs": [
        {
          "output_type": "stream",
          "text": [
            "/usr/local/lib/python3.6/dist-packages/ipykernel_launcher.py:1: SettingWithCopyWarning: \n",
            "A value is trying to be set on a copy of a slice from a DataFrame.\n",
            "Try using .loc[row_indexer,col_indexer] = value instead\n",
            "\n",
            "See the caveats in the documentation: http://pandas.pydata.org/pandas-docs/stable/user_guide/indexing.html#returning-a-view-versus-a-copy\n",
            "  \"\"\"Entry point for launching an IPython kernel.\n"
          ],
          "name": "stderr"
        }
      ]
    },
    {
      "cell_type": "code",
      "metadata": {
        "id": "SwdFZeEweWT-",
        "colab_type": "code",
        "colab": {
          "base_uri": "https://localhost:8080/",
          "height": 166
        },
        "outputId": "45942001-a014-4c0b-9893-defb83bcb421"
      },
      "source": [
        "data_1000.sample(4)"
      ],
      "execution_count": 18,
      "outputs": [
        {
          "output_type": "execute_result",
          "data": {
            "text/html": [
              "<div>\n",
              "<style scoped>\n",
              "    .dataframe tbody tr th:only-of-type {\n",
              "        vertical-align: middle;\n",
              "    }\n",
              "\n",
              "    .dataframe tbody tr th {\n",
              "        vertical-align: top;\n",
              "    }\n",
              "\n",
              "    .dataframe thead th {\n",
              "        text-align: right;\n",
              "    }\n",
              "</style>\n",
              "<table border=\"1\" class=\"dataframe\">\n",
              "  <thead>\n",
              "    <tr style=\"text-align: right;\">\n",
              "      <th></th>\n",
              "      <th>open</th>\n",
              "      <th>close</th>\n",
              "      <th>low</th>\n",
              "      <th>high</th>\n",
              "      <th>volume</th>\n",
              "    </tr>\n",
              "  </thead>\n",
              "  <tbody>\n",
              "    <tr>\n",
              "      <th>229</th>\n",
              "      <td>125.500000</td>\n",
              "      <td>124.370003</td>\n",
              "      <td>124.120003</td>\n",
              "      <td>126.000000</td>\n",
              "      <td>0.6767</td>\n",
              "    </tr>\n",
              "    <tr>\n",
              "      <th>563</th>\n",
              "      <td>34.590000</td>\n",
              "      <td>34.189999</td>\n",
              "      <td>34.000000</td>\n",
              "      <td>34.869999</td>\n",
              "      <td>5.3201</td>\n",
              "    </tr>\n",
              "    <tr>\n",
              "      <th>401</th>\n",
              "      <td>44.490002</td>\n",
              "      <td>44.790001</td>\n",
              "      <td>44.490002</td>\n",
              "      <td>45.250000</td>\n",
              "      <td>0.7742</td>\n",
              "    </tr>\n",
              "    <tr>\n",
              "      <th>634</th>\n",
              "      <td>33.919998</td>\n",
              "      <td>33.610001</td>\n",
              "      <td>33.380001</td>\n",
              "      <td>33.919998</td>\n",
              "      <td>1.5722</td>\n",
              "    </tr>\n",
              "  </tbody>\n",
              "</table>\n",
              "</div>"
            ],
            "text/plain": [
              "           open       close         low        high  volume\n",
              "229  125.500000  124.370003  124.120003  126.000000  0.6767\n",
              "563   34.590000   34.189999   34.000000   34.869999  5.3201\n",
              "401   44.490002   44.790001   44.490002   45.250000  0.7742\n",
              "634   33.919998   33.610001   33.380001   33.919998  1.5722"
            ]
          },
          "metadata": {
            "tags": []
          },
          "execution_count": 18
        }
      ]
    },
    {
      "cell_type": "markdown",
      "metadata": {
        "colab_type": "text",
        "id": "M3UaApqYOB6x"
      },
      "source": [
        "### Divide the data into train and test sets"
      ]
    },
    {
      "cell_type": "code",
      "metadata": {
        "colab_type": "code",
        "id": "4LE4U8lTdQJq",
        "colab": {}
      },
      "source": [
        "from sklearn.model_selection import train_test_split\n",
        "\n",
        "data_Y = data_1000[\"volume\"]\n",
        "data_X = data_1000.drop([\"volume\"], axis=1)\n",
        "X_train, X_test, y_train, y_test = train_test_split(data_X,data_Y, test_size = 0.2, random_state = 10)"
      ],
      "execution_count": 0,
      "outputs": []
    },
    {
      "cell_type": "markdown",
      "metadata": {
        "colab_type": "text",
        "id": "oYK-aUuLbrz2"
      },
      "source": [
        "#### Convert Training and Test Data to numpy float32 arrays\n"
      ]
    },
    {
      "cell_type": "code",
      "metadata": {
        "colab_type": "code",
        "id": "Ao-S0tQGcncz",
        "colab": {
          "base_uri": "https://localhost:8080/",
          "height": 168
        },
        "outputId": "1de882d7-c88b-4878-ff87-89c7f981e602"
      },
      "source": [
        "X_train.info()"
      ],
      "execution_count": 123,
      "outputs": [
        {
          "output_type": "stream",
          "text": [
            "<class 'pandas.core.frame.DataFrame'>\n",
            "Int64Index: 800 entries, 194 to 265\n",
            "Data columns (total 4 columns):\n",
            "open     800 non-null float64\n",
            "close    800 non-null float64\n",
            "low      800 non-null float64\n",
            "high     800 non-null float64\n",
            "dtypes: float64(4)\n",
            "memory usage: 31.2 KB\n"
          ],
          "name": "stdout"
        }
      ]
    },
    {
      "cell_type": "code",
      "metadata": {
        "id": "RUPD8V7YhKuY",
        "colab_type": "code",
        "colab": {}
      },
      "source": [
        "X_train = X_train.to_numpy().astype('float32')\n",
        "X_test = X_test.to_numpy().astype('float32')\n",
        "y_train = y_train.to_numpy().astype('float32')\n",
        "y_test = y_test.to_numpy().astype('float32')"
      ],
      "execution_count": 0,
      "outputs": []
    },
    {
      "cell_type": "code",
      "metadata": {
        "id": "oC0itDxKkDj7",
        "colab_type": "code",
        "colab": {
          "base_uri": "https://localhost:8080/",
          "height": 34
        },
        "outputId": "15b78470-509d-401b-f2fd-1c6a8792422f"
      },
      "source": [
        "X_train[0:1]"
      ],
      "execution_count": 125,
      "outputs": [
        {
          "output_type": "execute_result",
          "data": {
            "text/plain": [
              "array([[130.52, 128.73, 128.17, 131.42]], dtype=float32)"
            ]
          },
          "metadata": {
            "tags": []
          },
          "execution_count": 125
        }
      ]
    },
    {
      "cell_type": "markdown",
      "metadata": {
        "colab_type": "text",
        "id": "im1ZegbDdKgv"
      },
      "source": [
        "### Normalize the data\n",
        "You can use Normalizer from sklearn.preprocessing"
      ]
    },
    {
      "cell_type": "code",
      "metadata": {
        "colab_type": "code",
        "id": "2EkKAy7fOB6y",
        "colab": {}
      },
      "source": [
        "#from sklearn.preprocessing import Normalizer\n",
        "from sklearn import preprocessing\n",
        "X_train_normalized = preprocessing.normalize(X_train)\n",
        "X_test_normalized = preprocessing.normalize(X_test)\n",
        "\n",
        "#transformer = Normalizer()\n",
        "#train_x_1 = transformer.fit_transform(X_train)"
      ],
      "execution_count": 0,
      "outputs": []
    },
    {
      "cell_type": "code",
      "metadata": {
        "id": "HIAUdS54llkg",
        "colab_type": "code",
        "colab": {
          "base_uri": "https://localhost:8080/",
          "height": 34
        },
        "outputId": "c9a47069-0924-46d4-8447-00318664d084"
      },
      "source": [
        "X_train_normalized[0:1]"
      ],
      "execution_count": 52,
      "outputs": [
        {
          "output_type": "execute_result",
          "data": {
            "text/plain": [
              "array([[0.5030965 , 0.49619684, 0.4940383 , 0.50656563]], dtype=float32)"
            ]
          },
          "metadata": {
            "tags": []
          },
          "execution_count": 52
        }
      ]
    },
    {
      "cell_type": "code",
      "metadata": {
        "id": "RKQ59n1_necj",
        "colab_type": "code",
        "colab": {
          "base_uri": "https://localhost:8080/",
          "height": 34
        },
        "outputId": "45520256-4dfb-4ae7-851a-20b850135246"
      },
      "source": [
        "X_train_normalized.shape"
      ],
      "execution_count": 53,
      "outputs": [
        {
          "output_type": "execute_result",
          "data": {
            "text/plain": [
              "(800, 4)"
            ]
          },
          "metadata": {
            "tags": []
          },
          "execution_count": 53
        }
      ]
    },
    {
      "cell_type": "markdown",
      "metadata": {
        "colab_type": "text",
        "id": "v6vE4eYCOB62"
      },
      "source": [
        "## Building the Model in tensorflow"
      ]
    },
    {
      "cell_type": "markdown",
      "metadata": {
        "colab_type": "text",
        "id": "297_qja4OB7A"
      },
      "source": [
        "1.Define Weights and Bias, use tf.zeros to initialize weights and Bias"
      ]
    },
    {
      "cell_type": "code",
      "metadata": {
        "colab_type": "code",
        "id": "L205qPeQOB7B",
        "colab": {}
      },
      "source": [
        "#We are initializing weights and Bias with Zero\n",
        "w = tf.zeros(shape=(4,1))\n",
        "b = tf.zeros(shape=(1))"
      ],
      "execution_count": 0,
      "outputs": []
    },
    {
      "cell_type": "markdown",
      "metadata": {
        "colab_type": "text",
        "id": "HgtWA-UIOB7F"
      },
      "source": [
        "2.Define a function to calculate prediction"
      ]
    },
    {
      "cell_type": "code",
      "metadata": {
        "colab_type": "code",
        "id": "JveGlx25OB7H",
        "colab": {}
      },
      "source": [
        "def prediction(x, w, b):\n",
        "    \n",
        "    xw_matmul = tf.matmul(x, w)\n",
        "    y = tf.add(xw_matmul, b)\n",
        "    \n",
        "    return y"
      ],
      "execution_count": 0,
      "outputs": []
    },
    {
      "cell_type": "markdown",
      "metadata": {
        "colab_type": "text",
        "id": "TL1hIwf_OB7M"
      },
      "source": [
        "3.Loss (Cost) Function [Mean square error]"
      ]
    },
    {
      "cell_type": "code",
      "metadata": {
        "id": "7Dr0CzY3qW5C",
        "colab_type": "code",
        "colab": {}
      },
      "source": [
        "def loss(y_actual, y_predicted):\n",
        "    \n",
        "    diff = y_actual - y_predicted\n",
        "    sqr = tf.square(diff)\n",
        "    avg = tf.reduce_mean(sqr)\n",
        "    \n",
        "    return avg"
      ],
      "execution_count": 0,
      "outputs": []
    },
    {
      "cell_type": "code",
      "metadata": {
        "colab_type": "code",
        "id": "8VSWPiGXOB7P",
        "colab": {}
      },
      "source": [
        ""
      ],
      "execution_count": 0,
      "outputs": []
    },
    {
      "cell_type": "markdown",
      "metadata": {
        "colab_type": "text",
        "id": "jzG85FUlOB7U"
      },
      "source": [
        "4.Function to train the Model\n",
        "\n",
        "1.   Record all the mathematical steps to calculate Loss\n",
        "2.   Calculate Gradients of Loss w.r.t weights and bias\n",
        "3.   Update Weights and Bias based on gradients and learning rate to minimize loss"
      ]
    },
    {
      "cell_type": "code",
      "metadata": {
        "colab_type": "code",
        "id": "cj802w-3OB7X",
        "colab": {}
      },
      "source": [
        "def train(x, y_actual, w, b, learning_rate=0.01):\n",
        "    \n",
        "    #Record mathematical operations on 'tape' to calculate loss\n",
        "    with tf.GradientTape() as t:\n",
        "        \n",
        "        t.watch([w,b])\n",
        "        \n",
        "        current_prediction = prediction(x, w, b)\n",
        "        current_loss = loss(y_actual, current_prediction)\n",
        "    \n",
        "    #Calculate Gradients for Loss with respect to Weights and Bias\n",
        "    dw, db = t.gradient(current_loss,[w, b])\n",
        "    \n",
        "    #Update Weights and Bias\n",
        "    w = w - learning_rate*dw\n",
        "    b = b - learning_rate*db\n",
        "    \n",
        "    return w, b"
      ],
      "execution_count": 0,
      "outputs": []
    },
    {
      "cell_type": "markdown",
      "metadata": {
        "colab_type": "text",
        "id": "xSypb_u8OB7e"
      },
      "source": [
        "## Train the model for 100 epochs \n",
        "1. Observe the training loss at every iteration\n",
        "2. Observe Train loss at every 5th iteration"
      ]
    },
    {
      "cell_type": "code",
      "metadata": {
        "colab_type": "code",
        "id": "DVvgj7eQOB7f",
        "colab": {
          "base_uri": "https://localhost:8080/",
          "height": 1697
        },
        "outputId": "cccff1b0-3575-4305-df73-25d875bdbcfe"
      },
      "source": [
        "for i in range(100):\n",
        "    \n",
        "    w, b = train(X_train_normalized, y_train, w, b)\n",
        "    print('Current Loss on iteration', i, loss(y_train, prediction(X_train_normalized, w, b)).numpy())"
      ],
      "execution_count": 130,
      "outputs": [
        {
          "output_type": "stream",
          "text": [
            "Current Loss on iteration 0 278.37766\n",
            "Current Loss on iteration 1 276.0609\n",
            "Current Loss on iteration 2 273.92584\n",
            "Current Loss on iteration 3 271.9583\n",
            "Current Loss on iteration 4 270.14493\n",
            "Current Loss on iteration 5 268.47354\n",
            "Current Loss on iteration 6 266.93332\n",
            "Current Loss on iteration 7 265.51385\n",
            "Current Loss on iteration 8 264.20557\n",
            "Current Loss on iteration 9 262.9999\n",
            "Current Loss on iteration 10 261.8888\n",
            "Current Loss on iteration 11 260.86484\n",
            "Current Loss on iteration 12 259.9211\n",
            "Current Loss on iteration 13 259.05154\n",
            "Current Loss on iteration 14 258.24994\n",
            "Current Loss on iteration 15 257.51105\n",
            "Current Loss on iteration 16 256.8304\n",
            "Current Loss on iteration 17 256.20297\n",
            "Current Loss on iteration 18 255.6247\n",
            "Current Loss on iteration 19 255.09183\n",
            "Current Loss on iteration 20 254.60065\n",
            "Current Loss on iteration 21 254.14813\n",
            "Current Loss on iteration 22 253.73096\n",
            "Current Loss on iteration 23 253.34648\n",
            "Current Loss on iteration 24 252.99222\n",
            "Current Loss on iteration 25 252.6656\n",
            "Current Loss on iteration 26 252.3647\n",
            "Current Loss on iteration 27 252.08728\n",
            "Current Loss on iteration 28 251.83185\n",
            "Current Loss on iteration 29 251.59625\n",
            "Current Loss on iteration 30 251.37912\n",
            "Current Loss on iteration 31 251.17912\n",
            "Current Loss on iteration 32 250.99472\n",
            "Current Loss on iteration 33 250.82483\n",
            "Current Loss on iteration 34 250.66823\n",
            "Current Loss on iteration 35 250.52396\n",
            "Current Loss on iteration 36 250.39085\n",
            "Current Loss on iteration 37 250.2683\n",
            "Current Loss on iteration 38 250.15523\n",
            "Current Loss on iteration 39 250.0512\n",
            "Current Loss on iteration 40 249.9553\n",
            "Current Loss on iteration 41 249.86682\n",
            "Current Loss on iteration 42 249.78528\n",
            "Current Loss on iteration 43 249.7103\n",
            "Current Loss on iteration 44 249.64098\n",
            "Current Loss on iteration 45 249.5772\n",
            "Current Loss on iteration 46 249.51843\n",
            "Current Loss on iteration 47 249.4642\n",
            "Current Loss on iteration 48 249.41425\n",
            "Current Loss on iteration 49 249.3682\n",
            "Current Loss on iteration 50 249.32582\n",
            "Current Loss on iteration 51 249.28677\n",
            "Current Loss on iteration 52 249.25075\n",
            "Current Loss on iteration 53 249.2175\n",
            "Current Loss on iteration 54 249.1868\n",
            "Current Loss on iteration 55 249.15872\n",
            "Current Loss on iteration 56 249.13284\n",
            "Current Loss on iteration 57 249.1088\n",
            "Current Loss on iteration 58 249.08673\n",
            "Current Loss on iteration 59 249.06645\n",
            "Current Loss on iteration 60 249.04765\n",
            "Current Loss on iteration 61 249.03024\n",
            "Current Loss on iteration 62 249.0144\n",
            "Current Loss on iteration 63 248.9997\n",
            "Current Loss on iteration 64 248.98615\n",
            "Current Loss on iteration 65 248.97375\n",
            "Current Loss on iteration 66 248.96214\n",
            "Current Loss on iteration 67 248.95164\n",
            "Current Loss on iteration 68 248.94196\n",
            "Current Loss on iteration 69 248.93295\n",
            "Current Loss on iteration 70 248.92473\n",
            "Current Loss on iteration 71 248.917\n",
            "Current Loss on iteration 72 248.90994\n",
            "Current Loss on iteration 73 248.9036\n",
            "Current Loss on iteration 74 248.89755\n",
            "Current Loss on iteration 75 248.89215\n",
            "Current Loss on iteration 76 248.88695\n",
            "Current Loss on iteration 77 248.88225\n",
            "Current Loss on iteration 78 248.878\n",
            "Current Loss on iteration 79 248.874\n",
            "Current Loss on iteration 80 248.87035\n",
            "Current Loss on iteration 81 248.86694\n",
            "Current Loss on iteration 82 248.864\n",
            "Current Loss on iteration 83 248.86095\n",
            "Current Loss on iteration 84 248.85835\n",
            "Current Loss on iteration 85 248.85585\n",
            "Current Loss on iteration 86 248.85362\n",
            "Current Loss on iteration 87 248.8516\n",
            "Current Loss on iteration 88 248.84962\n",
            "Current Loss on iteration 89 248.84793\n",
            "Current Loss on iteration 90 248.8463\n",
            "Current Loss on iteration 91 248.84496\n",
            "Current Loss on iteration 92 248.8435\n",
            "Current Loss on iteration 93 248.8421\n",
            "Current Loss on iteration 94 248.841\n",
            "Current Loss on iteration 95 248.83984\n",
            "Current Loss on iteration 96 248.8389\n",
            "Current Loss on iteration 97 248.838\n",
            "Current Loss on iteration 98 248.8372\n",
            "Current Loss on iteration 99 248.83635\n"
          ],
          "name": "stdout"
        }
      ]
    },
    {
      "cell_type": "markdown",
      "metadata": {
        "colab_type": "text",
        "id": "DOL2ncA1OB7q"
      },
      "source": [
        "### Get the shapes and values of W and b"
      ]
    },
    {
      "cell_type": "code",
      "metadata": {
        "colab_type": "code",
        "id": "ZGvtyTeuOB7r",
        "colab": {
          "base_uri": "https://localhost:8080/",
          "height": 134
        },
        "outputId": "ca589fdb-a103-4a0b-fb02-17066f9c0ffb"
      },
      "source": [
        "#Check Weights and Bias\n",
        "print('Weights:\\n', w.numpy())\n",
        "print('Bias:\\n',b.numpy())"
      ],
      "execution_count": 131,
      "outputs": [
        {
          "output_type": "stream",
          "text": [
            "Weights:\n",
            " [[1.3895233]\n",
            " [1.3948809]\n",
            " [1.3757309]\n",
            " [1.4066744]]\n",
            "Bias:\n",
            " [2.783558]\n"
          ],
          "name": "stdout"
        }
      ]
    },
    {
      "cell_type": "code",
      "metadata": {
        "colab_type": "code",
        "id": "vhDtOv5UOB7x",
        "colab": {
          "base_uri": "https://localhost:8080/",
          "height": 34
        },
        "outputId": "87e80b6e-9c52-4b88-d9ad-36da24c0d7ef"
      },
      "source": [
        "X_test_normalized[0].shape"
      ],
      "execution_count": 132,
      "outputs": [
        {
          "output_type": "execute_result",
          "data": {
            "text/plain": [
              "(4,)"
            ]
          },
          "metadata": {
            "tags": []
          },
          "execution_count": 132
        }
      ]
    },
    {
      "cell_type": "code",
      "metadata": {
        "id": "GiYGGbhCtC2E",
        "colab_type": "code",
        "colab": {
          "base_uri": "https://localhost:8080/",
          "height": 34
        },
        "outputId": "4b2fdadd-4c17-4295-b8bd-8681ff8c306d"
      },
      "source": [
        "import numpy as np\n",
        "np.expand_dims(X_test_normalized[0], axis=0).shape"
      ],
      "execution_count": 133,
      "outputs": [
        {
          "output_type": "execute_result",
          "data": {
            "text/plain": [
              "(1, 4)"
            ]
          },
          "metadata": {
            "tags": []
          },
          "execution_count": 133
        }
      ]
    },
    {
      "cell_type": "markdown",
      "metadata": {
        "colab_type": "text",
        "id": "ERq9GOKKciho"
      },
      "source": [
        "### Model Prediction on 1st Examples in Test Dataset"
      ]
    },
    {
      "cell_type": "code",
      "metadata": {
        "colab_type": "code",
        "id": "gKGvUWahcihp",
        "colab": {
          "base_uri": "https://localhost:8080/",
          "height": 34
        },
        "outputId": "48f12656-7b9d-4873-c6a3-ecd0d1dcdf7b"
      },
      "source": [
        "prediction(np.expand_dims(X_test_normalized[0], axis=0), w, b).numpy()"
      ],
      "execution_count": 134,
      "outputs": [
        {
          "output_type": "execute_result",
          "data": {
            "text/plain": [
              "array([[5.567032]], dtype=float32)"
            ]
          },
          "metadata": {
            "tags": []
          },
          "execution_count": 134
        }
      ]
    },
    {
      "cell_type": "code",
      "metadata": {
        "id": "7cbo6Cw9-OAl",
        "colab_type": "code",
        "colab": {
          "base_uri": "https://localhost:8080/",
          "height": 34
        },
        "outputId": "e7cfa85c-9cf5-46cc-f72a-b491d7f79e61"
      },
      "source": [
        "y_test[0]"
      ],
      "execution_count": 135,
      "outputs": [
        {
          "output_type": "execute_result",
          "data": {
            "text/plain": [
              "10.3077"
            ]
          },
          "metadata": {
            "tags": []
          },
          "execution_count": 135
        }
      ]
    },
    {
      "cell_type": "code",
      "metadata": {
        "id": "gVsE8lVZtqbD",
        "colab_type": "code",
        "colab": {
          "base_uri": "https://localhost:8080/",
          "height": 34
        },
        "outputId": "cf767e6e-81e0-4069-9e3f-7da25b42c7f3"
      },
      "source": [
        "loss(y_test[0],prediction(np.expand_dims(X_test_normalized[0], axis=0), w, b)).numpy()"
      ],
      "execution_count": 137,
      "outputs": [
        {
          "output_type": "execute_result",
          "data": {
            "text/plain": [
              "22.473936"
            ]
          },
          "metadata": {
            "tags": []
          },
          "execution_count": 137
        }
      ]
    },
    {
      "cell_type": "markdown",
      "metadata": {
        "colab_type": "text",
        "id": "YJRBuqXhOB7_"
      },
      "source": [
        "## Classification using tf.Keras\n",
        "\n",
        "In this exercise, we will build a Deep Neural Network using tf.Keras. We will use Iris Dataset for this exercise."
      ]
    },
    {
      "cell_type": "markdown",
      "metadata": {
        "colab_type": "text",
        "id": "O0g6lorycihf"
      },
      "source": [
        "### Load the given Iris data using pandas (Iris.csv)"
      ]
    },
    {
      "cell_type": "code",
      "metadata": {
        "colab_type": "code",
        "id": "6xFvb5sRcihg",
        "colab": {}
      },
      "source": [
        "iris_data = pd.read_csv('/gdrive/My Drive/greatlakes/Residency6/InternalLab/Iris.csv')"
      ],
      "execution_count": 0,
      "outputs": []
    },
    {
      "cell_type": "markdown",
      "metadata": {
        "colab_type": "text",
        "id": "SAB--Qdwcihm"
      },
      "source": [
        "### Target set has different categories. So, Label encode them. And convert into one-hot vectors using get_dummies in pandas."
      ]
    },
    {
      "cell_type": "code",
      "metadata": {
        "colab_type": "code",
        "id": "IJr5dYnocihm",
        "colab": {
          "base_uri": "https://localhost:8080/",
          "height": 106
        },
        "outputId": "b86cecbb-854c-4934-fbd1-c23f0c1dcdeb"
      },
      "source": [
        "iris_data.head(2)"
      ],
      "execution_count": 100,
      "outputs": [
        {
          "output_type": "execute_result",
          "data": {
            "text/html": [
              "<div>\n",
              "<style scoped>\n",
              "    .dataframe tbody tr th:only-of-type {\n",
              "        vertical-align: middle;\n",
              "    }\n",
              "\n",
              "    .dataframe tbody tr th {\n",
              "        vertical-align: top;\n",
              "    }\n",
              "\n",
              "    .dataframe thead th {\n",
              "        text-align: right;\n",
              "    }\n",
              "</style>\n",
              "<table border=\"1\" class=\"dataframe\">\n",
              "  <thead>\n",
              "    <tr style=\"text-align: right;\">\n",
              "      <th></th>\n",
              "      <th>Id</th>\n",
              "      <th>SepalLengthCm</th>\n",
              "      <th>SepalWidthCm</th>\n",
              "      <th>PetalLengthCm</th>\n",
              "      <th>PetalWidthCm</th>\n",
              "      <th>Species</th>\n",
              "    </tr>\n",
              "  </thead>\n",
              "  <tbody>\n",
              "    <tr>\n",
              "      <th>0</th>\n",
              "      <td>1</td>\n",
              "      <td>5.1</td>\n",
              "      <td>3.5</td>\n",
              "      <td>1.4</td>\n",
              "      <td>0.2</td>\n",
              "      <td>Iris-setosa</td>\n",
              "    </tr>\n",
              "    <tr>\n",
              "      <th>1</th>\n",
              "      <td>2</td>\n",
              "      <td>4.9</td>\n",
              "      <td>3.0</td>\n",
              "      <td>1.4</td>\n",
              "      <td>0.2</td>\n",
              "      <td>Iris-setosa</td>\n",
              "    </tr>\n",
              "  </tbody>\n",
              "</table>\n",
              "</div>"
            ],
            "text/plain": [
              "   Id  SepalLengthCm  SepalWidthCm  PetalLengthCm  PetalWidthCm      Species\n",
              "0   1            5.1           3.5            1.4           0.2  Iris-setosa\n",
              "1   2            4.9           3.0            1.4           0.2  Iris-setosa"
            ]
          },
          "metadata": {
            "tags": []
          },
          "execution_count": 100
        }
      ]
    },
    {
      "cell_type": "code",
      "metadata": {
        "id": "dX8sqOCYw_RY",
        "colab_type": "code",
        "colab": {}
      },
      "source": [
        "from sklearn import preprocessing\n",
        "le = preprocessing.LabelEncoder()\n",
        "\n",
        "iris_data['Species'] = le.fit_transform(iris_data['Species'])"
      ],
      "execution_count": 0,
      "outputs": []
    },
    {
      "cell_type": "code",
      "metadata": {
        "id": "JQu51uipxh8P",
        "colab_type": "code",
        "colab": {
          "base_uri": "https://localhost:8080/",
          "height": 34
        },
        "outputId": "3607f261-c3be-41cd-8402-ce347c9a6a65"
      },
      "source": [
        "list(le.classes_)"
      ],
      "execution_count": 91,
      "outputs": [
        {
          "output_type": "execute_result",
          "data": {
            "text/plain": [
              "['Iris-setosa', 'Iris-versicolor', 'Iris-virginica']"
            ]
          },
          "metadata": {
            "tags": []
          },
          "execution_count": 91
        }
      ]
    },
    {
      "cell_type": "code",
      "metadata": {
        "id": "zpzKrWguySav",
        "colab_type": "code",
        "colab": {}
      },
      "source": [
        "iris_data_one_hot_encoded = pd.get_dummies(iris_data, columns=['Species'])"
      ],
      "execution_count": 0,
      "outputs": []
    },
    {
      "cell_type": "code",
      "metadata": {
        "id": "Ug5Wn3InxwLb",
        "colab_type": "code",
        "colab": {
          "base_uri": "https://localhost:8080/",
          "height": 166
        },
        "outputId": "61182b23-a4e5-4d1a-f604-26dcb59eac08"
      },
      "source": [
        "iris_data_one_hot_encoded.sample(4)"
      ],
      "execution_count": 109,
      "outputs": [
        {
          "output_type": "execute_result",
          "data": {
            "text/html": [
              "<div>\n",
              "<style scoped>\n",
              "    .dataframe tbody tr th:only-of-type {\n",
              "        vertical-align: middle;\n",
              "    }\n",
              "\n",
              "    .dataframe tbody tr th {\n",
              "        vertical-align: top;\n",
              "    }\n",
              "\n",
              "    .dataframe thead th {\n",
              "        text-align: right;\n",
              "    }\n",
              "</style>\n",
              "<table border=\"1\" class=\"dataframe\">\n",
              "  <thead>\n",
              "    <tr style=\"text-align: right;\">\n",
              "      <th></th>\n",
              "      <th>Id</th>\n",
              "      <th>SepalLengthCm</th>\n",
              "      <th>SepalWidthCm</th>\n",
              "      <th>PetalLengthCm</th>\n",
              "      <th>PetalWidthCm</th>\n",
              "      <th>Species_0</th>\n",
              "      <th>Species_1</th>\n",
              "      <th>Species_2</th>\n",
              "    </tr>\n",
              "  </thead>\n",
              "  <tbody>\n",
              "    <tr>\n",
              "      <th>33</th>\n",
              "      <td>34</td>\n",
              "      <td>5.5</td>\n",
              "      <td>4.2</td>\n",
              "      <td>1.4</td>\n",
              "      <td>0.2</td>\n",
              "      <td>1</td>\n",
              "      <td>0</td>\n",
              "      <td>0</td>\n",
              "    </tr>\n",
              "    <tr>\n",
              "      <th>111</th>\n",
              "      <td>112</td>\n",
              "      <td>6.4</td>\n",
              "      <td>2.7</td>\n",
              "      <td>5.3</td>\n",
              "      <td>1.9</td>\n",
              "      <td>0</td>\n",
              "      <td>0</td>\n",
              "      <td>1</td>\n",
              "    </tr>\n",
              "    <tr>\n",
              "      <th>5</th>\n",
              "      <td>6</td>\n",
              "      <td>5.4</td>\n",
              "      <td>3.9</td>\n",
              "      <td>1.7</td>\n",
              "      <td>0.4</td>\n",
              "      <td>1</td>\n",
              "      <td>0</td>\n",
              "      <td>0</td>\n",
              "    </tr>\n",
              "    <tr>\n",
              "      <th>126</th>\n",
              "      <td>127</td>\n",
              "      <td>6.2</td>\n",
              "      <td>2.8</td>\n",
              "      <td>4.8</td>\n",
              "      <td>1.8</td>\n",
              "      <td>0</td>\n",
              "      <td>0</td>\n",
              "      <td>1</td>\n",
              "    </tr>\n",
              "  </tbody>\n",
              "</table>\n",
              "</div>"
            ],
            "text/plain": [
              "      Id  SepalLengthCm  SepalWidthCm  ...  Species_0  Species_1  Species_2\n",
              "33    34            5.5           4.2  ...          1          0          0\n",
              "111  112            6.4           2.7  ...          0          0          1\n",
              "5      6            5.4           3.9  ...          1          0          0\n",
              "126  127            6.2           2.8  ...          0          0          1\n",
              "\n",
              "[4 rows x 8 columns]"
            ]
          },
          "metadata": {
            "tags": []
          },
          "execution_count": 109
        }
      ]
    },
    {
      "cell_type": "markdown",
      "metadata": {
        "colab_type": "text",
        "id": "D95nY5ILcihj"
      },
      "source": [
        "### Splitting the data into feature set and target set"
      ]
    },
    {
      "cell_type": "code",
      "metadata": {
        "colab_type": "code",
        "id": "RyMQoLMucihj",
        "colab": {}
      },
      "source": [
        "target = iris_data_one_hot_encoded[[\"Species_0\",\"Species_1\",\"Species_2\"]]\n",
        "features = iris_data_one_hot_encoded.drop([\"Id\",\"Species_0\",\"Species_1\",\"Species_2\"], axis=1)"
      ],
      "execution_count": 0,
      "outputs": []
    },
    {
      "cell_type": "markdown",
      "metadata": {
        "colab_type": "text",
        "id": "b22qpC5xcihr"
      },
      "source": [
        "###  Building Model in tf.keras\n",
        "\n",
        "Build a Linear Classifier model  <br>\n",
        "1.  Use Dense Layer  with input shape of 4 (according to the feature set) and number of outputs set to 3<br> \n",
        "2. Apply Softmax on Dense Layer outputs <br>\n",
        "3. Use SGD as Optimizer\n",
        "4. Use categorical_crossentropy as loss function "
      ]
    },
    {
      "cell_type": "code",
      "metadata": {
        "colab_type": "code",
        "id": "Hov_UFnUciht",
        "colab": {}
      },
      "source": [
        "#Initialize Sequential model\n",
        "model = tf.keras.models.Sequential()\n",
        "\n",
        "#Normalize the data\n",
        "#model.add(tf.keras.layers.Dense(4))\n",
        "#model.add(tf.keras.layers.BatchNormalization())\n",
        "model.add(tf.keras.layers.Dense(3,input_shape=(4,), activation='softmax'))"
      ],
      "execution_count": 0,
      "outputs": []
    },
    {
      "cell_type": "code",
      "metadata": {
        "id": "0NRuKGWL7drl",
        "colab_type": "code",
        "colab": {}
      },
      "source": [
        "#Compile the model\n",
        "model.compile(optimizer='sgd', loss='categorical_crossentropy', \n",
        "              metrics=['accuracy'])"
      ],
      "execution_count": 0,
      "outputs": []
    },
    {
      "cell_type": "code",
      "metadata": {
        "id": "QP0yRhta7kHI",
        "colab_type": "code",
        "colab": {}
      },
      "source": [
        ""
      ],
      "execution_count": 0,
      "outputs": []
    },
    {
      "cell_type": "code",
      "metadata": {
        "id": "LquHiqqU7nTR",
        "colab_type": "code",
        "colab": {}
      },
      "source": [
        "X_train_iris, X_test_iris, y_train_iris, y_test_iris = train_test_split(features,target, test_size = 0.2, random_state = 10)"
      ],
      "execution_count": 0,
      "outputs": []
    },
    {
      "cell_type": "markdown",
      "metadata": {
        "colab_type": "text",
        "id": "T5FdzqIKcihw"
      },
      "source": [
        "### Model Training "
      ]
    },
    {
      "cell_type": "code",
      "metadata": {
        "colab_type": "code",
        "id": "4qLEdHPscihx",
        "colab": {
          "base_uri": "https://localhost:8080/",
          "height": 3447
        },
        "outputId": "cf59bc24-f167-4c61-e5ba-536d9d0ac6c5"
      },
      "source": [
        "model.fit(X_train_iris,y_train_iris,          \n",
        "          validation_data=(X_test_iris,y_test_iris),\n",
        "          epochs=100,\n",
        "          batch_size=10)"
      ],
      "execution_count": 149,
      "outputs": [
        {
          "output_type": "stream",
          "text": [
            "WARNING:tensorflow:Falling back from v2 loop because of error: Failed to find data adapter that can handle input: <class 'pandas.core.frame.DataFrame'>, <class 'NoneType'>\n",
            "Train on 120 samples, validate on 30 samples\n",
            "Epoch 1/100\n",
            "120/120 [==============================] - 0s 211us/sample - loss: 0.5129 - accuracy: 0.8000 - val_loss: 0.5772 - val_accuracy: 0.6000\n",
            "Epoch 2/100\n",
            "120/120 [==============================] - 0s 219us/sample - loss: 0.4993 - accuracy: 0.7750 - val_loss: 0.5366 - val_accuracy: 0.8000\n",
            "Epoch 3/100\n",
            "120/120 [==============================] - 0s 183us/sample - loss: 0.5111 - accuracy: 0.8167 - val_loss: 0.5478 - val_accuracy: 0.7000\n",
            "Epoch 4/100\n",
            "120/120 [==============================] - 0s 188us/sample - loss: 0.4929 - accuracy: 0.7833 - val_loss: 0.5336 - val_accuracy: 0.7667\n",
            "Epoch 5/100\n",
            "120/120 [==============================] - 0s 196us/sample - loss: 0.4987 - accuracy: 0.8000 - val_loss: 0.5372 - val_accuracy: 0.7333\n",
            "Epoch 6/100\n",
            "120/120 [==============================] - 0s 194us/sample - loss: 0.4889 - accuracy: 0.8333 - val_loss: 0.5377 - val_accuracy: 0.7000\n",
            "Epoch 7/100\n",
            "120/120 [==============================] - 0s 190us/sample - loss: 0.4821 - accuracy: 0.7667 - val_loss: 0.5040 - val_accuracy: 0.8667\n",
            "Epoch 8/100\n",
            "120/120 [==============================] - 0s 191us/sample - loss: 0.4802 - accuracy: 0.9000 - val_loss: 0.5487 - val_accuracy: 0.6333\n",
            "Epoch 9/100\n",
            "120/120 [==============================] - 0s 197us/sample - loss: 0.4756 - accuracy: 0.7917 - val_loss: 0.5302 - val_accuracy: 0.7000\n",
            "Epoch 10/100\n",
            "120/120 [==============================] - 0s 188us/sample - loss: 0.4662 - accuracy: 0.8583 - val_loss: 0.5574 - val_accuracy: 0.5667\n",
            "Epoch 11/100\n",
            "120/120 [==============================] - 0s 193us/sample - loss: 0.4688 - accuracy: 0.8417 - val_loss: 0.5627 - val_accuracy: 0.5667\n",
            "Epoch 12/100\n",
            "120/120 [==============================] - 0s 196us/sample - loss: 0.4653 - accuracy: 0.8000 - val_loss: 0.5129 - val_accuracy: 0.7667\n",
            "Epoch 13/100\n",
            "120/120 [==============================] - 0s 192us/sample - loss: 0.4605 - accuracy: 0.8500 - val_loss: 0.5485 - val_accuracy: 0.5667\n",
            "Epoch 14/100\n",
            "120/120 [==============================] - 0s 178us/sample - loss: 0.4573 - accuracy: 0.8417 - val_loss: 0.5357 - val_accuracy: 0.6333\n",
            "Epoch 15/100\n",
            "120/120 [==============================] - 0s 174us/sample - loss: 0.4547 - accuracy: 0.8250 - val_loss: 0.5141 - val_accuracy: 0.7333\n",
            "Epoch 16/100\n",
            "120/120 [==============================] - 0s 194us/sample - loss: 0.4536 - accuracy: 0.7917 - val_loss: 0.4924 - val_accuracy: 0.7667\n",
            "Epoch 17/100\n",
            "120/120 [==============================] - 0s 178us/sample - loss: 0.4430 - accuracy: 0.8583 - val_loss: 0.5105 - val_accuracy: 0.7000\n",
            "Epoch 18/100\n",
            "120/120 [==============================] - 0s 194us/sample - loss: 0.4435 - accuracy: 0.8667 - val_loss: 0.5068 - val_accuracy: 0.7333\n",
            "Epoch 19/100\n",
            "120/120 [==============================] - 0s 185us/sample - loss: 0.4409 - accuracy: 0.8500 - val_loss: 0.4814 - val_accuracy: 0.8000\n",
            "Epoch 20/100\n",
            "120/120 [==============================] - 0s 206us/sample - loss: 0.4399 - accuracy: 0.8333 - val_loss: 0.4638 - val_accuracy: 0.9000\n",
            "Epoch 21/100\n",
            "120/120 [==============================] - 0s 187us/sample - loss: 0.4320 - accuracy: 0.9333 - val_loss: 0.5159 - val_accuracy: 0.6333\n",
            "Epoch 22/100\n",
            "120/120 [==============================] - 0s 210us/sample - loss: 0.4311 - accuracy: 0.8667 - val_loss: 0.5095 - val_accuracy: 0.6333\n",
            "Epoch 23/100\n",
            "120/120 [==============================] - 0s 196us/sample - loss: 0.4248 - accuracy: 0.8750 - val_loss: 0.5032 - val_accuracy: 0.7000\n",
            "Epoch 24/100\n",
            "120/120 [==============================] - 0s 185us/sample - loss: 0.4248 - accuracy: 0.8667 - val_loss: 0.4868 - val_accuracy: 0.7667\n",
            "Epoch 25/100\n",
            "120/120 [==============================] - 0s 233us/sample - loss: 0.4215 - accuracy: 0.8917 - val_loss: 0.4824 - val_accuracy: 0.7667\n",
            "Epoch 26/100\n",
            "120/120 [==============================] - 0s 172us/sample - loss: 0.4146 - accuracy: 0.9083 - val_loss: 0.5130 - val_accuracy: 0.6333\n",
            "Epoch 27/100\n",
            "120/120 [==============================] - 0s 179us/sample - loss: 0.4186 - accuracy: 0.8667 - val_loss: 0.4773 - val_accuracy: 0.7667\n",
            "Epoch 28/100\n",
            "120/120 [==============================] - 0s 189us/sample - loss: 0.4141 - accuracy: 0.9000 - val_loss: 0.4784 - val_accuracy: 0.7667\n",
            "Epoch 29/100\n",
            "120/120 [==============================] - 0s 193us/sample - loss: 0.4160 - accuracy: 0.8333 - val_loss: 0.4482 - val_accuracy: 0.9000\n",
            "Epoch 30/100\n",
            "120/120 [==============================] - 0s 189us/sample - loss: 0.4106 - accuracy: 0.9250 - val_loss: 0.4732 - val_accuracy: 0.7667\n",
            "Epoch 31/100\n",
            "120/120 [==============================] - 0s 219us/sample - loss: 0.4070 - accuracy: 0.9250 - val_loss: 0.4789 - val_accuracy: 0.7333\n",
            "Epoch 32/100\n",
            "120/120 [==============================] - 0s 227us/sample - loss: 0.4085 - accuracy: 0.8917 - val_loss: 0.4605 - val_accuracy: 0.8000\n",
            "Epoch 33/100\n",
            "120/120 [==============================] - 0s 190us/sample - loss: 0.4021 - accuracy: 0.9000 - val_loss: 0.4844 - val_accuracy: 0.7000\n",
            "Epoch 34/100\n",
            "120/120 [==============================] - 0s 195us/sample - loss: 0.4009 - accuracy: 0.9000 - val_loss: 0.4932 - val_accuracy: 0.6667\n",
            "Epoch 35/100\n",
            "120/120 [==============================] - 0s 195us/sample - loss: 0.3965 - accuracy: 0.9083 - val_loss: 0.4695 - val_accuracy: 0.7667\n",
            "Epoch 36/100\n",
            "120/120 [==============================] - 0s 206us/sample - loss: 0.3962 - accuracy: 0.9083 - val_loss: 0.4687 - val_accuracy: 0.7667\n",
            "Epoch 37/100\n",
            "120/120 [==============================] - 0s 210us/sample - loss: 0.3936 - accuracy: 0.9167 - val_loss: 0.4672 - val_accuracy: 0.7667\n",
            "Epoch 38/100\n",
            "120/120 [==============================] - 0s 264us/sample - loss: 0.3891 - accuracy: 0.9000 - val_loss: 0.4422 - val_accuracy: 0.8000\n",
            "Epoch 39/100\n",
            "120/120 [==============================] - 0s 194us/sample - loss: 0.3899 - accuracy: 0.9000 - val_loss: 0.4380 - val_accuracy: 0.8333\n",
            "Epoch 40/100\n",
            "120/120 [==============================] - 0s 226us/sample - loss: 0.3923 - accuracy: 0.8917 - val_loss: 0.4582 - val_accuracy: 0.7667\n",
            "Epoch 41/100\n",
            "120/120 [==============================] - 0s 189us/sample - loss: 0.3799 - accuracy: 0.8750 - val_loss: 0.4173 - val_accuracy: 0.9333\n",
            "Epoch 42/100\n",
            "120/120 [==============================] - 0s 185us/sample - loss: 0.3871 - accuracy: 0.9333 - val_loss: 0.4377 - val_accuracy: 0.8000\n",
            "Epoch 43/100\n",
            "120/120 [==============================] - 0s 178us/sample - loss: 0.3841 - accuracy: 0.9250 - val_loss: 0.4452 - val_accuracy: 0.8000\n",
            "Epoch 44/100\n",
            "120/120 [==============================] - 0s 219us/sample - loss: 0.3755 - accuracy: 0.9417 - val_loss: 0.4475 - val_accuracy: 0.8000\n",
            "Epoch 45/100\n",
            "120/120 [==============================] - 0s 194us/sample - loss: 0.3933 - accuracy: 0.8750 - val_loss: 0.4468 - val_accuracy: 0.8000\n",
            "Epoch 46/100\n",
            "120/120 [==============================] - 0s 206us/sample - loss: 0.3737 - accuracy: 0.9250 - val_loss: 0.4380 - val_accuracy: 0.8000\n",
            "Epoch 47/100\n",
            "120/120 [==============================] - 0s 193us/sample - loss: 0.3726 - accuracy: 0.9000 - val_loss: 0.4392 - val_accuracy: 0.8000\n",
            "Epoch 48/100\n",
            "120/120 [==============================] - 0s 218us/sample - loss: 0.3746 - accuracy: 0.9000 - val_loss: 0.4181 - val_accuracy: 0.8667\n",
            "Epoch 49/100\n",
            "120/120 [==============================] - 0s 201us/sample - loss: 0.3734 - accuracy: 0.9417 - val_loss: 0.4531 - val_accuracy: 0.7667\n",
            "Epoch 50/100\n",
            "120/120 [==============================] - 0s 212us/sample - loss: 0.3746 - accuracy: 0.8917 - val_loss: 0.4265 - val_accuracy: 0.8000\n",
            "Epoch 51/100\n",
            "120/120 [==============================] - 0s 207us/sample - loss: 0.3710 - accuracy: 0.9167 - val_loss: 0.4308 - val_accuracy: 0.8000\n",
            "Epoch 52/100\n",
            "120/120 [==============================] - 0s 221us/sample - loss: 0.3647 - accuracy: 0.9167 - val_loss: 0.4213 - val_accuracy: 0.8333\n",
            "Epoch 53/100\n",
            "120/120 [==============================] - 0s 229us/sample - loss: 0.3657 - accuracy: 0.9417 - val_loss: 0.4380 - val_accuracy: 0.8000\n",
            "Epoch 54/100\n",
            "120/120 [==============================] - 0s 213us/sample - loss: 0.3587 - accuracy: 0.9500 - val_loss: 0.4534 - val_accuracy: 0.7333\n",
            "Epoch 55/100\n",
            "120/120 [==============================] - 0s 191us/sample - loss: 0.3632 - accuracy: 0.8917 - val_loss: 0.4100 - val_accuracy: 0.8667\n",
            "Epoch 56/100\n",
            "120/120 [==============================] - 0s 226us/sample - loss: 0.3633 - accuracy: 0.9500 - val_loss: 0.4372 - val_accuracy: 0.8000\n",
            "Epoch 57/100\n",
            "120/120 [==============================] - 0s 177us/sample - loss: 0.3583 - accuracy: 0.9167 - val_loss: 0.4175 - val_accuracy: 0.8000\n",
            "Epoch 58/100\n",
            "120/120 [==============================] - 0s 202us/sample - loss: 0.3538 - accuracy: 0.9583 - val_loss: 0.4356 - val_accuracy: 0.8000\n",
            "Epoch 59/100\n",
            "120/120 [==============================] - 0s 206us/sample - loss: 0.3542 - accuracy: 0.9333 - val_loss: 0.4419 - val_accuracy: 0.7667\n",
            "Epoch 60/100\n",
            "120/120 [==============================] - 0s 214us/sample - loss: 0.3564 - accuracy: 0.9250 - val_loss: 0.4244 - val_accuracy: 0.8000\n",
            "Epoch 61/100\n",
            "120/120 [==============================] - 0s 259us/sample - loss: 0.3495 - accuracy: 0.9083 - val_loss: 0.3889 - val_accuracy: 0.9667\n",
            "Epoch 62/100\n",
            "120/120 [==============================] - 0s 176us/sample - loss: 0.3516 - accuracy: 0.9667 - val_loss: 0.4120 - val_accuracy: 0.8000\n",
            "Epoch 63/100\n",
            "120/120 [==============================] - 0s 198us/sample - loss: 0.3489 - accuracy: 0.9333 - val_loss: 0.4063 - val_accuracy: 0.8333\n",
            "Epoch 64/100\n",
            "120/120 [==============================] - 0s 203us/sample - loss: 0.3443 - accuracy: 0.9333 - val_loss: 0.3941 - val_accuracy: 0.8667\n",
            "Epoch 65/100\n",
            "120/120 [==============================] - 0s 198us/sample - loss: 0.3449 - accuracy: 0.9583 - val_loss: 0.4139 - val_accuracy: 0.8000\n",
            "Epoch 66/100\n",
            "120/120 [==============================] - 0s 241us/sample - loss: 0.3400 - accuracy: 0.9500 - val_loss: 0.4218 - val_accuracy: 0.8000\n",
            "Epoch 67/100\n",
            "120/120 [==============================] - 0s 211us/sample - loss: 0.3401 - accuracy: 0.9250 - val_loss: 0.3997 - val_accuracy: 0.8333\n",
            "Epoch 68/100\n",
            "120/120 [==============================] - 0s 188us/sample - loss: 0.3422 - accuracy: 0.9417 - val_loss: 0.3917 - val_accuracy: 0.8667\n",
            "Epoch 69/100\n",
            "120/120 [==============================] - 0s 190us/sample - loss: 0.3400 - accuracy: 0.9583 - val_loss: 0.3978 - val_accuracy: 0.8333\n",
            "Epoch 70/100\n",
            "120/120 [==============================] - 0s 226us/sample - loss: 0.3342 - accuracy: 0.9583 - val_loss: 0.3800 - val_accuracy: 0.9333\n",
            "Epoch 71/100\n",
            "120/120 [==============================] - 0s 219us/sample - loss: 0.3368 - accuracy: 0.9417 - val_loss: 0.3795 - val_accuracy: 0.9333\n",
            "Epoch 72/100\n",
            "120/120 [==============================] - 0s 240us/sample - loss: 0.3340 - accuracy: 0.9750 - val_loss: 0.3776 - val_accuracy: 0.9333\n",
            "Epoch 73/100\n",
            "120/120 [==============================] - 0s 230us/sample - loss: 0.3332 - accuracy: 0.9500 - val_loss: 0.3726 - val_accuracy: 0.9667\n",
            "Epoch 74/100\n",
            "120/120 [==============================] - 0s 217us/sample - loss: 0.3384 - accuracy: 0.9500 - val_loss: 0.4131 - val_accuracy: 0.8000\n",
            "Epoch 75/100\n",
            "120/120 [==============================] - 0s 240us/sample - loss: 0.3323 - accuracy: 0.9333 - val_loss: 0.3754 - val_accuracy: 0.9333\n",
            "Epoch 76/100\n",
            "120/120 [==============================] - 0s 198us/sample - loss: 0.3307 - accuracy: 0.9583 - val_loss: 0.3955 - val_accuracy: 0.8333\n",
            "Epoch 77/100\n",
            "120/120 [==============================] - 0s 186us/sample - loss: 0.3315 - accuracy: 0.9500 - val_loss: 0.3827 - val_accuracy: 0.8667\n",
            "Epoch 78/100\n",
            "120/120 [==============================] - 0s 202us/sample - loss: 0.3263 - accuracy: 0.9583 - val_loss: 0.3739 - val_accuracy: 0.8667\n",
            "Epoch 79/100\n",
            "120/120 [==============================] - 0s 248us/sample - loss: 0.3266 - accuracy: 0.9583 - val_loss: 0.3775 - val_accuracy: 0.8667\n",
            "Epoch 80/100\n",
            "120/120 [==============================] - 0s 197us/sample - loss: 0.3286 - accuracy: 0.9500 - val_loss: 0.3752 - val_accuracy: 0.8667\n",
            "Epoch 81/100\n",
            "120/120 [==============================] - 0s 225us/sample - loss: 0.3227 - accuracy: 0.9667 - val_loss: 0.3967 - val_accuracy: 0.8000\n",
            "Epoch 82/100\n",
            "120/120 [==============================] - 0s 226us/sample - loss: 0.3209 - accuracy: 0.9500 - val_loss: 0.3911 - val_accuracy: 0.8333\n",
            "Epoch 83/100\n",
            "120/120 [==============================] - 0s 181us/sample - loss: 0.3222 - accuracy: 0.9583 - val_loss: 0.4043 - val_accuracy: 0.8000\n",
            "Epoch 84/100\n",
            "120/120 [==============================] - 0s 187us/sample - loss: 0.3201 - accuracy: 0.9250 - val_loss: 0.3618 - val_accuracy: 0.9667\n",
            "Epoch 85/100\n",
            "120/120 [==============================] - 0s 204us/sample - loss: 0.3200 - accuracy: 0.9583 - val_loss: 0.3892 - val_accuracy: 0.8333\n",
            "Epoch 86/100\n",
            "120/120 [==============================] - 0s 199us/sample - loss: 0.3194 - accuracy: 0.9417 - val_loss: 0.3785 - val_accuracy: 0.8667\n",
            "Epoch 87/100\n",
            "120/120 [==============================] - 0s 213us/sample - loss: 0.3143 - accuracy: 0.9500 - val_loss: 0.3699 - val_accuracy: 0.8667\n",
            "Epoch 88/100\n",
            "120/120 [==============================] - 0s 233us/sample - loss: 0.3151 - accuracy: 0.9583 - val_loss: 0.3735 - val_accuracy: 0.8667\n",
            "Epoch 89/100\n",
            "120/120 [==============================] - 0s 180us/sample - loss: 0.3148 - accuracy: 0.9667 - val_loss: 0.3603 - val_accuracy: 0.9000\n",
            "Epoch 90/100\n",
            "120/120 [==============================] - 0s 201us/sample - loss: 0.3127 - accuracy: 0.9667 - val_loss: 0.3673 - val_accuracy: 0.8667\n",
            "Epoch 91/100\n",
            "120/120 [==============================] - 0s 204us/sample - loss: 0.3135 - accuracy: 0.9583 - val_loss: 0.3763 - val_accuracy: 0.8667\n",
            "Epoch 92/100\n",
            "120/120 [==============================] - 0s 185us/sample - loss: 0.3119 - accuracy: 0.9500 - val_loss: 0.3735 - val_accuracy: 0.8667\n",
            "Epoch 93/100\n",
            "120/120 [==============================] - 0s 197us/sample - loss: 0.3104 - accuracy: 0.9583 - val_loss: 0.3671 - val_accuracy: 0.8667\n",
            "Epoch 94/100\n",
            "120/120 [==============================] - 0s 226us/sample - loss: 0.3072 - accuracy: 0.9500 - val_loss: 0.3528 - val_accuracy: 0.9667\n",
            "Epoch 95/100\n",
            "120/120 [==============================] - 0s 208us/sample - loss: 0.3074 - accuracy: 0.9583 - val_loss: 0.3624 - val_accuracy: 0.8667\n",
            "Epoch 96/100\n",
            "120/120 [==============================] - 0s 231us/sample - loss: 0.3057 - accuracy: 0.9750 - val_loss: 0.3724 - val_accuracy: 0.8667\n",
            "Epoch 97/100\n",
            "120/120 [==============================] - 0s 199us/sample - loss: 0.3050 - accuracy: 0.9500 - val_loss: 0.3512 - val_accuracy: 0.9667\n",
            "Epoch 98/100\n",
            "120/120 [==============================] - 0s 198us/sample - loss: 0.3122 - accuracy: 0.9750 - val_loss: 0.3681 - val_accuracy: 0.8667\n",
            "Epoch 99/100\n",
            "120/120 [==============================] - 0s 238us/sample - loss: 0.3045 - accuracy: 0.9583 - val_loss: 0.3532 - val_accuracy: 0.9000\n",
            "Epoch 100/100\n",
            "120/120 [==============================] - 0s 222us/sample - loss: 0.3046 - accuracy: 0.9667 - val_loss: 0.3500 - val_accuracy: 0.9000\n"
          ],
          "name": "stdout"
        },
        {
          "output_type": "execute_result",
          "data": {
            "text/plain": [
              "<tensorflow.python.keras.callbacks.History at 0x7f95f9b5bba8>"
            ]
          },
          "metadata": {
            "tags": []
          },
          "execution_count": 149
        }
      ]
    },
    {
      "cell_type": "markdown",
      "metadata": {
        "colab_type": "text",
        "id": "y-SgSSdRcih5"
      },
      "source": [
        "### Model Prediction"
      ]
    },
    {
      "cell_type": "code",
      "metadata": {
        "colab_type": "code",
        "id": "GBgKZkhkcih6",
        "colab": {
          "base_uri": "https://localhost:8080/",
          "height": 185
        },
        "outputId": "6dad3d35-f932-4668-e985-2ed0dbb4cbdc"
      },
      "source": [
        "model.summary()"
      ],
      "execution_count": 150,
      "outputs": [
        {
          "output_type": "stream",
          "text": [
            "Model: \"sequential_3\"\n",
            "_________________________________________________________________\n",
            "Layer (type)                 Output Shape              Param #   \n",
            "=================================================================\n",
            "dense_5 (Dense)              (None, 3)                 15        \n",
            "=================================================================\n",
            "Total params: 15\n",
            "Trainable params: 15\n",
            "Non-trainable params: 0\n",
            "_________________________________________________________________\n"
          ],
          "name": "stdout"
        }
      ]
    },
    {
      "cell_type": "code",
      "metadata": {
        "id": "5YnT-uVkBgsD",
        "colab_type": "code",
        "colab": {
          "base_uri": "https://localhost:8080/",
          "height": 34
        },
        "outputId": "3de6db86-fde6-43fc-fef8-d674228ed635"
      },
      "source": [
        "X_test_iris.shape"
      ],
      "execution_count": 156,
      "outputs": [
        {
          "output_type": "execute_result",
          "data": {
            "text/plain": [
              "(30, 4)"
            ]
          },
          "metadata": {
            "tags": []
          },
          "execution_count": 156
        }
      ]
    },
    {
      "cell_type": "code",
      "metadata": {
        "id": "fvtDh5uABXEt",
        "colab_type": "code",
        "colab": {
          "base_uri": "https://localhost:8080/",
          "height": 558
        },
        "outputId": "4ab861aa-3f4e-40ad-9338-b6067aad4c53"
      },
      "source": [
        "prediction = model.predict(X_test_iris)\n",
        "\n",
        "#Print prediction\n",
        "print(prediction)"
      ],
      "execution_count": 157,
      "outputs": [
        {
          "output_type": "stream",
          "text": [
            "WARNING:tensorflow:Falling back from v2 loop because of error: Failed to find data adapter that can handle input: <class 'pandas.core.frame.DataFrame'>, <class 'NoneType'>\n",
            "[[2.2566225e-02 6.8323326e-01 2.9420057e-01]\n",
            " [2.6325923e-03 3.1936601e-01 6.7800146e-01]\n",
            " [9.5510685e-01 4.4568695e-02 3.2445331e-04]\n",
            " [3.0539937e-02 5.5706555e-01 4.1239455e-01]\n",
            " [9.3341446e-01 6.5898858e-02 6.8661763e-04]\n",
            " [5.7799432e-02 6.5318578e-01 2.8901473e-01]\n",
            " [9.0625184e-03 4.9180940e-01 4.9912807e-01]\n",
            " [7.8766443e-02 6.6258359e-01 2.5864992e-01]\n",
            " [9.3507057e-01 6.4246647e-02 6.8277476e-04]\n",
            " [2.7088685e-02 4.9396789e-01 4.7894341e-01]\n",
            " [2.2149922e-02 4.3659803e-01 5.4125208e-01]\n",
            " [2.3446213e-03 2.3663661e-01 7.6101875e-01]\n",
            " [2.9035807e-02 6.0057396e-01 3.7039027e-01]\n",
            " [9.0537530e-01 9.3501136e-02 1.1235600e-03]\n",
            " [9.5287615e-01 4.6608739e-02 5.1512092e-04]\n",
            " [2.3850501e-03 3.3260635e-01 6.6500866e-01]\n",
            " [3.8469899e-02 5.3280663e-01 4.2872345e-01]\n",
            " [9.1191661e-01 8.6464636e-02 1.6186992e-03]\n",
            " [9.3802977e-01 6.1236691e-02 7.3350483e-04]\n",
            " [9.3824422e-01 6.1274920e-02 4.8082968e-04]\n",
            " [1.3686300e-03 2.8399026e-01 7.1464115e-01]\n",
            " [8.3562953e-04 1.9783203e-01 8.0133229e-01]\n",
            " [8.2139652e-03 4.5172679e-01 5.4005921e-01]\n",
            " [9.0327018e-01 9.4175190e-02 2.5546930e-03]\n",
            " [4.2619441e-02 6.1293811e-01 3.4444255e-01]\n",
            " [9.3112957e-01 6.7991301e-02 8.7915093e-04]\n",
            " [6.6830538e-02 5.9333104e-01 3.3983845e-01]\n",
            " [2.6823731e-02 4.8580304e-01 4.8737326e-01]\n",
            " [2.4092184e-02 6.7696232e-01 2.9894555e-01]\n",
            " [1.0078569e-03 1.9936942e-01 7.9962277e-01]]\n"
          ],
          "name": "stdout"
        }
      ]
    },
    {
      "cell_type": "code",
      "metadata": {
        "id": "8H6i23mQBCA9",
        "colab_type": "code",
        "colab": {
          "base_uri": "https://localhost:8080/",
          "height": 34
        },
        "outputId": "6d035c59-b915-474e-9ce7-a01421cce016"
      },
      "source": [
        "predicted_num = np.argmax(prediction[0])\n",
        "\n",
        "#Print the number\n",
        "print(predicted_num)"
      ],
      "execution_count": 159,
      "outputs": [
        {
          "output_type": "stream",
          "text": [
            "1\n"
          ],
          "name": "stdout"
        }
      ]
    },
    {
      "cell_type": "code",
      "metadata": {
        "id": "s1Qcny28D_TD",
        "colab_type": "code",
        "colab": {
          "base_uri": "https://localhost:8080/",
          "height": 106
        },
        "outputId": "4831e2f7-d596-417c-bfae-67af4aad6519"
      },
      "source": [
        "y_test_iris[0:2]"
      ],
      "execution_count": 168,
      "outputs": [
        {
          "output_type": "execute_result",
          "data": {
            "text/html": [
              "<div>\n",
              "<style scoped>\n",
              "    .dataframe tbody tr th:only-of-type {\n",
              "        vertical-align: middle;\n",
              "    }\n",
              "\n",
              "    .dataframe tbody tr th {\n",
              "        vertical-align: top;\n",
              "    }\n",
              "\n",
              "    .dataframe thead th {\n",
              "        text-align: right;\n",
              "    }\n",
              "</style>\n",
              "<table border=\"1\" class=\"dataframe\">\n",
              "  <thead>\n",
              "    <tr style=\"text-align: right;\">\n",
              "      <th></th>\n",
              "      <th>Species_0</th>\n",
              "      <th>Species_1</th>\n",
              "      <th>Species_2</th>\n",
              "    </tr>\n",
              "  </thead>\n",
              "  <tbody>\n",
              "    <tr>\n",
              "      <th>87</th>\n",
              "      <td>0</td>\n",
              "      <td>1</td>\n",
              "      <td>0</td>\n",
              "    </tr>\n",
              "    <tr>\n",
              "      <th>111</th>\n",
              "      <td>0</td>\n",
              "      <td>0</td>\n",
              "      <td>1</td>\n",
              "    </tr>\n",
              "  </tbody>\n",
              "</table>\n",
              "</div>"
            ],
            "text/plain": [
              "     Species_0  Species_1  Species_2\n",
              "87           0          1          0\n",
              "111          0          0          1"
            ]
          },
          "metadata": {
            "tags": []
          },
          "execution_count": 168
        }
      ]
    },
    {
      "cell_type": "code",
      "metadata": {
        "id": "b7h2aVpVFdns",
        "colab_type": "code",
        "colab": {
          "base_uri": "https://localhost:8080/",
          "height": 34
        },
        "outputId": "405da9a1-9e1d-4a97-d9c1-0fa401bee8ff"
      },
      "source": [
        "predicted_num = np.argmax(prediction[1])\n",
        "\n",
        "#Print the number\n",
        "print(predicted_num)"
      ],
      "execution_count": 167,
      "outputs": [
        {
          "output_type": "stream",
          "text": [
            "2\n"
          ],
          "name": "stdout"
        }
      ]
    },
    {
      "cell_type": "markdown",
      "metadata": {
        "colab_type": "text",
        "id": "P32ASP1Vjt0a"
      },
      "source": [
        "### Save the Model"
      ]
    },
    {
      "cell_type": "code",
      "metadata": {
        "colab_type": "code",
        "id": "n8rd0jjAjyTR",
        "colab": {}
      },
      "source": [
        "model.save('Iris_v1.h5')"
      ],
      "execution_count": 0,
      "outputs": []
    },
    {
      "cell_type": "markdown",
      "metadata": {
        "colab_type": "text",
        "id": "XiipRpe7rbVh"
      },
      "source": [
        "### Build and Train a Deep Neural network with 2 hidden layer  - Optional - For Practice\n",
        "\n",
        "Does it perform better than Linear Classifier? What could be the reason for difference in performance?"
      ]
    },
    {
      "cell_type": "code",
      "metadata": {
        "colab_type": "code",
        "id": "v5Du3lubr4sA",
        "colab": {}
      },
      "source": [
        "#Initialize Sequential model\n",
        "model_2 = tf.keras.models.Sequential()\n",
        "\n",
        "#Normalize the data\n",
        "model_2.add(tf.keras.layers.Dense(2,input_shape=(4,)))\n",
        "#model_2.add(tf.keras.layers.BatchNormalization())\n",
        "model_2.add(tf.keras.layers.Dense(3, activation='softmax'))\n",
        "#Compile the model\n",
        "model_2.compile(optimizer='sgd', loss='categorical_crossentropy', \n",
        "              metrics=['accuracy'])"
      ],
      "execution_count": 0,
      "outputs": []
    },
    {
      "cell_type": "code",
      "metadata": {
        "id": "r2v8ub8dErkY",
        "colab_type": "code",
        "colab": {
          "base_uri": "https://localhost:8080/",
          "height": 3447
        },
        "outputId": "fb7135d5-a0ec-4e7f-ba25-9ca345b29272"
      },
      "source": [
        "model_2.fit(X_train_iris,y_train_iris,          \n",
        "          validation_data=(X_test_iris,y_test_iris),\n",
        "          epochs=100,\n",
        "          batch_size=10)"
      ],
      "execution_count": 165,
      "outputs": [
        {
          "output_type": "stream",
          "text": [
            "WARNING:tensorflow:Falling back from v2 loop because of error: Failed to find data adapter that can handle input: <class 'pandas.core.frame.DataFrame'>, <class 'NoneType'>\n",
            "Train on 120 samples, validate on 30 samples\n",
            "Epoch 1/100\n",
            "120/120 [==============================] - 0s 1ms/sample - loss: 2.4487 - accuracy: 0.4250 - val_loss: 1.0618 - val_accuracy: 0.6667\n",
            "Epoch 2/100\n",
            "120/120 [==============================] - 0s 200us/sample - loss: 1.0792 - accuracy: 0.4417 - val_loss: 0.9637 - val_accuracy: 0.2333\n",
            "Epoch 3/100\n",
            "120/120 [==============================] - 0s 194us/sample - loss: 0.9728 - accuracy: 0.2500 - val_loss: 0.9609 - val_accuracy: 0.2333\n",
            "Epoch 4/100\n",
            "120/120 [==============================] - 0s 198us/sample - loss: 0.9513 - accuracy: 0.2167 - val_loss: 0.9967 - val_accuracy: 0.2333\n",
            "Epoch 5/100\n",
            "120/120 [==============================] - 0s 199us/sample - loss: 0.9298 - accuracy: 0.3333 - val_loss: 0.8968 - val_accuracy: 0.2667\n",
            "Epoch 6/100\n",
            "120/120 [==============================] - 0s 189us/sample - loss: 0.9028 - accuracy: 0.3333 - val_loss: 1.0235 - val_accuracy: 0.3667\n",
            "Epoch 7/100\n",
            "120/120 [==============================] - 0s 192us/sample - loss: 0.8963 - accuracy: 0.5000 - val_loss: 0.9272 - val_accuracy: 0.5000\n",
            "Epoch 8/100\n",
            "120/120 [==============================] - 0s 187us/sample - loss: 0.8669 - accuracy: 0.5417 - val_loss: 0.8539 - val_accuracy: 0.5667\n",
            "Epoch 9/100\n",
            "120/120 [==============================] - 0s 184us/sample - loss: 0.8448 - accuracy: 0.6333 - val_loss: 0.8839 - val_accuracy: 0.5667\n",
            "Epoch 10/100\n",
            "120/120 [==============================] - 0s 191us/sample - loss: 0.8204 - accuracy: 0.6667 - val_loss: 0.8073 - val_accuracy: 0.5333\n",
            "Epoch 11/100\n",
            "120/120 [==============================] - 0s 207us/sample - loss: 0.7993 - accuracy: 0.6000 - val_loss: 0.8542 - val_accuracy: 0.5667\n",
            "Epoch 12/100\n",
            "120/120 [==============================] - 0s 192us/sample - loss: 0.7702 - accuracy: 0.6833 - val_loss: 0.7732 - val_accuracy: 0.5667\n",
            "Epoch 13/100\n",
            "120/120 [==============================] - 0s 208us/sample - loss: 0.7521 - accuracy: 0.6167 - val_loss: 0.8030 - val_accuracy: 0.5667\n",
            "Epoch 14/100\n",
            "120/120 [==============================] - 0s 213us/sample - loss: 0.7301 - accuracy: 0.6417 - val_loss: 0.7591 - val_accuracy: 0.5667\n",
            "Epoch 15/100\n",
            "120/120 [==============================] - 0s 195us/sample - loss: 0.7181 - accuracy: 0.6500 - val_loss: 0.7084 - val_accuracy: 0.5667\n",
            "Epoch 16/100\n",
            "120/120 [==============================] - 0s 223us/sample - loss: 0.6885 - accuracy: 0.5750 - val_loss: 0.7303 - val_accuracy: 0.5667\n",
            "Epoch 17/100\n",
            "120/120 [==============================] - 0s 239us/sample - loss: 0.6728 - accuracy: 0.6833 - val_loss: 0.6792 - val_accuracy: 0.5667\n",
            "Epoch 18/100\n",
            "120/120 [==============================] - 0s 211us/sample - loss: 0.6550 - accuracy: 0.6833 - val_loss: 0.6528 - val_accuracy: 0.5667\n",
            "Epoch 19/100\n",
            "120/120 [==============================] - 0s 216us/sample - loss: 0.6446 - accuracy: 0.5750 - val_loss: 0.6806 - val_accuracy: 0.5667\n",
            "Epoch 20/100\n",
            "120/120 [==============================] - 0s 190us/sample - loss: 0.6270 - accuracy: 0.6833 - val_loss: 0.6313 - val_accuracy: 0.5667\n",
            "Epoch 21/100\n",
            "120/120 [==============================] - 0s 175us/sample - loss: 0.6115 - accuracy: 0.6750 - val_loss: 0.6380 - val_accuracy: 0.5667\n",
            "Epoch 22/100\n",
            "120/120 [==============================] - 0s 189us/sample - loss: 0.5980 - accuracy: 0.6750 - val_loss: 0.6156 - val_accuracy: 0.5667\n",
            "Epoch 23/100\n",
            "120/120 [==============================] - 0s 189us/sample - loss: 0.5901 - accuracy: 0.6583 - val_loss: 0.6328 - val_accuracy: 0.5667\n",
            "Epoch 24/100\n",
            "120/120 [==============================] - 0s 210us/sample - loss: 0.5768 - accuracy: 0.6917 - val_loss: 0.6052 - val_accuracy: 0.5667\n",
            "Epoch 25/100\n",
            "120/120 [==============================] - 0s 254us/sample - loss: 0.5678 - accuracy: 0.6917 - val_loss: 0.5998 - val_accuracy: 0.5667\n",
            "Epoch 26/100\n",
            "120/120 [==============================] - 0s 196us/sample - loss: 0.5558 - accuracy: 0.6917 - val_loss: 0.5978 - val_accuracy: 0.5667\n",
            "Epoch 27/100\n",
            "120/120 [==============================] - 0s 193us/sample - loss: 0.5495 - accuracy: 0.6917 - val_loss: 0.5619 - val_accuracy: 0.5667\n",
            "Epoch 28/100\n",
            "120/120 [==============================] - 0s 181us/sample - loss: 0.5418 - accuracy: 0.6417 - val_loss: 0.5938 - val_accuracy: 0.5667\n",
            "Epoch 29/100\n",
            "120/120 [==============================] - 0s 186us/sample - loss: 0.5326 - accuracy: 0.6917 - val_loss: 0.5685 - val_accuracy: 0.5667\n",
            "Epoch 30/100\n",
            "120/120 [==============================] - 0s 183us/sample - loss: 0.5282 - accuracy: 0.6833 - val_loss: 0.5805 - val_accuracy: 0.5667\n",
            "Epoch 31/100\n",
            "120/120 [==============================] - 0s 178us/sample - loss: 0.5204 - accuracy: 0.6917 - val_loss: 0.5414 - val_accuracy: 0.5667\n",
            "Epoch 32/100\n",
            "120/120 [==============================] - 0s 181us/sample - loss: 0.5121 - accuracy: 0.6917 - val_loss: 0.5549 - val_accuracy: 0.5667\n",
            "Epoch 33/100\n",
            "120/120 [==============================] - 0s 188us/sample - loss: 0.5114 - accuracy: 0.6917 - val_loss: 0.5511 - val_accuracy: 0.5667\n",
            "Epoch 34/100\n",
            "120/120 [==============================] - 0s 182us/sample - loss: 0.4993 - accuracy: 0.6917 - val_loss: 0.5646 - val_accuracy: 0.5667\n",
            "Epoch 35/100\n",
            "120/120 [==============================] - 0s 253us/sample - loss: 0.4943 - accuracy: 0.6917 - val_loss: 0.5283 - val_accuracy: 0.5667\n",
            "Epoch 36/100\n",
            "120/120 [==============================] - 0s 235us/sample - loss: 0.4875 - accuracy: 0.6917 - val_loss: 0.5339 - val_accuracy: 0.5667\n",
            "Epoch 37/100\n",
            "120/120 [==============================] - 0s 253us/sample - loss: 0.4895 - accuracy: 0.7000 - val_loss: 0.5063 - val_accuracy: 0.5667\n",
            "Epoch 38/100\n",
            "120/120 [==============================] - 0s 219us/sample - loss: 0.4804 - accuracy: 0.7083 - val_loss: 0.5251 - val_accuracy: 0.5667\n",
            "Epoch 39/100\n",
            "120/120 [==============================] - 0s 170us/sample - loss: 0.4754 - accuracy: 0.6917 - val_loss: 0.5213 - val_accuracy: 0.5667\n",
            "Epoch 40/100\n",
            "120/120 [==============================] - 0s 181us/sample - loss: 0.4719 - accuracy: 0.6917 - val_loss: 0.5099 - val_accuracy: 0.5667\n",
            "Epoch 41/100\n",
            "120/120 [==============================] - 0s 187us/sample - loss: 0.4639 - accuracy: 0.7083 - val_loss: 0.5230 - val_accuracy: 0.5667\n",
            "Epoch 42/100\n",
            "120/120 [==============================] - 0s 208us/sample - loss: 0.4586 - accuracy: 0.6917 - val_loss: 0.5137 - val_accuracy: 0.5667\n",
            "Epoch 43/100\n",
            "120/120 [==============================] - 0s 230us/sample - loss: 0.4525 - accuracy: 0.6917 - val_loss: 0.5075 - val_accuracy: 0.5667\n",
            "Epoch 44/100\n",
            "120/120 [==============================] - 0s 231us/sample - loss: 0.4514 - accuracy: 0.7167 - val_loss: 0.5021 - val_accuracy: 0.5667\n",
            "Epoch 45/100\n",
            "120/120 [==============================] - 0s 189us/sample - loss: 0.4487 - accuracy: 0.7167 - val_loss: 0.5032 - val_accuracy: 0.5667\n",
            "Epoch 46/100\n",
            "120/120 [==============================] - 0s 201us/sample - loss: 0.4412 - accuracy: 0.7083 - val_loss: 0.4829 - val_accuracy: 0.5667\n",
            "Epoch 47/100\n",
            "120/120 [==============================] - 0s 207us/sample - loss: 0.4386 - accuracy: 0.7333 - val_loss: 0.4849 - val_accuracy: 0.5667\n",
            "Epoch 48/100\n",
            "120/120 [==============================] - 0s 256us/sample - loss: 0.4326 - accuracy: 0.7167 - val_loss: 0.4764 - val_accuracy: 0.5667\n",
            "Epoch 49/100\n",
            "120/120 [==============================] - 0s 233us/sample - loss: 0.4308 - accuracy: 0.7333 - val_loss: 0.4706 - val_accuracy: 0.5667\n",
            "Epoch 50/100\n",
            "120/120 [==============================] - 0s 198us/sample - loss: 0.4237 - accuracy: 0.7750 - val_loss: 0.4856 - val_accuracy: 0.5667\n",
            "Epoch 51/100\n",
            "120/120 [==============================] - 0s 199us/sample - loss: 0.4194 - accuracy: 0.7250 - val_loss: 0.4732 - val_accuracy: 0.5667\n",
            "Epoch 52/100\n",
            "120/120 [==============================] - 0s 209us/sample - loss: 0.4206 - accuracy: 0.7250 - val_loss: 0.4599 - val_accuracy: 0.6667\n",
            "Epoch 53/100\n",
            "120/120 [==============================] - 0s 183us/sample - loss: 0.4140 - accuracy: 0.8500 - val_loss: 0.4791 - val_accuracy: 0.5667\n",
            "Epoch 54/100\n",
            "120/120 [==============================] - 0s 179us/sample - loss: 0.4142 - accuracy: 0.7333 - val_loss: 0.4435 - val_accuracy: 0.7333\n",
            "Epoch 55/100\n",
            "120/120 [==============================] - 0s 201us/sample - loss: 0.4060 - accuracy: 0.8000 - val_loss: 0.4453 - val_accuracy: 0.7000\n",
            "Epoch 56/100\n",
            "120/120 [==============================] - 0s 225us/sample - loss: 0.4021 - accuracy: 0.8500 - val_loss: 0.4547 - val_accuracy: 0.6667\n",
            "Epoch 57/100\n",
            "120/120 [==============================] - 0s 204us/sample - loss: 0.3986 - accuracy: 0.8250 - val_loss: 0.4568 - val_accuracy: 0.6333\n",
            "Epoch 58/100\n",
            "120/120 [==============================] - 0s 169us/sample - loss: 0.3973 - accuracy: 0.7750 - val_loss: 0.4394 - val_accuracy: 0.7000\n",
            "Epoch 59/100\n",
            "120/120 [==============================] - 0s 193us/sample - loss: 0.3890 - accuracy: 0.8667 - val_loss: 0.4395 - val_accuracy: 0.7000\n",
            "Epoch 60/100\n",
            "120/120 [==============================] - 0s 200us/sample - loss: 0.3895 - accuracy: 0.8500 - val_loss: 0.4404 - val_accuracy: 0.7000\n",
            "Epoch 61/100\n",
            "120/120 [==============================] - 0s 252us/sample - loss: 0.3834 - accuracy: 0.8667 - val_loss: 0.4387 - val_accuracy: 0.7000\n",
            "Epoch 62/100\n",
            "120/120 [==============================] - 0s 233us/sample - loss: 0.3793 - accuracy: 0.8500 - val_loss: 0.4356 - val_accuracy: 0.7000\n",
            "Epoch 63/100\n",
            "120/120 [==============================] - 0s 212us/sample - loss: 0.3737 - accuracy: 0.8750 - val_loss: 0.4233 - val_accuracy: 0.7333\n",
            "Epoch 64/100\n",
            "120/120 [==============================] - 0s 180us/sample - loss: 0.3712 - accuracy: 0.8917 - val_loss: 0.4207 - val_accuracy: 0.8000\n",
            "Epoch 65/100\n",
            "120/120 [==============================] - 0s 210us/sample - loss: 0.3684 - accuracy: 0.9333 - val_loss: 0.4401 - val_accuracy: 0.7000\n",
            "Epoch 66/100\n",
            "120/120 [==============================] - 0s 202us/sample - loss: 0.3639 - accuracy: 0.8000 - val_loss: 0.3956 - val_accuracy: 0.9333\n",
            "Epoch 67/100\n",
            "120/120 [==============================] - 0s 188us/sample - loss: 0.3634 - accuracy: 0.9167 - val_loss: 0.4054 - val_accuracy: 0.8000\n",
            "Epoch 68/100\n",
            "120/120 [==============================] - 0s 189us/sample - loss: 0.3569 - accuracy: 0.9250 - val_loss: 0.4092 - val_accuracy: 0.8000\n",
            "Epoch 69/100\n",
            "120/120 [==============================] - 0s 211us/sample - loss: 0.3547 - accuracy: 0.9250 - val_loss: 0.4176 - val_accuracy: 0.7000\n",
            "Epoch 70/100\n",
            "120/120 [==============================] - 0s 186us/sample - loss: 0.3523 - accuracy: 0.9250 - val_loss: 0.4052 - val_accuracy: 0.8000\n",
            "Epoch 71/100\n",
            "120/120 [==============================] - 0s 191us/sample - loss: 0.3440 - accuracy: 0.9250 - val_loss: 0.4053 - val_accuracy: 0.8000\n",
            "Epoch 72/100\n",
            "120/120 [==============================] - 0s 179us/sample - loss: 0.3402 - accuracy: 0.9167 - val_loss: 0.3990 - val_accuracy: 0.8000\n",
            "Epoch 73/100\n",
            "120/120 [==============================] - 0s 189us/sample - loss: 0.3362 - accuracy: 0.9333 - val_loss: 0.4074 - val_accuracy: 0.7000\n",
            "Epoch 74/100\n",
            "120/120 [==============================] - 0s 182us/sample - loss: 0.3378 - accuracy: 0.9250 - val_loss: 0.3892 - val_accuracy: 0.8000\n",
            "Epoch 75/100\n",
            "120/120 [==============================] - 0s 188us/sample - loss: 0.3304 - accuracy: 0.9250 - val_loss: 0.3780 - val_accuracy: 0.8333\n",
            "Epoch 76/100\n",
            "120/120 [==============================] - 0s 218us/sample - loss: 0.3275 - accuracy: 0.9500 - val_loss: 0.3905 - val_accuracy: 0.8000\n",
            "Epoch 77/100\n",
            "120/120 [==============================] - 0s 180us/sample - loss: 0.3210 - accuracy: 0.9583 - val_loss: 0.3886 - val_accuracy: 0.8000\n",
            "Epoch 78/100\n",
            "120/120 [==============================] - 0s 193us/sample - loss: 0.3227 - accuracy: 0.9250 - val_loss: 0.3785 - val_accuracy: 0.8000\n",
            "Epoch 79/100\n",
            "120/120 [==============================] - 0s 187us/sample - loss: 0.3163 - accuracy: 0.9250 - val_loss: 0.3579 - val_accuracy: 0.9333\n",
            "Epoch 80/100\n",
            "120/120 [==============================] - 0s 182us/sample - loss: 0.3105 - accuracy: 0.9583 - val_loss: 0.3841 - val_accuracy: 0.8000\n",
            "Epoch 81/100\n",
            "120/120 [==============================] - 0s 190us/sample - loss: 0.3059 - accuracy: 0.9500 - val_loss: 0.4204 - val_accuracy: 0.7000\n",
            "Epoch 82/100\n",
            "120/120 [==============================] - 0s 185us/sample - loss: 0.3065 - accuracy: 0.9500 - val_loss: 0.3894 - val_accuracy: 0.7667\n",
            "Epoch 83/100\n",
            "120/120 [==============================] - 0s 185us/sample - loss: 0.3068 - accuracy: 0.9167 - val_loss: 0.3659 - val_accuracy: 0.8333\n",
            "Epoch 84/100\n",
            "120/120 [==============================] - 0s 189us/sample - loss: 0.2969 - accuracy: 0.9667 - val_loss: 0.3814 - val_accuracy: 0.8000\n",
            "Epoch 85/100\n",
            "120/120 [==============================] - 0s 189us/sample - loss: 0.2913 - accuracy: 0.9250 - val_loss: 0.3481 - val_accuracy: 0.9000\n",
            "Epoch 86/100\n",
            "120/120 [==============================] - 0s 182us/sample - loss: 0.2906 - accuracy: 0.9583 - val_loss: 0.3558 - val_accuracy: 0.8333\n",
            "Epoch 87/100\n",
            "120/120 [==============================] - 0s 178us/sample - loss: 0.2842 - accuracy: 0.9417 - val_loss: 0.3183 - val_accuracy: 0.9667\n",
            "Epoch 88/100\n",
            "120/120 [==============================] - 0s 185us/sample - loss: 0.2868 - accuracy: 0.9500 - val_loss: 0.3168 - val_accuracy: 0.9667\n",
            "Epoch 89/100\n",
            "120/120 [==============================] - 0s 249us/sample - loss: 0.2803 - accuracy: 0.9750 - val_loss: 0.3374 - val_accuracy: 0.9000\n",
            "Epoch 90/100\n",
            "120/120 [==============================] - 0s 196us/sample - loss: 0.2782 - accuracy: 0.9667 - val_loss: 0.3536 - val_accuracy: 0.8000\n",
            "Epoch 91/100\n",
            "120/120 [==============================] - 0s 173us/sample - loss: 0.2731 - accuracy: 0.9417 - val_loss: 0.3050 - val_accuracy: 0.9667\n",
            "Epoch 92/100\n",
            "120/120 [==============================] - 0s 184us/sample - loss: 0.2743 - accuracy: 0.9500 - val_loss: 0.3030 - val_accuracy: 0.9667\n",
            "Epoch 93/100\n",
            "120/120 [==============================] - 0s 179us/sample - loss: 0.2669 - accuracy: 0.9667 - val_loss: 0.3198 - val_accuracy: 0.9333\n",
            "Epoch 94/100\n",
            "120/120 [==============================] - 0s 275us/sample - loss: 0.2637 - accuracy: 0.9583 - val_loss: 0.3212 - val_accuracy: 0.9333\n",
            "Epoch 95/100\n",
            "120/120 [==============================] - 0s 193us/sample - loss: 0.2583 - accuracy: 0.9667 - val_loss: 0.3233 - val_accuracy: 0.9000\n",
            "Epoch 96/100\n",
            "120/120 [==============================] - 0s 191us/sample - loss: 0.2624 - accuracy: 0.9667 - val_loss: 0.3210 - val_accuracy: 0.9000\n",
            "Epoch 97/100\n",
            "120/120 [==============================] - 0s 210us/sample - loss: 0.2519 - accuracy: 0.9667 - val_loss: 0.3234 - val_accuracy: 0.9000\n",
            "Epoch 98/100\n",
            "120/120 [==============================] - 0s 214us/sample - loss: 0.2506 - accuracy: 0.9667 - val_loss: 0.3287 - val_accuracy: 0.8667\n",
            "Epoch 99/100\n",
            "120/120 [==============================] - 0s 188us/sample - loss: 0.2482 - accuracy: 0.9750 - val_loss: 0.3003 - val_accuracy: 0.9333\n",
            "Epoch 100/100\n",
            "120/120 [==============================] - 0s 265us/sample - loss: 0.2437 - accuracy: 0.9583 - val_loss: 0.3144 - val_accuracy: 0.9000\n"
          ],
          "name": "stdout"
        },
        {
          "output_type": "execute_result",
          "data": {
            "text/plain": [
              "<tensorflow.python.keras.callbacks.History at 0x7f95f5fcfeb8>"
            ]
          },
          "metadata": {
            "tags": []
          },
          "execution_count": 165
        }
      ]
    },
    {
      "cell_type": "code",
      "metadata": {
        "id": "6MGMcuJnEuEb",
        "colab_type": "code",
        "colab": {
          "base_uri": "https://localhost:8080/",
          "height": 218
        },
        "outputId": "6e88c134-2f7e-41dd-955c-2e638e07862e"
      },
      "source": [
        "model_2.summary()"
      ],
      "execution_count": 169,
      "outputs": [
        {
          "output_type": "stream",
          "text": [
            "Model: \"sequential_5\"\n",
            "_________________________________________________________________\n",
            "Layer (type)                 Output Shape              Param #   \n",
            "=================================================================\n",
            "dense_8 (Dense)              (None, 2)                 10        \n",
            "_________________________________________________________________\n",
            "dense_9 (Dense)              (None, 3)                 9         \n",
            "=================================================================\n",
            "Total params: 19\n",
            "Trainable params: 19\n",
            "Non-trainable params: 0\n",
            "_________________________________________________________________\n"
          ],
          "name": "stdout"
        }
      ]
    },
    {
      "cell_type": "code",
      "metadata": {
        "id": "bIct8ZrrF_U8",
        "colab_type": "code",
        "colab": {}
      },
      "source": [
        ""
      ],
      "execution_count": 0,
      "outputs": []
    }
  ]
}