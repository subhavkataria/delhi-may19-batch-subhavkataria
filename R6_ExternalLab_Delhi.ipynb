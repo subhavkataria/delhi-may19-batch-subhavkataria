{
 "cells": [
  {
   "cell_type": "markdown",
   "metadata": {
    "colab_type": "text",
    "id": "YYk8NG3yOIT9"
   },
   "source": [
    "### A MNIST-like fashion product database\n",
    "\n",
    "In this, we classify the images into respective classes given in the dataset. We use a Neural Net and a Deep Neural Net in Keras to solve this and check the accuracy scores."
   ]
  },
  {
   "cell_type": "markdown",
   "metadata": {
    "colab_type": "text",
    "id": "tFO6PuxzOIT_"
   },
   "source": [
    "### Load tensorflow"
   ]
  },
  {
   "cell_type": "code",
   "execution_count": 3,
   "metadata": {
    "colab": {
     "base_uri": "https://localhost:8080/",
     "height": 118
    },
    "colab_type": "code",
    "id": "UD9yxfoTJ2i5",
    "outputId": "b1f32ad4-a0b9-4cab-e85d-cd246a9c2815"
   },
   "outputs": [
    {
     "name": "stdout",
     "output_type": "stream",
     "text": [
      "\u001b[K     |████████████████████████████████| 86.3MB 130kB/s \n",
      "\u001b[K     |████████████████████████████████| 3.8MB 51.3MB/s \n",
      "\u001b[K     |████████████████████████████████| 450kB 47.5MB/s \n",
      "\u001b[K     |████████████████████████████████| 81kB 9.2MB/s \n",
      "\u001b[31mERROR: tensorboard 2.0.1 has requirement grpcio>=1.24.3, but you'll have grpcio 1.15.0 which is incompatible.\u001b[0m\n",
      "\u001b[31mERROR: google-colab 1.0.0 has requirement google-auth~=1.4.0, but you'll have google-auth 1.7.0 which is incompatible.\u001b[0m\n",
      "\u001b[?25h"
     ]
    }
   ],
   "source": [
    "!pip3 install -U tensorflow --quiet"
   ]
  },
  {
   "cell_type": "code",
   "execution_count": 0,
   "metadata": {
    "colab": {},
    "colab_type": "code",
    "id": "efNjNImfOIUC"
   },
   "outputs": [],
   "source": [
    "import tensorflow as tf\n",
    "#tf.set_random_seed(42)"
   ]
  },
  {
   "cell_type": "code",
   "execution_count": 5,
   "metadata": {
    "colab": {
     "base_uri": "https://localhost:8080/",
     "height": 34
    },
    "colab_type": "code",
    "id": "l9C4aAIGOIUH",
    "outputId": "dcb189fc-5ad3-4422-9015-df25cb80835f"
   },
   "outputs": [
    {
     "data": {
      "text/plain": [
       "'2.0.0'"
      ]
     },
     "execution_count": 5,
     "metadata": {
      "tags": []
     },
     "output_type": "execute_result"
    }
   ],
   "source": [
    "tf.__version__"
   ]
  },
  {
   "cell_type": "markdown",
   "metadata": {
    "colab_type": "text",
    "id": "HcoZBStrOIUQ"
   },
   "source": [
    "### Collect Data"
   ]
  },
  {
   "cell_type": "code",
   "execution_count": 0,
   "metadata": {
    "colab": {},
    "colab_type": "code",
    "id": "XA1WsFSeOIUS"
   },
   "outputs": [],
   "source": [
    "import keras"
   ]
  },
  {
   "cell_type": "code",
   "execution_count": 0,
   "metadata": {
    "colab": {},
    "colab_type": "code",
    "id": "qnbx7TyQOIUY"
   },
   "outputs": [],
   "source": [
    "(trainX, trainY), (testX, testY) = keras.datasets.fashion_mnist.load_data()"
   ]
  },
  {
   "cell_type": "code",
   "execution_count": 44,
   "metadata": {
    "colab": {
     "base_uri": "https://localhost:8080/",
     "height": 34
    },
    "colab_type": "code",
    "id": "UbiHj5YPOIUc",
    "outputId": "5a37b5d0-e39b-46b8-ed42-f6c86ad3dc29"
   },
   "outputs": [
    {
     "name": "stdout",
     "output_type": "stream",
     "text": [
      "[9 2 1 1 6]\n"
     ]
    }
   ],
   "source": [
    "print(testY[0:5])"
   ]
  },
  {
   "cell_type": "code",
   "execution_count": 45,
   "metadata": {
    "colab": {
     "base_uri": "https://localhost:8080/",
     "height": 34
    },
    "colab_type": "code",
    "id": "uU0i937SShJ5",
    "outputId": "d91fdcd9-c5d3-4e8d-ff16-17844d8efba7"
   },
   "outputs": [
    {
     "data": {
      "text/plain": [
       "array([9, 2, 1, 1, 6, 1, 4, 6, 5, 7], dtype=uint8)"
      ]
     },
     "execution_count": 45,
     "metadata": {
      "tags": []
     },
     "output_type": "execute_result"
    }
   ],
   "source": [
    "display_labels = testY[0:10]\n",
    "display_labels"
   ]
  },
  {
   "cell_type": "markdown",
   "metadata": {
    "colab_type": "text",
    "id": "lDAYzkwyOIUj"
   },
   "source": [
    "### Convert both training and testing labels into one-hot vectors.\n",
    "\n",
    "**Hint:** check **tf.keras.utils.to_categorical()**"
   ]
  },
  {
   "cell_type": "code",
   "execution_count": 0,
   "metadata": {
    "colab": {},
    "colab_type": "code",
    "id": "vBlfYlANOIUk"
   },
   "outputs": [],
   "source": [
    "trainY = tf.keras.utils.to_categorical(trainY, num_classes=10)\n",
    "testY = tf.keras.utils.to_categorical(testY, num_classes=10)"
   ]
  },
  {
   "cell_type": "code",
   "execution_count": 47,
   "metadata": {
    "colab": {
     "base_uri": "https://localhost:8080/",
     "height": 118
    },
    "colab_type": "code",
    "id": "RHV3b9mzOIUq",
    "outputId": "0af698b9-de51-4ba1-ba15-86d154d21274",
    "scrolled": true
   },
   "outputs": [
    {
     "name": "stdout",
     "output_type": "stream",
     "text": [
      "(60000, 10)\n",
      "First 5 examples now are:  [[0. 0. 0. 0. 0. 0. 0. 0. 0. 1.]\n",
      " [1. 0. 0. 0. 0. 0. 0. 0. 0. 0.]\n",
      " [1. 0. 0. 0. 0. 0. 0. 0. 0. 0.]\n",
      " [0. 0. 0. 1. 0. 0. 0. 0. 0. 0.]\n",
      " [1. 0. 0. 0. 0. 0. 0. 0. 0. 0.]]\n"
     ]
    }
   ],
   "source": [
    "print(trainY.shape)\n",
    "print('First 5 examples now are: ', trainY[0:5])"
   ]
  },
  {
   "cell_type": "markdown",
   "metadata": {
    "colab_type": "text",
    "id": "FwhQ8e7VOIUw"
   },
   "source": [
    "### Visualize the data\n",
    "\n",
    "Plot first 10 images in the triaining set and their labels."
   ]
  },
  {
   "cell_type": "code",
   "execution_count": 48,
   "metadata": {
    "colab": {
     "base_uri": "https://localhost:8080/",
     "height": 34
    },
    "colab_type": "code",
    "id": "RVw2HNq3PZLW",
    "outputId": "6ba271d7-1235-4e6c-d4da-6a253c9b53fb"
   },
   "outputs": [
    {
     "data": {
      "text/plain": [
       "(28, 28)"
      ]
     },
     "execution_count": 48,
     "metadata": {
      "tags": []
     },
     "output_type": "execute_result"
    }
   ],
   "source": [
    "trainX[0].shape"
   ]
  },
  {
   "cell_type": "code",
   "execution_count": 49,
   "metadata": {
    "colab": {
     "base_uri": "https://localhost:8080/",
     "height": 282
    },
    "colab_type": "code",
    "id": "nYvy2MbLcb6X",
    "outputId": "e6deba87-f88a-41e0-d458-de67d2455d21"
   },
   "outputs": [
    {
     "data": {
      "text/plain": [
       "<matplotlib.image.AxesImage at 0x7ff653ed0c88>"
      ]
     },
     "execution_count": 49,
     "metadata": {
      "tags": []
     },
     "output_type": "execute_result"
    },
    {
     "data": {
      "image/png": "[encoded data removed]",
      "text/plain": [
       "<Figure size 432x288 with 1 Axes>"
      ]
     },
     "metadata": {
      "tags": []
     },
     "output_type": "display_data"
    }
   ],
   "source": [
    "#Lets print the image as well\n",
    "import matplotlib.pyplot as plt\n",
    "\n",
    "plt.imshow(trainX[0],cmap='gray')"
   ]
  },
  {
   "cell_type": "code",
   "execution_count": 53,
   "metadata": {
    "colab": {
     "base_uri": "https://localhost:8080/",
     "height": 102
    },
    "colab_type": "code",
    "id": "FDbjpb7Pc5LA",
    "outputId": "701d4789-2dd5-4eca-e85a-ae07a5ac0a56"
   },
   "outputs": [
    {
     "data": {
      "image/png": "[encoded data removed]",
      "text/plain": [
       "<Figure size 864x864 with 10 Axes>"
      ]
     },
     "metadata": {
      "tags": []
     },
     "output_type": "display_data"
    }
   ],
   "source": [
    "plt.figure(figsize=(12,12))\n",
    "for i in range(10):\n",
    "    plt.subplot(1,10,i+1)\n",
    "    plt.xticks([])\n",
    "    plt.yticks([])\n",
    "    plt.grid(False)\n",
    "    plt.imshow(trainX[i], cmap=plt.cm.binary)\n",
    "    plt.xlabel(display_labels[i])\n",
    "plt.show()"
   ]
  },
  {
   "cell_type": "code",
   "execution_count": 0,
   "metadata": {
    "colab": {},
    "colab_type": "code",
    "id": "AvDML2OoOIUx"
   },
   "outputs": [],
   "source": []
  },
  {
   "cell_type": "markdown",
   "metadata": {
    "colab_type": "text",
    "id": "l4TbJGeSOIU4"
   },
   "source": [
    "### Build a neural Network with a cross entropy loss function and sgd optimizer in Keras. The output layer with 10 neurons as we have 10 classes."
   ]
  },
  {
   "cell_type": "code",
   "execution_count": 0,
   "metadata": {
    "colab": {},
    "colab_type": "code",
    "id": "Ac06XZZTOIU6"
   },
   "outputs": [],
   "source": [
    "#Initialize Sequential model\n",
    "model = tf.keras.models.Sequential()\n",
    "\n",
    "#Reshape data from 2D to 1D -> 28x28 to 784\n",
    "model.add(tf.keras.layers.Reshape((784,),input_shape=(28,28,)))\n",
    "\n",
    "#Add OUTPUT layer\n",
    "model.add(tf.keras.layers.Dense(10, activation='softmax'))\n",
    "#Create optimizer with non-default learning rate\n",
    "sgd_optimizer = tf.keras.optimizers.SGD(lr=0.03)\n",
    "\n",
    "#Compile the model\n",
    "model.compile(optimizer=sgd_optimizer, loss='categorical_crossentropy', metrics=['accuracy'])"
   ]
  },
  {
   "cell_type": "markdown",
   "metadata": {
    "colab_type": "text",
    "id": "3hQpLv3aOIU_"
   },
   "source": [
    "### Execute the model using model.fit()"
   ]
  },
  {
   "cell_type": "code",
   "execution_count": 17,
   "metadata": {
    "colab": {
     "base_uri": "https://localhost:8080/",
     "height": 1000
    },
    "colab_type": "code",
    "id": "O59C_-IgOIVB",
    "outputId": "40a7cb58-5d96-43e5-f3f6-9820d5a1c59b"
   },
   "outputs": [
    {
     "name": "stdout",
     "output_type": "stream",
     "text": [
      "Train on 60000 samples, validate on 10000 samples\n",
      "Epoch 1/30\n",
      "60000/60000 [==============================] - 4s 68us/sample - loss: 6281.8595 - accuracy: 0.7394 - val_loss: 6291.9395 - val_accuracy: 0.7149\n",
      "Epoch 2/30\n",
      "60000/60000 [==============================] - 4s 59us/sample - loss: 4826.7328 - accuracy: 0.7792 - val_loss: 7750.8406 - val_accuracy: 0.6565\n",
      "Epoch 3/30\n",
      "60000/60000 [==============================] - 3s 57us/sample - loss: 4502.9668 - accuracy: 0.7861 - val_loss: 7535.1862 - val_accuracy: 0.7012\n",
      "Epoch 4/30\n",
      "60000/60000 [==============================] - 3s 58us/sample - loss: 4659.6241 - accuracy: 0.7868 - val_loss: 4881.4646 - val_accuracy: 0.7653\n",
      "Epoch 5/30\n",
      "60000/60000 [==============================] - 4s 59us/sample - loss: 4368.4506 - accuracy: 0.7951 - val_loss: 4604.5068 - val_accuracy: 0.7727\n",
      "Epoch 6/30\n",
      "60000/60000 [==============================] - 3s 58us/sample - loss: 4469.6525 - accuracy: 0.7927 - val_loss: 3015.7093 - val_accuracy: 0.8189\n",
      "Epoch 7/30\n",
      "60000/60000 [==============================] - 3s 57us/sample - loss: 4443.3186 - accuracy: 0.7937 - val_loss: 2961.4755 - val_accuracy: 0.8183\n",
      "Epoch 8/30\n",
      "60000/60000 [==============================] - 3s 58us/sample - loss: 4239.1180 - accuracy: 0.8012 - val_loss: 5260.1440 - val_accuracy: 0.7844\n",
      "Epoch 9/30\n",
      "60000/60000 [==============================] - 3s 58us/sample - loss: 4474.2347 - accuracy: 0.7955 - val_loss: 7519.9690 - val_accuracy: 0.7376\n",
      "Epoch 10/30\n",
      "60000/60000 [==============================] - 4s 58us/sample - loss: 4308.5423 - accuracy: 0.7997 - val_loss: 6938.3109 - val_accuracy: 0.7541\n",
      "Epoch 11/30\n",
      "60000/60000 [==============================] - 3s 58us/sample - loss: 4310.7360 - accuracy: 0.8007 - val_loss: 3017.9152 - val_accuracy: 0.8180\n",
      "Epoch 12/30\n",
      "60000/60000 [==============================] - 3s 58us/sample - loss: 4367.6298 - accuracy: 0.7998 - val_loss: 3800.0803 - val_accuracy: 0.8152\n",
      "Epoch 13/30\n",
      "60000/60000 [==============================] - 3s 57us/sample - loss: 4349.4289 - accuracy: 0.8012 - val_loss: 2983.4374 - val_accuracy: 0.8273\n",
      "Epoch 14/30\n",
      "60000/60000 [==============================] - 3s 57us/sample - loss: 4258.0427 - accuracy: 0.8023 - val_loss: 10122.6048 - val_accuracy: 0.7388\n",
      "Epoch 15/30\n",
      "60000/60000 [==============================] - 3s 58us/sample - loss: 4183.7772 - accuracy: 0.8021 - val_loss: 7862.8077 - val_accuracy: 0.7177\n",
      "Epoch 16/30\n",
      "60000/60000 [==============================] - 3s 58us/sample - loss: 4254.4086 - accuracy: 0.8027 - val_loss: 3653.7661 - val_accuracy: 0.8102\n",
      "Epoch 17/30\n",
      "60000/60000 [==============================] - 4s 59us/sample - loss: 4201.0968 - accuracy: 0.8067 - val_loss: 5008.9467 - val_accuracy: 0.7983\n",
      "Epoch 18/30\n",
      "60000/60000 [==============================] - 3s 58us/sample - loss: 4177.2744 - accuracy: 0.8051 - val_loss: 3277.7033 - val_accuracy: 0.8132\n",
      "Epoch 19/30\n",
      "60000/60000 [==============================] - 3s 58us/sample - loss: 4196.0693 - accuracy: 0.8050 - val_loss: 5659.5367 - val_accuracy: 0.7983\n",
      "Epoch 20/30\n",
      "60000/60000 [==============================] - 3s 58us/sample - loss: 4239.3281 - accuracy: 0.8055 - val_loss: 3510.8009 - val_accuracy: 0.8036\n",
      "Epoch 21/30\n",
      "60000/60000 [==============================] - 3s 56us/sample - loss: 4090.6809 - accuracy: 0.8073 - val_loss: 4414.2758 - val_accuracy: 0.7868\n",
      "Epoch 22/30\n",
      "60000/60000 [==============================] - 3s 58us/sample - loss: 4123.8968 - accuracy: 0.8062 - val_loss: 8902.9312 - val_accuracy: 0.6645\n",
      "Epoch 23/30\n",
      "60000/60000 [==============================] - 3s 57us/sample - loss: 4066.2702 - accuracy: 0.8062 - val_loss: 3947.5672 - val_accuracy: 0.8222\n",
      "Epoch 24/30\n",
      "60000/60000 [==============================] - 3s 57us/sample - loss: 4051.2268 - accuracy: 0.8094 - val_loss: 4579.8352 - val_accuracy: 0.7578\n",
      "Epoch 25/30\n",
      "60000/60000 [==============================] - 3s 58us/sample - loss: 4085.2183 - accuracy: 0.8069 - val_loss: 3572.3620 - val_accuracy: 0.7952\n",
      "Epoch 26/30\n",
      "60000/60000 [==============================] - 3s 58us/sample - loss: 4082.7313 - accuracy: 0.8081 - val_loss: 5789.7572 - val_accuracy: 0.7726\n",
      "Epoch 27/30\n",
      "60000/60000 [==============================] - 3s 58us/sample - loss: 4143.3307 - accuracy: 0.8060 - val_loss: 3622.5082 - val_accuracy: 0.8094\n",
      "Epoch 28/30\n",
      "60000/60000 [==============================] - 3s 57us/sample - loss: 4103.5289 - accuracy: 0.8078 - val_loss: 4290.9794 - val_accuracy: 0.7816\n",
      "Epoch 29/30\n",
      "60000/60000 [==============================] - 3s 57us/sample - loss: 4230.5298 - accuracy: 0.8057 - val_loss: 3431.7800 - val_accuracy: 0.8008\n",
      "Epoch 30/30\n",
      "60000/60000 [==============================] - 3s 58us/sample - loss: 4124.2916 - accuracy: 0.8088 - val_loss: 6184.5251 - val_accuracy: 0.7700\n"
     ]
    },
    {
     "data": {
      "text/plain": [
       "<tensorflow.python.keras.callbacks.History at 0x7ff65b600da0>"
      ]
     },
     "execution_count": 17,
     "metadata": {
      "tags": []
     },
     "output_type": "execute_result"
    }
   ],
   "source": [
    "model.fit(trainX,trainY,          \n",
    "          validation_data=(testX,testY),\n",
    "          epochs=30,\n",
    "          batch_size=32)"
   ]
  },
  {
   "cell_type": "code",
   "execution_count": 18,
   "metadata": {
    "colab": {
     "base_uri": "https://localhost:8080/",
     "height": 218
    },
    "colab_type": "code",
    "id": "U3x-R4F6YHsR",
    "outputId": "68d0adcb-66d8-4669-b68b-58639cd3f2c5"
   },
   "outputs": [
    {
     "name": "stdout",
     "output_type": "stream",
     "text": [
      "Model: \"sequential\"\n",
      "_________________________________________________________________\n",
      "Layer (type)                 Output Shape              Param #   \n",
      "=================================================================\n",
      "reshape (Reshape)            (None, 784)               0         \n",
      "_________________________________________________________________\n",
      "dense (Dense)                (None, 10)                7850      \n",
      "=================================================================\n",
      "Total params: 7,850\n",
      "Trainable params: 7,850\n",
      "Non-trainable params: 0\n",
      "_________________________________________________________________\n"
     ]
    }
   ],
   "source": [
    "model.summary()"
   ]
  },
  {
   "cell_type": "markdown",
   "metadata": {
    "colab_type": "text",
    "id": "JdzDtGwDOIVF"
   },
   "source": [
    "### In the above Neural Network model add Batch Normalization layer after the input layer and repeat the steps."
   ]
  },
  {
   "cell_type": "code",
   "execution_count": 0,
   "metadata": {
    "colab": {},
    "colab_type": "code",
    "id": "kndfpdidOIVI"
   },
   "outputs": [],
   "source": [
    "#Initialize Sequential model\n",
    "model = tf.keras.models.Sequential()\n",
    "\n",
    "#Reshape data from 2D to 1D -> 28x28 to 784\n",
    "model.add(tf.keras.layers.Reshape((784,),input_shape=(28,28,)))\n",
    "#Normalize the data\n",
    "model.add(tf.keras.layers.BatchNormalization())\n",
    "#Add OUTPUT layer\n",
    "model.add(tf.keras.layers.Dense(10, activation='softmax'))\n",
    "#Create optimizer with non-default learning rate\n",
    "sgd_optimizer = tf.keras.optimizers.SGD(lr=0.03)\n",
    "\n",
    "#Compile the model\n",
    "model.compile(optimizer=sgd_optimizer, loss='categorical_crossentropy', metrics=['accuracy'])"
   ]
  },
  {
   "cell_type": "code",
   "execution_count": 20,
   "metadata": {
    "colab": {
     "base_uri": "https://localhost:8080/",
     "height": 252
    },
    "colab_type": "code",
    "id": "A8qVuAPwYoX4",
    "outputId": "2f67e247-9935-4981-af6c-ec510bf894b6"
   },
   "outputs": [
    {
     "name": "stdout",
     "output_type": "stream",
     "text": [
      "Model: \"sequential_1\"\n",
      "_________________________________________________________________\n",
      "Layer (type)                 Output Shape              Param #   \n",
      "=================================================================\n",
      "reshape_1 (Reshape)          (None, 784)               0         \n",
      "_________________________________________________________________\n",
      "batch_normalization (BatchNo (None, 784)               3136      \n",
      "_________________________________________________________________\n",
      "dense_1 (Dense)              (None, 10)                7850      \n",
      "=================================================================\n",
      "Total params: 10,986\n",
      "Trainable params: 9,418\n",
      "Non-trainable params: 1,568\n",
      "_________________________________________________________________\n"
     ]
    }
   ],
   "source": [
    "model.summary()"
   ]
  },
  {
   "cell_type": "markdown",
   "metadata": {
    "colab_type": "text",
    "id": "mwk3T5LJOIVN"
   },
   "source": [
    "### Execute the model"
   ]
  },
  {
   "cell_type": "code",
   "execution_count": 21,
   "metadata": {
    "colab": {
     "base_uri": "https://localhost:8080/",
     "height": 1000
    },
    "colab_type": "code",
    "id": "JNLR8tcBOIVP",
    "outputId": "70d1bf53-d5f1-4ded-e550-211c5d43f1ac"
   },
   "outputs": [
    {
     "name": "stdout",
     "output_type": "stream",
     "text": [
      "Train on 60000 samples, validate on 10000 samples\n",
      "Epoch 1/30\n",
      "60000/60000 [==============================] - 5s 84us/sample - loss: 0.5590 - accuracy: 0.8076 - val_loss: 0.5039 - val_accuracy: 0.8316\n",
      "Epoch 2/30\n",
      "60000/60000 [==============================] - 5s 78us/sample - loss: 0.4829 - accuracy: 0.8329 - val_loss: 0.4961 - val_accuracy: 0.8284\n",
      "Epoch 3/30\n",
      "60000/60000 [==============================] - 5s 81us/sample - loss: 0.4688 - accuracy: 0.8385 - val_loss: 0.4853 - val_accuracy: 0.8387\n",
      "Epoch 4/30\n",
      "60000/60000 [==============================] - 5s 83us/sample - loss: 0.4618 - accuracy: 0.8396 - val_loss: 0.5041 - val_accuracy: 0.8304\n",
      "Epoch 5/30\n",
      "60000/60000 [==============================] - 5s 78us/sample - loss: 0.4540 - accuracy: 0.8431 - val_loss: 0.4797 - val_accuracy: 0.8404\n",
      "Epoch 6/30\n",
      "60000/60000 [==============================] - 5s 79us/sample - loss: 0.4529 - accuracy: 0.8433 - val_loss: 0.5038 - val_accuracy: 0.8307\n",
      "Epoch 7/30\n",
      "60000/60000 [==============================] - 4s 75us/sample - loss: 0.4476 - accuracy: 0.8449 - val_loss: 0.5129 - val_accuracy: 0.8314\n",
      "Epoch 8/30\n",
      "60000/60000 [==============================] - 4s 74us/sample - loss: 0.4488 - accuracy: 0.8435 - val_loss: 0.4906 - val_accuracy: 0.8312\n",
      "Epoch 9/30\n",
      "60000/60000 [==============================] - 4s 75us/sample - loss: 0.4405 - accuracy: 0.8462 - val_loss: 0.4783 - val_accuracy: 0.8393\n",
      "Epoch 10/30\n",
      "60000/60000 [==============================] - 5s 80us/sample - loss: 0.4379 - accuracy: 0.8470 - val_loss: 0.5078 - val_accuracy: 0.8357\n",
      "Epoch 11/30\n",
      "60000/60000 [==============================] - 5s 77us/sample - loss: 0.4372 - accuracy: 0.8464 - val_loss: 0.4985 - val_accuracy: 0.8363\n",
      "Epoch 12/30\n",
      "60000/60000 [==============================] - 5s 79us/sample - loss: 0.4374 - accuracy: 0.8485 - val_loss: 0.4934 - val_accuracy: 0.8361\n",
      "Epoch 13/30\n",
      "60000/60000 [==============================] - 4s 74us/sample - loss: 0.4385 - accuracy: 0.8463 - val_loss: 0.5281 - val_accuracy: 0.8343\n",
      "Epoch 14/30\n",
      "60000/60000 [==============================] - 5s 76us/sample - loss: 0.4338 - accuracy: 0.8478 - val_loss: 0.5024 - val_accuracy: 0.8331\n",
      "Epoch 15/30\n",
      "60000/60000 [==============================] - 4s 75us/sample - loss: 0.4336 - accuracy: 0.8484 - val_loss: 0.5170 - val_accuracy: 0.8327\n",
      "Epoch 16/30\n",
      "60000/60000 [==============================] - 4s 75us/sample - loss: 0.4332 - accuracy: 0.8477 - val_loss: 0.4966 - val_accuracy: 0.8362\n",
      "Epoch 17/30\n",
      "60000/60000 [==============================] - 4s 75us/sample - loss: 0.4287 - accuracy: 0.8511 - val_loss: 0.5289 - val_accuracy: 0.8376\n",
      "Epoch 18/30\n",
      "60000/60000 [==============================] - 4s 74us/sample - loss: 0.4319 - accuracy: 0.8482 - val_loss: 0.4946 - val_accuracy: 0.8362\n",
      "Epoch 19/30\n",
      "60000/60000 [==============================] - 4s 75us/sample - loss: 0.4305 - accuracy: 0.8474 - val_loss: 0.5064 - val_accuracy: 0.8306\n",
      "Epoch 20/30\n",
      "60000/60000 [==============================] - 5s 77us/sample - loss: 0.4290 - accuracy: 0.8506 - val_loss: 0.5115 - val_accuracy: 0.8290\n",
      "Epoch 21/30\n",
      "60000/60000 [==============================] - 5s 76us/sample - loss: 0.4297 - accuracy: 0.8497 - val_loss: 0.5048 - val_accuracy: 0.8385\n",
      "Epoch 22/30\n",
      "60000/60000 [==============================] - 4s 75us/sample - loss: 0.4262 - accuracy: 0.8504 - val_loss: 0.5094 - val_accuracy: 0.8333\n",
      "Epoch 23/30\n",
      "60000/60000 [==============================] - 4s 74us/sample - loss: 0.4280 - accuracy: 0.8493 - val_loss: 0.5069 - val_accuracy: 0.8357\n",
      "Epoch 24/30\n",
      "60000/60000 [==============================] - 4s 74us/sample - loss: 0.4238 - accuracy: 0.8507 - val_loss: 0.5106 - val_accuracy: 0.8370\n",
      "Epoch 25/30\n",
      "60000/60000 [==============================] - 4s 75us/sample - loss: 0.4261 - accuracy: 0.8499 - val_loss: 0.4947 - val_accuracy: 0.8351\n",
      "Epoch 26/30\n",
      "60000/60000 [==============================] - 4s 74us/sample - loss: 0.4254 - accuracy: 0.8508 - val_loss: 0.5147 - val_accuracy: 0.8367\n",
      "Epoch 27/30\n",
      "60000/60000 [==============================] - 4s 74us/sample - loss: 0.4233 - accuracy: 0.8512 - val_loss: 0.5112 - val_accuracy: 0.8351\n",
      "Epoch 28/30\n",
      "60000/60000 [==============================] - 4s 75us/sample - loss: 0.4245 - accuracy: 0.8488 - val_loss: 0.4990 - val_accuracy: 0.8317\n",
      "Epoch 29/30\n",
      "60000/60000 [==============================] - 4s 74us/sample - loss: 0.4251 - accuracy: 0.8504 - val_loss: 0.5178 - val_accuracy: 0.8359\n",
      "Epoch 30/30\n",
      "60000/60000 [==============================] - 4s 75us/sample - loss: 0.4241 - accuracy: 0.8500 - val_loss: 0.4920 - val_accuracy: 0.8372\n"
     ]
    },
    {
     "data": {
      "text/plain": [
       "<tensorflow.python.keras.callbacks.History at 0x7ff65a1242e8>"
      ]
     },
     "execution_count": 21,
     "metadata": {
      "tags": []
     },
     "output_type": "execute_result"
    }
   ],
   "source": [
    "model.fit(trainX,trainY,          \n",
    "          validation_data=(testX,testY),\n",
    "          epochs=30,\n",
    "          batch_size=32)"
   ]
  },
  {
   "cell_type": "markdown",
   "metadata": {
    "colab_type": "text",
    "id": "Py-KwkmjOIVU"
   },
   "source": [
    "### Customize the learning rate to 0.001 in sgd optimizer and run the model"
   ]
  },
  {
   "cell_type": "code",
   "execution_count": 0,
   "metadata": {
    "colab": {},
    "colab_type": "code",
    "id": "yLXUE9jWOIVV"
   },
   "outputs": [],
   "source": [
    "#Initialize Sequential model\n",
    "model = tf.keras.models.Sequential()\n",
    "\n",
    "#Reshape data from 2D to 1D -> 28x28 to 784\n",
    "model.add(tf.keras.layers.Reshape((784,),input_shape=(28,28,)))\n",
    "#Normalize the data\n",
    "model.add(tf.keras.layers.BatchNormalization())\n",
    "#Add OUTPUT layer\n",
    "model.add(tf.keras.layers.Dense(10, activation='softmax'))\n",
    "#Create optimizer with non-default learning rate\n",
    "sgd_optimizer = tf.keras.optimizers.SGD(lr=0.001)\n",
    "\n",
    "#Compile the model\n",
    "model.compile(optimizer=sgd_optimizer, loss='categorical_crossentropy', metrics=['accuracy'])\n"
   ]
  },
  {
   "cell_type": "code",
   "execution_count": 23,
   "metadata": {
    "colab": {
     "base_uri": "https://localhost:8080/",
     "height": 1000
    },
    "colab_type": "code",
    "id": "pJUqA5T4OIVc",
    "outputId": "462385db-9333-4bcb-993a-25def5d9fb8a"
   },
   "outputs": [
    {
     "name": "stdout",
     "output_type": "stream",
     "text": [
      "Train on 60000 samples, validate on 10000 samples\n",
      "Epoch 1/30\n",
      "60000/60000 [==============================] - 5s 89us/sample - loss: 0.9480 - accuracy: 0.6738 - val_loss: 0.6981 - val_accuracy: 0.7653\n",
      "Epoch 2/30\n",
      "60000/60000 [==============================] - 5s 80us/sample - loss: 0.6486 - accuracy: 0.7760 - val_loss: 0.6124 - val_accuracy: 0.7918\n",
      "Epoch 3/30\n",
      "60000/60000 [==============================] - 5s 83us/sample - loss: 0.5926 - accuracy: 0.7950 - val_loss: 0.5873 - val_accuracy: 0.8035\n",
      "Epoch 4/30\n",
      "60000/60000 [==============================] - 5s 81us/sample - loss: 0.5611 - accuracy: 0.8064 - val_loss: 0.5773 - val_accuracy: 0.8092\n",
      "Epoch 5/30\n",
      "60000/60000 [==============================] - 5s 75us/sample - loss: 0.5431 - accuracy: 0.8107 - val_loss: 0.5421 - val_accuracy: 0.8165\n",
      "Epoch 6/30\n",
      "60000/60000 [==============================] - 4s 75us/sample - loss: 0.5303 - accuracy: 0.8170 - val_loss: 0.5369 - val_accuracy: 0.8193\n",
      "Epoch 7/30\n",
      "60000/60000 [==============================] - 5s 75us/sample - loss: 0.5184 - accuracy: 0.8216 - val_loss: 0.5499 - val_accuracy: 0.8203\n",
      "Epoch 8/30\n",
      "60000/60000 [==============================] - 4s 74us/sample - loss: 0.5106 - accuracy: 0.8227 - val_loss: 0.5175 - val_accuracy: 0.8235\n",
      "Epoch 9/30\n",
      "60000/60000 [==============================] - 4s 74us/sample - loss: 0.5046 - accuracy: 0.8256 - val_loss: 0.5225 - val_accuracy: 0.8250\n",
      "Epoch 10/30\n",
      "60000/60000 [==============================] - 4s 74us/sample - loss: 0.4984 - accuracy: 0.8285 - val_loss: 0.5032 - val_accuracy: 0.8263\n",
      "Epoch 11/30\n",
      "60000/60000 [==============================] - 4s 75us/sample - loss: 0.4934 - accuracy: 0.8296 - val_loss: 0.5170 - val_accuracy: 0.8272\n",
      "Epoch 12/30\n",
      "60000/60000 [==============================] - 4s 75us/sample - loss: 0.4866 - accuracy: 0.8320 - val_loss: 0.5121 - val_accuracy: 0.8275\n",
      "Epoch 13/30\n",
      "60000/60000 [==============================] - 4s 75us/sample - loss: 0.4849 - accuracy: 0.8335 - val_loss: 0.5001 - val_accuracy: 0.8282\n",
      "Epoch 14/30\n",
      "60000/60000 [==============================] - 5s 77us/sample - loss: 0.4816 - accuracy: 0.8342 - val_loss: 0.4997 - val_accuracy: 0.8300\n",
      "Epoch 15/30\n",
      "60000/60000 [==============================] - 4s 74us/sample - loss: 0.4781 - accuracy: 0.8362 - val_loss: 0.4878 - val_accuracy: 0.8305\n",
      "Epoch 16/30\n",
      "60000/60000 [==============================] - 4s 74us/sample - loss: 0.4739 - accuracy: 0.8366 - val_loss: 0.5030 - val_accuracy: 0.8328\n",
      "Epoch 17/30\n",
      "60000/60000 [==============================] - 4s 74us/sample - loss: 0.4723 - accuracy: 0.8374 - val_loss: 0.4915 - val_accuracy: 0.8331\n",
      "Epoch 18/30\n",
      "60000/60000 [==============================] - 4s 74us/sample - loss: 0.4683 - accuracy: 0.8387 - val_loss: 0.5020 - val_accuracy: 0.8329\n",
      "Epoch 19/30\n",
      "60000/60000 [==============================] - 4s 74us/sample - loss: 0.4669 - accuracy: 0.8386 - val_loss: 0.4847 - val_accuracy: 0.8354\n",
      "Epoch 20/30\n",
      "60000/60000 [==============================] - 4s 74us/sample - loss: 0.4665 - accuracy: 0.8398 - val_loss: 0.4960 - val_accuracy: 0.8328\n",
      "Epoch 21/30\n",
      "60000/60000 [==============================] - 4s 75us/sample - loss: 0.4626 - accuracy: 0.8399 - val_loss: 0.4802 - val_accuracy: 0.8345\n",
      "Epoch 22/30\n",
      "60000/60000 [==============================] - 4s 75us/sample - loss: 0.4619 - accuracy: 0.8413 - val_loss: 0.4888 - val_accuracy: 0.8346\n",
      "Epoch 23/30\n",
      "60000/60000 [==============================] - 4s 75us/sample - loss: 0.4594 - accuracy: 0.8416 - val_loss: 0.4877 - val_accuracy: 0.8355\n",
      "Epoch 24/30\n",
      "60000/60000 [==============================] - 4s 75us/sample - loss: 0.4564 - accuracy: 0.8431 - val_loss: 0.4884 - val_accuracy: 0.8354\n",
      "Epoch 25/30\n",
      "60000/60000 [==============================] - 4s 74us/sample - loss: 0.4554 - accuracy: 0.8423 - val_loss: 0.4794 - val_accuracy: 0.8367\n",
      "Epoch 26/30\n",
      "60000/60000 [==============================] - 4s 74us/sample - loss: 0.4532 - accuracy: 0.8438 - val_loss: 0.4774 - val_accuracy: 0.8364\n",
      "Epoch 27/30\n",
      "60000/60000 [==============================] - 4s 74us/sample - loss: 0.4537 - accuracy: 0.8428 - val_loss: 0.4850 - val_accuracy: 0.8354\n",
      "Epoch 28/30\n",
      "60000/60000 [==============================] - 4s 74us/sample - loss: 0.4509 - accuracy: 0.8449 - val_loss: 0.4768 - val_accuracy: 0.8373\n",
      "Epoch 29/30\n",
      "60000/60000 [==============================] - 4s 75us/sample - loss: 0.4509 - accuracy: 0.8432 - val_loss: 0.4925 - val_accuracy: 0.8368\n",
      "Epoch 30/30\n",
      "60000/60000 [==============================] - 4s 73us/sample - loss: 0.4478 - accuracy: 0.8447 - val_loss: 0.4784 - val_accuracy: 0.8366\n"
     ]
    },
    {
     "data": {
      "text/plain": [
       "<tensorflow.python.keras.callbacks.History at 0x7ff657885860>"
      ]
     },
     "execution_count": 23,
     "metadata": {
      "tags": []
     },
     "output_type": "execute_result"
    }
   ],
   "source": [
    "model.fit(trainX,trainY,          \n",
    "          validation_data=(testX,testY),\n",
    "          epochs=30,\n",
    "          batch_size=32)"
   ]
  },
  {
   "cell_type": "markdown",
   "metadata": {
    "colab_type": "text",
    "id": "j9CSqKvpOIVk"
   },
   "source": [
    "### Build the Neural Network model with 3 Dense layers with 100,100,10 neurons respectively in each layer. Use cross entropy loss function and singmoid as activation in the hidden layers and softmax as activation function in the output layer. Use sgd optimizer with learning rate 0.03."
   ]
  },
  {
   "cell_type": "code",
   "execution_count": 0,
   "metadata": {
    "colab": {},
    "colab_type": "code",
    "id": "GGAad54JOIVm"
   },
   "outputs": [],
   "source": [
    "#Initialize Sequential model\n",
    "model = tf.keras.models.Sequential()\n",
    "\n",
    "#Reshape data from 2D to 1D -> 28x28 to 784\n",
    "model.add(tf.keras.layers.Reshape((784,),input_shape=(28,28,)))\n",
    "#Normalize the data\n",
    "model.add(tf.keras.layers.BatchNormalization())\n",
    "\n",
    "#Add 1st hidden layer\n",
    "model.add(tf.keras.layers.Dense(100, activation='sigmoid'))\n",
    "#Add 2nd hidden layer\n",
    "model.add(tf.keras.layers.Dense(100, activation='sigmoid'))\n",
    "#Add OUTPUT layer\n",
    "model.add(tf.keras.layers.Dense(10, activation='softmax'))\n",
    "#Create optimizer with non-default learning rate\n",
    "sgd_optimizer = tf.keras.optimizers.SGD(lr=0.03)\n",
    "\n",
    "#Compile the model\n",
    "model.compile(optimizer=sgd_optimizer, loss='categorical_crossentropy', metrics=['accuracy'])\n"
   ]
  },
  {
   "cell_type": "markdown",
   "metadata": {
    "colab_type": "text",
    "id": "Nr2YsZV0OIV0"
   },
   "source": [
    "## Review model"
   ]
  },
  {
   "cell_type": "code",
   "execution_count": 55,
   "metadata": {
    "colab": {
     "base_uri": "https://localhost:8080/",
     "height": 319
    },
    "colab_type": "code",
    "id": "MQ7oIymROIVp",
    "outputId": "e8cd511c-aaa5-4f92-d491-f96c2f8b98b3"
   },
   "outputs": [
    {
     "name": "stdout",
     "output_type": "stream",
     "text": [
      "Model: \"sequential_4\"\n",
      "_________________________________________________________________\n",
      "Layer (type)                 Output Shape              Param #   \n",
      "=================================================================\n",
      "reshape_4 (Reshape)          (None, 784)               0         \n",
      "_________________________________________________________________\n",
      "batch_normalization_3 (Batch (None, 784)               3136      \n",
      "_________________________________________________________________\n",
      "dense_6 (Dense)              (None, 100)               78500     \n",
      "_________________________________________________________________\n",
      "dense_7 (Dense)              (None, 100)               10100     \n",
      "_________________________________________________________________\n",
      "dense_8 (Dense)              (None, 10)                1010      \n",
      "=================================================================\n",
      "Total params: 92,746\n",
      "Trainable params: 91,178\n",
      "Non-trainable params: 1,568\n",
      "_________________________________________________________________\n"
     ]
    }
   ],
   "source": [
    "model.summary()"
   ]
  },
  {
   "cell_type": "code",
   "execution_count": 0,
   "metadata": {
    "colab": {},
    "colab_type": "code",
    "id": "X-O-fFxnOIVt"
   },
   "outputs": [],
   "source": []
  },
  {
   "cell_type": "code",
   "execution_count": 0,
   "metadata": {
    "colab": {},
    "colab_type": "code",
    "id": "BiP7IL52OIVw"
   },
   "outputs": [],
   "source": []
  },
  {
   "cell_type": "markdown",
   "metadata": {
    "colab_type": "text",
    "id": "gfFGmbZLOIV5"
   },
   "source": [
    "### Run the model"
   ]
  },
  {
   "cell_type": "code",
   "execution_count": 56,
   "metadata": {
    "colab": {
     "base_uri": "https://localhost:8080/",
     "height": 1000
    },
    "colab_type": "code",
    "id": "h4ojW6-oOIV2",
    "outputId": "1ad8783d-1e38-4e84-d617-8f92fcd8c799"
   },
   "outputs": [
    {
     "name": "stdout",
     "output_type": "stream",
     "text": [
      "Train on 60000 samples, validate on 10000 samples\n",
      "Epoch 1/30\n",
      "60000/60000 [==============================] - 4s 65us/sample - loss: 1.5962 - accuracy: 0.6105 - val_loss: 1.0645 - val_accuracy: 0.7191\n",
      "Epoch 2/30\n",
      "60000/60000 [==============================] - 3s 56us/sample - loss: 0.8708 - accuracy: 0.7382 - val_loss: 0.7491 - val_accuracy: 0.7567\n",
      "Epoch 3/30\n",
      "60000/60000 [==============================] - 3s 56us/sample - loss: 0.6823 - accuracy: 0.7658 - val_loss: 0.6408 - val_accuracy: 0.7728\n",
      "Epoch 4/30\n",
      "60000/60000 [==============================] - 3s 56us/sample - loss: 0.6019 - accuracy: 0.7861 - val_loss: 0.5835 - val_accuracy: 0.7918\n",
      "Epoch 5/30\n",
      "60000/60000 [==============================] - 3s 57us/sample - loss: 0.5528 - accuracy: 0.8031 - val_loss: 0.5475 - val_accuracy: 0.8045\n",
      "Epoch 6/30\n",
      "60000/60000 [==============================] - 3s 56us/sample - loss: 0.5181 - accuracy: 0.8160 - val_loss: 0.5188 - val_accuracy: 0.8131\n",
      "Epoch 7/30\n",
      "60000/60000 [==============================] - 3s 58us/sample - loss: 0.4928 - accuracy: 0.8251 - val_loss: 0.4983 - val_accuracy: 0.8209\n",
      "Epoch 8/30\n",
      "60000/60000 [==============================] - 3s 57us/sample - loss: 0.4742 - accuracy: 0.8310 - val_loss: 0.4840 - val_accuracy: 0.8261\n",
      "Epoch 9/30\n",
      "60000/60000 [==============================] - 3s 57us/sample - loss: 0.4583 - accuracy: 0.8369 - val_loss: 0.4700 - val_accuracy: 0.8321\n",
      "Epoch 10/30\n",
      "60000/60000 [==============================] - 3s 56us/sample - loss: 0.4460 - accuracy: 0.8409 - val_loss: 0.4611 - val_accuracy: 0.8358\n",
      "Epoch 11/30\n",
      "60000/60000 [==============================] - 3s 57us/sample - loss: 0.4337 - accuracy: 0.8456 - val_loss: 0.4514 - val_accuracy: 0.8366\n",
      "Epoch 12/30\n",
      "60000/60000 [==============================] - 3s 56us/sample - loss: 0.4248 - accuracy: 0.8487 - val_loss: 0.4443 - val_accuracy: 0.8416\n",
      "Epoch 13/30\n",
      "60000/60000 [==============================] - 3s 57us/sample - loss: 0.4159 - accuracy: 0.8519 - val_loss: 0.4371 - val_accuracy: 0.8427\n",
      "Epoch 14/30\n",
      "60000/60000 [==============================] - 3s 56us/sample - loss: 0.4088 - accuracy: 0.8546 - val_loss: 0.4333 - val_accuracy: 0.8439\n",
      "Epoch 15/30\n",
      "60000/60000 [==============================] - 3s 57us/sample - loss: 0.4006 - accuracy: 0.8577 - val_loss: 0.4266 - val_accuracy: 0.8466\n",
      "Epoch 16/30\n",
      "60000/60000 [==============================] - 3s 56us/sample - loss: 0.3946 - accuracy: 0.8592 - val_loss: 0.4219 - val_accuracy: 0.8485\n",
      "Epoch 17/30\n",
      "60000/60000 [==============================] - 3s 57us/sample - loss: 0.3905 - accuracy: 0.8612 - val_loss: 0.4163 - val_accuracy: 0.8497\n",
      "Epoch 18/30\n",
      "60000/60000 [==============================] - 3s 56us/sample - loss: 0.3833 - accuracy: 0.8627 - val_loss: 0.4129 - val_accuracy: 0.8511\n",
      "Epoch 19/30\n",
      "60000/60000 [==============================] - 3s 57us/sample - loss: 0.3786 - accuracy: 0.8655 - val_loss: 0.4092 - val_accuracy: 0.8529\n",
      "Epoch 20/30\n",
      "60000/60000 [==============================] - 3s 56us/sample - loss: 0.3746 - accuracy: 0.8668 - val_loss: 0.4049 - val_accuracy: 0.8528\n",
      "Epoch 21/30\n",
      "60000/60000 [==============================] - 3s 57us/sample - loss: 0.3700 - accuracy: 0.8673 - val_loss: 0.4012 - val_accuracy: 0.8555\n",
      "Epoch 22/30\n",
      "60000/60000 [==============================] - 3s 56us/sample - loss: 0.3643 - accuracy: 0.8712 - val_loss: 0.4007 - val_accuracy: 0.8554\n",
      "Epoch 23/30\n",
      "60000/60000 [==============================] - 3s 55us/sample - loss: 0.3608 - accuracy: 0.8719 - val_loss: 0.3947 - val_accuracy: 0.8579\n",
      "Epoch 24/30\n",
      "60000/60000 [==============================] - 3s 56us/sample - loss: 0.3569 - accuracy: 0.8730 - val_loss: 0.3932 - val_accuracy: 0.8588\n",
      "Epoch 25/30\n",
      "60000/60000 [==============================] - 3s 55us/sample - loss: 0.3531 - accuracy: 0.8744 - val_loss: 0.3920 - val_accuracy: 0.8592\n",
      "Epoch 26/30\n",
      "60000/60000 [==============================] - 3s 56us/sample - loss: 0.3510 - accuracy: 0.8752 - val_loss: 0.3886 - val_accuracy: 0.8580\n",
      "Epoch 27/30\n",
      "60000/60000 [==============================] - 3s 57us/sample - loss: 0.3466 - accuracy: 0.8760 - val_loss: 0.3854 - val_accuracy: 0.8608\n",
      "Epoch 28/30\n",
      "60000/60000 [==============================] - 3s 56us/sample - loss: 0.3416 - accuracy: 0.8781 - val_loss: 0.3834 - val_accuracy: 0.8627\n",
      "Epoch 29/30\n",
      "60000/60000 [==============================] - 3s 56us/sample - loss: 0.3397 - accuracy: 0.8787 - val_loss: 0.3812 - val_accuracy: 0.8617\n",
      "Epoch 30/30\n",
      "60000/60000 [==============================] - 3s 57us/sample - loss: 0.3364 - accuracy: 0.8804 - val_loss: 0.3802 - val_accuracy: 0.8635\n"
     ]
    },
    {
     "data": {
      "text/plain": [
       "<tensorflow.python.keras.callbacks.History at 0x7ff6548778d0>"
      ]
     },
     "execution_count": 56,
     "metadata": {
      "tags": []
     },
     "output_type": "execute_result"
    }
   ],
   "source": [
    "model.fit(trainX,trainY,          \n",
    "          validation_data=(testX,testY),\n",
    "          epochs=30,\n",
    "          batch_size=100)"
   ]
  },
  {
   "cell_type": "code",
   "execution_count": 0,
   "metadata": {
    "colab": {},
    "colab_type": "code",
    "id": "bIkbMEN5OIV7"
   },
   "outputs": [],
   "source": []
  }
 ],
 "metadata": {
  "accelerator": "GPU",
  "colab": {
   "collapsed_sections": [],
   "name": "R6_ExternalLab_Delhi.ipynb",
   "provenance": []
  },
  "kernelspec": {
   "display_name": "Python 3",
   "language": "python",
   "name": "python3"
  },
  "language_info": {
   "codemirror_mode": {
    "name": "ipython",
    "version": 3
   },
   "file_extension": ".py",
   "mimetype": "text/x-python",
   "name": "python",
   "nbconvert_exporter": "python",
   "pygments_lexer": "ipython3",
   "version": "3.7.3"
  }
 },
 "nbformat": 4,
 "nbformat_minor": 1
}
