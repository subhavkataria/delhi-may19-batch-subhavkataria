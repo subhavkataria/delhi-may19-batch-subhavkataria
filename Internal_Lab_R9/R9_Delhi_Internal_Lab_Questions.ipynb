{
  "nbformat": 4,
  "nbformat_minor": 0,
  "metadata": {
    "colab": {
      "name": "R9_Delhi_Internal_Lab_Questions.ipynb",
      "provenance": [],
      "collapsed_sections": [],
      "toc_visible": true
    },
    "kernelspec": {
      "name": "python3",
      "display_name": "Python 3"
    }
  },
  "cells": [
    {
      "cell_type": "markdown",
      "metadata": {
        "id": "I-P5m4iA_xe7",
        "colab_type": "text"
      },
      "source": [
        "# Bounding box detection - Racoon data\n",
        "\n",
        "\n",
        "## Data files\n",
        "- images_racoon.rar: contain images of racoons\n",
        "- train_labels.cv: contains coordinates for bounding box for every image"
      ]
    },
    {
      "cell_type": "code",
      "metadata": {
        "id": "o32E-BVoFFDT",
        "colab_type": "code",
        "colab": {
          "base_uri": "https://localhost:8080/",
          "height": 121
        },
        "outputId": "07bff899-2826-4471-d70e-443007caa62a"
      },
      "source": [
        "from google.colab import drive\n",
        "drive.mount('/content/drive')"
      ],
      "execution_count": 1,
      "outputs": [
        {
          "output_type": "stream",
          "text": [
            "Go to this URL in a browser: https://accounts.google.com/o/oauth2/auth?client_id=947318989803-6bn6qk8qdgf4n4g3pfee6491hc0brc4i.apps.googleusercontent.com&redirect_uri=urn%3aietf%3awg%3aoauth%3a2.0%3aoob&response_type=code&scope=email%20https%3a%2f%2fwww.googleapis.com%2fauth%2fdocs.test%20https%3a%2f%2fwww.googleapis.com%2fauth%2fdrive%20https%3a%2f%2fwww.googleapis.com%2fauth%2fdrive.photos.readonly%20https%3a%2f%2fwww.googleapis.com%2fauth%2fpeopleapi.readonly\n",
            "\n",
            "Enter your authorization code:\n",
            "··········\n",
            "Mounted at /content/drive\n"
          ],
          "name": "stdout"
        }
      ]
    },
    {
      "cell_type": "markdown",
      "metadata": {
        "colab_type": "text",
        "id": "d8M5gzwKWGiU"
      },
      "source": [
        "### Import the necessary libraries"
      ]
    },
    {
      "cell_type": "code",
      "metadata": {
        "colab_type": "code",
        "id": "VOMKpZJcWGiV",
        "colab": {
          "base_uri": "https://localhost:8080/",
          "height": 79
        },
        "outputId": "36418631-5b23-4eaa-e121-e30d563cdd75"
      },
      "source": [
        "# IMPORT LIBRARIES AND PACKAGES\n",
        "import tensorflow as tf\n",
        "import csv\n",
        "import numpy as np\n",
        "from PIL import Image\n",
        "\n",
        "from keras import Model\n",
        "from keras.applications.mobilenet import MobileNet, preprocess_input\n",
        "from keras.callbacks import ModelCheckpoint, EarlyStopping, ReduceLROnPlateau, Callback\n",
        "from keras.layers import Conv2D, Reshape\n",
        "from keras.utils import Sequence\n",
        "from keras.backend import epsilon"
      ],
      "execution_count": 2,
      "outputs": [
        {
          "output_type": "display_data",
          "data": {
            "text/html": [
              "<p style=\"color: red;\">\n",
              "The default version of TensorFlow in Colab will soon switch to TensorFlow 2.x.<br>\n",
              "We recommend you <a href=\"https://www.tensorflow.org/guide/migrate\" target=\"_blank\">upgrade</a> now \n",
              "or ensure your notebook will continue to use TensorFlow 1.x via the <code>%tensorflow_version 1.x</code> magic:\n",
              "<a href=\"https://colab.research.google.com/notebooks/tensorflow_version.ipynb\" target=\"_blank\">more info</a>.</p>\n"
            ],
            "text/plain": [
              "<IPython.core.display.HTML object>"
            ]
          },
          "metadata": {
            "tags": []
          }
        },
        {
          "output_type": "stream",
          "text": [
            "Using TensorFlow backend.\n"
          ],
          "name": "stderr"
        }
      ]
    },
    {
      "cell_type": "markdown",
      "metadata": {
        "id": "Z_INIZOi_tUW",
        "colab_type": "text"
      },
      "source": [
        "### Change directory"
      ]
    },
    {
      "cell_type": "code",
      "metadata": {
        "id": "Sxgw3GT1AR9Y",
        "colab_type": "code",
        "colab": {}
      },
      "source": [
        "import os\n",
        "\n",
        "DATASET_FOLDER = \"/content/drive/My Drive/greatlakes/Residency9/InternalLab/\"\n",
        "os.chdir(DATASET_FOLDER)"
      ],
      "execution_count": 0,
      "outputs": []
    },
    {
      "cell_type": "markdown",
      "metadata": {
        "colab_type": "text",
        "id": "lwxBtvYRWGii"
      },
      "source": [
        "### Load the training data from train.csv file"
      ]
    },
    {
      "cell_type": "code",
      "metadata": {
        "colab_type": "code",
        "id": "wiTjjKtpWGij",
        "colab": {
          "base_uri": "https://localhost:8080/",
          "height": 34
        },
        "outputId": "5fe34308-1e22-42c2-fc76-e683a1b9e6b5"
      },
      "source": [
        ""
      ],
      "execution_count": 37,
      "outputs": [
        {
          "output_type": "stream",
          "text": [
            "173\n"
          ],
          "name": "stdout"
        }
      ]
    },
    {
      "cell_type": "markdown",
      "metadata": {
        "colab_type": "text",
        "id": "-F3CkYxUWGin"
      },
      "source": [
        "### Print the shape of the train dataset"
      ]
    },
    {
      "cell_type": "code",
      "metadata": {
        "colab_type": "code",
        "id": "uRz_MtnvWGip",
        "colab": {
          "base_uri": "https://localhost:8080/",
          "height": 34
        },
        "outputId": "8ec28f57-702e-4085-a52a-6fa857cb6485"
      },
      "source": [
        "batch_images.shape"
      ],
      "execution_count": 38,
      "outputs": [
        {
          "output_type": "execute_result",
          "data": {
            "text/plain": [
              "(173, 128, 128, 3)"
            ]
          },
          "metadata": {
            "tags": []
          },
          "execution_count": 38
        }
      ]
    },
    {
      "cell_type": "markdown",
      "metadata": {
        "colab_type": "text",
        "id": "axf5m10eWGis"
      },
      "source": [
        "### Declare a variable IMAGE_SIZE = 128 as we will be using MobileNet which will be taking Input shape as 128 * 128 "
      ]
    },
    {
      "cell_type": "code",
      "metadata": {
        "colab_type": "code",
        "id": "7ayEk2c9WGit",
        "colab": {}
      },
      "source": [
        "IMAGE_SIZE = 128 # MobileNet takes images of size 128*128*3 "
      ],
      "execution_count": 0,
      "outputs": []
    },
    {
      "cell_type": "markdown",
      "metadata": {
        "colab_type": "text",
        "id": "wbrrYb5IWGix"
      },
      "source": [
        "### With the help of csv.reader write a for loop which can load the train.csv file and store the path, width, height, x0,y0,x1,y1 in induvidual variables. <br>\n",
        "1. Create a list variable known as 'path' which has all the path for all the training images\n",
        "2. Create an array 'coords' which has the resized coordinates of the bounding box for the training images\n",
        "\n",
        "<u>Note:</u> All the training images should be downsampled to 128 * 128 as it is the input shape of MobileNet (which we will be using for Object detection). Hence the corresponding coordinates of the bounding boxes should be changed to match the image dimension of 128 * 128 "
      ]
    },
    {
      "cell_type": "code",
      "metadata": {
        "colab_type": "code",
        "id": "twSTiPpRWGiy",
        "colab": {
          "base_uri": "https://localhost:8080/",
          "height": 50
        },
        "outputId": "5435e32c-eb08-4907-da94-039386054888"
      },
      "source": [
        "TRAIN_CSV = DATASET_FOLDER+\"train_labels.csv\"\n",
        "images_path = DATASET_FOLDER + \"images/\"\n",
        "\n",
        "import csv\n",
        "with open(TRAIN_CSV, 'r') as csvfile:\n",
        "    \n",
        "    paths = []\n",
        "    coords = np.zeros((sum(1 for line in csvfile)-1, 4))\n",
        "    reader = csv.reader(csvfile, delimiter=',')\n",
        "    csvfile.seek(0)\n",
        "    next(csvfile)\n",
        "    for col, row in enumerate(reader):\n",
        "             \n",
        "        path = images_path + row[0]\n",
        "        image_width,image_height,xmin, ymin, xmax, ymax = int(row[1]),int(row[2]),int(row[4]),int(row[5]),int(row[6]),int(row[7])  \n",
        "        #print(image_width,image_height,xmin, ymin, xmax, ymax)  \n",
        "        coords[col, 0] = xmin * IMAGE_SIZE / image_width # Normalize bounding box by image size\n",
        "        coords[col, 1] = ymin * IMAGE_SIZE / image_height # Normalize bounding box by image size\n",
        "        coords[col, 2] = (xmax - xmin) * IMAGE_SIZE / image_width # Normalize bounding box by image size\n",
        "        coords[col, 3] = (ymax - ymin) * IMAGE_SIZE / image_height\n",
        "        paths.append(path)\n",
        "\n",
        "print(len(paths))\n",
        "print(len(coords))\n"
      ],
      "execution_count": 58,
      "outputs": [
        {
          "output_type": "stream",
          "text": [
            "173\n",
            "173\n"
          ],
          "name": "stdout"
        }
      ]
    },
    {
      "cell_type": "markdown",
      "metadata": {
        "colab_type": "text",
        "id": "Z9iZWEpKWGi2"
      },
      "source": [
        "### Write a for loop which can load all the training images into a variable 'batch_images' using the paths from the 'paths' variable\n",
        "<u>Note:</u> Convert the image to RGB scale as the MobileNet accepts 3 channels as inputs   "
      ]
    },
    {
      "cell_type": "code",
      "metadata": {
        "colab_type": "code",
        "id": "h6e99qquWGi3",
        "colab": {}
      },
      "source": [
        "batch_images = np.zeros((len(paths), IMAGE_SIZE, IMAGE_SIZE, 3), dtype=np.float32)\n",
        "for i, f in enumerate(paths):\n",
        "    img = Image.open(f) # Read image\n",
        "    img = img.resize((IMAGE_SIZE, IMAGE_SIZE)) # Resize image\n",
        "    img = img.convert('RGB')\n",
        "    batch_images[i] = preprocess_input(np.array(img, dtype=np.float32))"
      ],
      "execution_count": 0,
      "outputs": []
    },
    {
      "cell_type": "markdown",
      "metadata": {
        "colab_type": "text",
        "id": "C9KU6pUTWGi9"
      },
      "source": [
        "### Import MobileNet and load MobileNet into a variable named 'model' which takes input shape of 128 * 128 * 3. Freeze all the layers. Add convolution and reshape layers at the end to ensure the output is 4 coordinates"
      ]
    },
    {
      "cell_type": "code",
      "metadata": {
        "colab_type": "code",
        "id": "nosEtf1lWGi-",
        "colab": {}
      },
      "source": [
        "model = MobileNet(input_shape=(IMAGE_SIZE, IMAGE_SIZE, 3), include_top=False) # Load pre-trained mobilenet\n",
        "# Do not include classification (top) layer\n",
        "\n",
        "# to freeze layers, except the new top layer, of course, which will be added below\n",
        "for layer in model.layers:\n",
        "    layer.trainable = False\n",
        "\n",
        "# Add new top layer which is a conv layer of the same size as the previous layer so that only 4 coords of BBox can be output\n",
        "x = model.layers[-1].output\n",
        "x = Conv2D(4, kernel_size=4, name=\"coords\")(x)\n",
        "# In the line above kernel size should be 3 for img size 96, 4 for img size 128, 5 for img size 160 etc.\n",
        "x = Reshape((4,))(x) # These are the 4 predicted coordinates of one BBox\n",
        "\n",
        "model = Model(inputs=model.input, outputs=x)"
      ],
      "execution_count": 0,
      "outputs": []
    },
    {
      "cell_type": "markdown",
      "metadata": {
        "colab_type": "text",
        "id": "nsQSHWgpWGjC"
      },
      "source": [
        "### Define a custom loss function IoU which calculates Intersection Over Union"
      ]
    },
    {
      "cell_type": "code",
      "metadata": {
        "colab_type": "code",
        "id": "7Ig_Gsn-WGjD",
        "colab": {}
      },
      "source": [
        "def loss(gt,pred):\n",
        "    intersections = 0\n",
        "    unions = 0\n",
        "    diff_width = np.minimum(gt[:,0] + gt[:,2], pred[:,0] + pred[:,2]) - np.maximum(gt[:,0], pred[:,0])\n",
        "    diff_height = np.minimum(gt[:,1] + gt[:,3], pred[:,1] + pred[:,3]) - np.maximum(gt[:,1], pred[:,1])\n",
        "    intersection = diff_width * diff_height\n",
        "    \n",
        "    # Compute union\n",
        "    area_gt = gt[:,2] * gt[:,3]\n",
        "    area_pred = pred[:,2] * pred[:,3]\n",
        "    union = area_gt + area_pred - intersection\n",
        "\n",
        "#     Compute intersection and union over multiple boxes\n",
        "    for j, _ in enumerate(union):\n",
        "        if union[j] > 0 and intersection[j] > 0 and union[j] >= intersection[j]:\n",
        "            intersections += intersection[j]\n",
        "            unions += union[j]\n",
        "\n",
        "    # Compute IOU. Use epsilon to prevent division by zero\n",
        "    iou = np.round(intersections / (unions + epsilon()), 4)\n",
        "    iou = iou.astype(np.float32)\n",
        "    return iou\n",
        "\n",
        "def IoU(y_true, y_pred):\n",
        "    iou = tf.py_func(loss, [y_true, y_pred], tf.float32)\n",
        "    return iou"
      ],
      "execution_count": 0,
      "outputs": []
    },
    {
      "cell_type": "code",
      "metadata": {
        "colab_type": "code",
        "id": "f35dLEJlWGjG",
        "colab": {
          "base_uri": "https://localhost:8080/",
          "height": 1000
        },
        "outputId": "28f4bf56-d03b-4e64-bd30-2a5918582268"
      },
      "source": [
        "model.summary()"
      ],
      "execution_count": 62,
      "outputs": [
        {
          "output_type": "stream",
          "text": [
            "Model: \"model_2\"\n",
            "_________________________________________________________________\n",
            "Layer (type)                 Output Shape              Param #   \n",
            "=================================================================\n",
            "input_2 (InputLayer)         (None, 128, 128, 3)       0         \n",
            "_________________________________________________________________\n",
            "conv1_pad (ZeroPadding2D)    (None, 129, 129, 3)       0         \n",
            "_________________________________________________________________\n",
            "conv1 (Conv2D)               (None, 64, 64, 32)        864       \n",
            "_________________________________________________________________\n",
            "conv1_bn (BatchNormalization (None, 64, 64, 32)        128       \n",
            "_________________________________________________________________\n",
            "conv1_relu (ReLU)            (None, 64, 64, 32)        0         \n",
            "_________________________________________________________________\n",
            "conv_dw_1 (DepthwiseConv2D)  (None, 64, 64, 32)        288       \n",
            "_________________________________________________________________\n",
            "conv_dw_1_bn (BatchNormaliza (None, 64, 64, 32)        128       \n",
            "_________________________________________________________________\n",
            "conv_dw_1_relu (ReLU)        (None, 64, 64, 32)        0         \n",
            "_________________________________________________________________\n",
            "conv_pw_1 (Conv2D)           (None, 64, 64, 64)        2048      \n",
            "_________________________________________________________________\n",
            "conv_pw_1_bn (BatchNormaliza (None, 64, 64, 64)        256       \n",
            "_________________________________________________________________\n",
            "conv_pw_1_relu (ReLU)        (None, 64, 64, 64)        0         \n",
            "_________________________________________________________________\n",
            "conv_pad_2 (ZeroPadding2D)   (None, 65, 65, 64)        0         \n",
            "_________________________________________________________________\n",
            "conv_dw_2 (DepthwiseConv2D)  (None, 32, 32, 64)        576       \n",
            "_________________________________________________________________\n",
            "conv_dw_2_bn (BatchNormaliza (None, 32, 32, 64)        256       \n",
            "_________________________________________________________________\n",
            "conv_dw_2_relu (ReLU)        (None, 32, 32, 64)        0         \n",
            "_________________________________________________________________\n",
            "conv_pw_2 (Conv2D)           (None, 32, 32, 128)       8192      \n",
            "_________________________________________________________________\n",
            "conv_pw_2_bn (BatchNormaliza (None, 32, 32, 128)       512       \n",
            "_________________________________________________________________\n",
            "conv_pw_2_relu (ReLU)        (None, 32, 32, 128)       0         \n",
            "_________________________________________________________________\n",
            "conv_dw_3 (DepthwiseConv2D)  (None, 32, 32, 128)       1152      \n",
            "_________________________________________________________________\n",
            "conv_dw_3_bn (BatchNormaliza (None, 32, 32, 128)       512       \n",
            "_________________________________________________________________\n",
            "conv_dw_3_relu (ReLU)        (None, 32, 32, 128)       0         \n",
            "_________________________________________________________________\n",
            "conv_pw_3 (Conv2D)           (None, 32, 32, 128)       16384     \n",
            "_________________________________________________________________\n",
            "conv_pw_3_bn (BatchNormaliza (None, 32, 32, 128)       512       \n",
            "_________________________________________________________________\n",
            "conv_pw_3_relu (ReLU)        (None, 32, 32, 128)       0         \n",
            "_________________________________________________________________\n",
            "conv_pad_4 (ZeroPadding2D)   (None, 33, 33, 128)       0         \n",
            "_________________________________________________________________\n",
            "conv_dw_4 (DepthwiseConv2D)  (None, 16, 16, 128)       1152      \n",
            "_________________________________________________________________\n",
            "conv_dw_4_bn (BatchNormaliza (None, 16, 16, 128)       512       \n",
            "_________________________________________________________________\n",
            "conv_dw_4_relu (ReLU)        (None, 16, 16, 128)       0         \n",
            "_________________________________________________________________\n",
            "conv_pw_4 (Conv2D)           (None, 16, 16, 256)       32768     \n",
            "_________________________________________________________________\n",
            "conv_pw_4_bn (BatchNormaliza (None, 16, 16, 256)       1024      \n",
            "_________________________________________________________________\n",
            "conv_pw_4_relu (ReLU)        (None, 16, 16, 256)       0         \n",
            "_________________________________________________________________\n",
            "conv_dw_5 (DepthwiseConv2D)  (None, 16, 16, 256)       2304      \n",
            "_________________________________________________________________\n",
            "conv_dw_5_bn (BatchNormaliza (None, 16, 16, 256)       1024      \n",
            "_________________________________________________________________\n",
            "conv_dw_5_relu (ReLU)        (None, 16, 16, 256)       0         \n",
            "_________________________________________________________________\n",
            "conv_pw_5 (Conv2D)           (None, 16, 16, 256)       65536     \n",
            "_________________________________________________________________\n",
            "conv_pw_5_bn (BatchNormaliza (None, 16, 16, 256)       1024      \n",
            "_________________________________________________________________\n",
            "conv_pw_5_relu (ReLU)        (None, 16, 16, 256)       0         \n",
            "_________________________________________________________________\n",
            "conv_pad_6 (ZeroPadding2D)   (None, 17, 17, 256)       0         \n",
            "_________________________________________________________________\n",
            "conv_dw_6 (DepthwiseConv2D)  (None, 8, 8, 256)         2304      \n",
            "_________________________________________________________________\n",
            "conv_dw_6_bn (BatchNormaliza (None, 8, 8, 256)         1024      \n",
            "_________________________________________________________________\n",
            "conv_dw_6_relu (ReLU)        (None, 8, 8, 256)         0         \n",
            "_________________________________________________________________\n",
            "conv_pw_6 (Conv2D)           (None, 8, 8, 512)         131072    \n",
            "_________________________________________________________________\n",
            "conv_pw_6_bn (BatchNormaliza (None, 8, 8, 512)         2048      \n",
            "_________________________________________________________________\n",
            "conv_pw_6_relu (ReLU)        (None, 8, 8, 512)         0         \n",
            "_________________________________________________________________\n",
            "conv_dw_7 (DepthwiseConv2D)  (None, 8, 8, 512)         4608      \n",
            "_________________________________________________________________\n",
            "conv_dw_7_bn (BatchNormaliza (None, 8, 8, 512)         2048      \n",
            "_________________________________________________________________\n",
            "conv_dw_7_relu (ReLU)        (None, 8, 8, 512)         0         \n",
            "_________________________________________________________________\n",
            "conv_pw_7 (Conv2D)           (None, 8, 8, 512)         262144    \n",
            "_________________________________________________________________\n",
            "conv_pw_7_bn (BatchNormaliza (None, 8, 8, 512)         2048      \n",
            "_________________________________________________________________\n",
            "conv_pw_7_relu (ReLU)        (None, 8, 8, 512)         0         \n",
            "_________________________________________________________________\n",
            "conv_dw_8 (DepthwiseConv2D)  (None, 8, 8, 512)         4608      \n",
            "_________________________________________________________________\n",
            "conv_dw_8_bn (BatchNormaliza (None, 8, 8, 512)         2048      \n",
            "_________________________________________________________________\n",
            "conv_dw_8_relu (ReLU)        (None, 8, 8, 512)         0         \n",
            "_________________________________________________________________\n",
            "conv_pw_8 (Conv2D)           (None, 8, 8, 512)         262144    \n",
            "_________________________________________________________________\n",
            "conv_pw_8_bn (BatchNormaliza (None, 8, 8, 512)         2048      \n",
            "_________________________________________________________________\n",
            "conv_pw_8_relu (ReLU)        (None, 8, 8, 512)         0         \n",
            "_________________________________________________________________\n",
            "conv_dw_9 (DepthwiseConv2D)  (None, 8, 8, 512)         4608      \n",
            "_________________________________________________________________\n",
            "conv_dw_9_bn (BatchNormaliza (None, 8, 8, 512)         2048      \n",
            "_________________________________________________________________\n",
            "conv_dw_9_relu (ReLU)        (None, 8, 8, 512)         0         \n",
            "_________________________________________________________________\n",
            "conv_pw_9 (Conv2D)           (None, 8, 8, 512)         262144    \n",
            "_________________________________________________________________\n",
            "conv_pw_9_bn (BatchNormaliza (None, 8, 8, 512)         2048      \n",
            "_________________________________________________________________\n",
            "conv_pw_9_relu (ReLU)        (None, 8, 8, 512)         0         \n",
            "_________________________________________________________________\n",
            "conv_dw_10 (DepthwiseConv2D) (None, 8, 8, 512)         4608      \n",
            "_________________________________________________________________\n",
            "conv_dw_10_bn (BatchNormaliz (None, 8, 8, 512)         2048      \n",
            "_________________________________________________________________\n",
            "conv_dw_10_relu (ReLU)       (None, 8, 8, 512)         0         \n",
            "_________________________________________________________________\n",
            "conv_pw_10 (Conv2D)          (None, 8, 8, 512)         262144    \n",
            "_________________________________________________________________\n",
            "conv_pw_10_bn (BatchNormaliz (None, 8, 8, 512)         2048      \n",
            "_________________________________________________________________\n",
            "conv_pw_10_relu (ReLU)       (None, 8, 8, 512)         0         \n",
            "_________________________________________________________________\n",
            "conv_dw_11 (DepthwiseConv2D) (None, 8, 8, 512)         4608      \n",
            "_________________________________________________________________\n",
            "conv_dw_11_bn (BatchNormaliz (None, 8, 8, 512)         2048      \n",
            "_________________________________________________________________\n",
            "conv_dw_11_relu (ReLU)       (None, 8, 8, 512)         0         \n",
            "_________________________________________________________________\n",
            "conv_pw_11 (Conv2D)          (None, 8, 8, 512)         262144    \n",
            "_________________________________________________________________\n",
            "conv_pw_11_bn (BatchNormaliz (None, 8, 8, 512)         2048      \n",
            "_________________________________________________________________\n",
            "conv_pw_11_relu (ReLU)       (None, 8, 8, 512)         0         \n",
            "_________________________________________________________________\n",
            "conv_pad_12 (ZeroPadding2D)  (None, 9, 9, 512)         0         \n",
            "_________________________________________________________________\n",
            "conv_dw_12 (DepthwiseConv2D) (None, 4, 4, 512)         4608      \n",
            "_________________________________________________________________\n",
            "conv_dw_12_bn (BatchNormaliz (None, 4, 4, 512)         2048      \n",
            "_________________________________________________________________\n",
            "conv_dw_12_relu (ReLU)       (None, 4, 4, 512)         0         \n",
            "_________________________________________________________________\n",
            "conv_pw_12 (Conv2D)          (None, 4, 4, 1024)        524288    \n",
            "_________________________________________________________________\n",
            "conv_pw_12_bn (BatchNormaliz (None, 4, 4, 1024)        4096      \n",
            "_________________________________________________________________\n",
            "conv_pw_12_relu (ReLU)       (None, 4, 4, 1024)        0         \n",
            "_________________________________________________________________\n",
            "conv_dw_13 (DepthwiseConv2D) (None, 4, 4, 1024)        9216      \n",
            "_________________________________________________________________\n",
            "conv_dw_13_bn (BatchNormaliz (None, 4, 4, 1024)        4096      \n",
            "_________________________________________________________________\n",
            "conv_dw_13_relu (ReLU)       (None, 4, 4, 1024)        0         \n",
            "_________________________________________________________________\n",
            "conv_pw_13 (Conv2D)          (None, 4, 4, 1024)        1048576   \n",
            "_________________________________________________________________\n",
            "conv_pw_13_bn (BatchNormaliz (None, 4, 4, 1024)        4096      \n",
            "_________________________________________________________________\n",
            "conv_pw_13_relu (ReLU)       (None, 4, 4, 1024)        0         \n",
            "_________________________________________________________________\n",
            "coords (Conv2D)              (None, 1, 1, 4)           65540     \n",
            "_________________________________________________________________\n",
            "reshape_2 (Reshape)          (None, 4)                 0         \n",
            "=================================================================\n",
            "Total params: 3,294,404\n",
            "Trainable params: 65,540\n",
            "Non-trainable params: 3,228,864\n",
            "_________________________________________________________________\n"
          ],
          "name": "stdout"
        }
      ]
    },
    {
      "cell_type": "markdown",
      "metadata": {
        "colab_type": "text",
        "id": "2Zs7VcSVWGjF"
      },
      "source": [
        "### Write model.compile function & model.fit function with: <br>\n",
        "1. Optimizer = Adam, Loss = 'mse' and metrics = IoU\n",
        "2. Epochs = 30, batch_size = 32, verbose = 1"
      ]
    },
    {
      "cell_type": "code",
      "metadata": {
        "id": "A6kd1h63YHl5",
        "colab_type": "code",
        "colab": {
          "base_uri": "https://localhost:8080/",
          "height": 34
        },
        "outputId": "01969101-48fb-4e8f-d9eb-171a87d66d6f"
      },
      "source": [
        "len(coords)"
      ],
      "execution_count": 51,
      "outputs": [
        {
          "output_type": "execute_result",
          "data": {
            "text/plain": [
              "174"
            ]
          },
          "metadata": {
            "tags": []
          },
          "execution_count": 51
        }
      ]
    },
    {
      "cell_type": "code",
      "metadata": {
        "id": "qsLM4FN4W1Sm",
        "colab_type": "code",
        "colab": {
          "base_uri": "https://localhost:8080/",
          "height": 1000
        },
        "outputId": "e48531ad-8c7f-4e8e-846b-ebcfb7711df0"
      },
      "source": [
        "EPOCHS = 30 # Number of epochs. I got decent performance with just 5.\n",
        "BATCH_SIZE = 32 # Depends on your GPU or CPU RAM.\n",
        "ground_truth = coords\n",
        "model.compile(optimizer='Adam', loss='mse', metrics=[IoU]) # Regression loss is MSE\n",
        "\n",
        "#checkpoint = ModelCheckpoint(\"model-{val_iou:.2f}.h5\", verbose=1, save_best_only=True,\n",
        "#                              save_weights_only=True, mode=\"max\", period=1) # Checkpoint best validation model\n",
        "#stop = EarlyStopping(monitor=\"val_iou\", patience=PATIENCE, mode=\"max\") # Stop early, if the validation error deteriorates\n",
        "#reduce_lr = ReduceLROnPlateau(monitor=\"val_iou\", factor=0.2, patience=10, min_lr=1e-7, verbose=1, mode=\"max\")\n",
        "# Reduce learning rate if Validation IOU does not improve\n",
        "\n",
        "model.fit(batch_images,ground_truth,\n",
        "            epochs=EPOCHS,batch_size = BATCH_SIZE,\n",
        "            verbose=1)"
      ],
      "execution_count": 63,
      "outputs": [
        {
          "output_type": "stream",
          "text": [
            "WARNING:tensorflow:From /usr/local/lib/python3.6/dist-packages/keras/backend/tensorflow_backend.py:1033: The name tf.assign_add is deprecated. Please use tf.compat.v1.assign_add instead.\n",
            "\n",
            "WARNING:tensorflow:From /usr/local/lib/python3.6/dist-packages/keras/backend/tensorflow_backend.py:1020: The name tf.assign is deprecated. Please use tf.compat.v1.assign instead.\n",
            "\n",
            "Epoch 1/30\n",
            "173/173 [==============================] - 6s 33ms/step - loss: 2887.0585 - IoU: 0.0774\n",
            "Epoch 2/30\n",
            "173/173 [==============================] - 5s 26ms/step - loss: 699.2910 - IoU: 0.4297\n",
            "Epoch 3/30\n",
            "173/173 [==============================] - 5s 27ms/step - loss: 652.4600 - IoU: 0.5381\n",
            "Epoch 4/30\n",
            "173/173 [==============================] - 5s 27ms/step - loss: 586.4492 - IoU: 0.5254\n",
            "Epoch 5/30\n",
            "173/173 [==============================] - 5s 28ms/step - loss: 343.5283 - IoU: 0.5862\n",
            "Epoch 6/30\n",
            "173/173 [==============================] - 5s 27ms/step - loss: 274.0325 - IoU: 0.5791\n",
            "Epoch 7/30\n",
            "173/173 [==============================] - 5s 27ms/step - loss: 241.8863 - IoU: 0.6143\n",
            "Epoch 8/30\n",
            "173/173 [==============================] - 5s 27ms/step - loss: 199.9005 - IoU: 0.6554\n",
            "Epoch 9/30\n",
            "173/173 [==============================] - 5s 27ms/step - loss: 165.8996 - IoU: 0.7029\n",
            "Epoch 10/30\n",
            "173/173 [==============================] - 5s 27ms/step - loss: 156.4762 - IoU: 0.7159\n",
            "Epoch 11/30\n",
            "173/173 [==============================] - 5s 27ms/step - loss: 146.9060 - IoU: 0.7208\n",
            "Epoch 12/30\n",
            "173/173 [==============================] - 5s 27ms/step - loss: 119.1781 - IoU: 0.7342\n",
            "Epoch 13/30\n",
            "173/173 [==============================] - 5s 27ms/step - loss: 113.4647 - IoU: 0.7321\n",
            "Epoch 14/30\n",
            "173/173 [==============================] - 5s 27ms/step - loss: 100.2294 - IoU: 0.7453\n",
            "Epoch 15/30\n",
            "173/173 [==============================] - 5s 27ms/step - loss: 93.0235 - IoU: 0.7731\n",
            "Epoch 16/30\n",
            "173/173 [==============================] - 5s 27ms/step - loss: 89.4955 - IoU: 0.7780\n",
            "Epoch 17/30\n",
            "173/173 [==============================] - 5s 27ms/step - loss: 82.8049 - IoU: 0.7824\n",
            "Epoch 18/30\n",
            "173/173 [==============================] - 5s 27ms/step - loss: 81.1191 - IoU: 0.7942\n",
            "Epoch 19/30\n",
            "173/173 [==============================] - 5s 27ms/step - loss: 78.1954 - IoU: 0.7929\n",
            "Epoch 20/30\n",
            "173/173 [==============================] - 5s 27ms/step - loss: 70.5219 - IoU: 0.8061\n",
            "Epoch 21/30\n",
            "173/173 [==============================] - 5s 27ms/step - loss: 67.6122 - IoU: 0.8128\n",
            "Epoch 22/30\n",
            "173/173 [==============================] - 5s 27ms/step - loss: 68.0727 - IoU: 0.8158\n",
            "Epoch 23/30\n",
            "173/173 [==============================] - 5s 27ms/step - loss: 67.7651 - IoU: 0.8114\n",
            "Epoch 24/30\n",
            "173/173 [==============================] - 5s 27ms/step - loss: 66.3373 - IoU: 0.8090\n",
            "Epoch 25/30\n",
            "173/173 [==============================] - 5s 27ms/step - loss: 66.5067 - IoU: 0.8176\n",
            "Epoch 26/30\n",
            "173/173 [==============================] - 5s 27ms/step - loss: 61.7543 - IoU: 0.8223\n",
            "Epoch 27/30\n",
            "173/173 [==============================] - 5s 26ms/step - loss: 61.7269 - IoU: 0.8313\n",
            "Epoch 28/30\n",
            "173/173 [==============================] - 5s 27ms/step - loss: 59.2167 - IoU: 0.8316\n",
            "Epoch 29/30\n",
            "173/173 [==============================] - 5s 27ms/step - loss: 60.2528 - IoU: 0.8427\n",
            "Epoch 30/30\n",
            "173/173 [==============================] - 5s 27ms/step - loss: 58.2374 - IoU: 0.8436\n"
          ],
          "name": "stdout"
        },
        {
          "output_type": "execute_result",
          "data": {
            "text/plain": [
              "<keras.callbacks.History at 0x7f3aa7334198>"
            ]
          },
          "metadata": {
            "tags": []
          },
          "execution_count": 63
        }
      ]
    },
    {
      "cell_type": "markdown",
      "metadata": {
        "colab_type": "text",
        "id": "II1itmqiWGjK"
      },
      "source": [
        "### Pick a test image from the given data"
      ]
    },
    {
      "cell_type": "code",
      "metadata": {
        "colab_type": "code",
        "id": "0ULErYeSWGjK",
        "colab": {}
      },
      "source": [
        "import cv2\n",
        "filename = './images/raccoon-16.jpg'\n",
        "unscaled = cv2.imread(filename) # Original image for display"
      ],
      "execution_count": 0,
      "outputs": []
    },
    {
      "cell_type": "markdown",
      "metadata": {
        "colab_type": "text",
        "id": "h99SC9MjWGjO"
      },
      "source": [
        "### Resize the image to 128 * 128 and preprocess the image for the MobileNet model"
      ]
    },
    {
      "cell_type": "code",
      "metadata": {
        "colab_type": "code",
        "id": "J3jbKm7_WGjP",
        "colab": {}
      },
      "source": [
        "image_height, image_width, _ = unscaled.shape\n",
        "image = cv2.resize(unscaled, (IMAGE_SIZE, IMAGE_SIZE)) # Rescaled image to run the network\n",
        "feat_scaled = preprocess_input(np.array(image, dtype=np.float32))"
      ],
      "execution_count": 0,
      "outputs": []
    },
    {
      "cell_type": "markdown",
      "metadata": {
        "colab_type": "text",
        "id": "aGK4IjdaWGjR"
      },
      "source": [
        "### Predict the coordinates of the bounding box for the given test image"
      ]
    },
    {
      "cell_type": "code",
      "metadata": {
        "colab_type": "code",
        "id": "abnXH5F7WGjS",
        "colab": {
          "base_uri": "https://localhost:8080/",
          "height": 34
        },
        "outputId": "4cf48c02-0ea8-4608-8dd0-70f06c4ffca4"
      },
      "source": [
        "region = model.predict(x=np.array([feat_scaled]))[0] \n",
        "print(region)"
      ],
      "execution_count": 70,
      "outputs": [
        {
          "output_type": "stream",
          "text": [
            "[ 30.74896   29.288248  85.985504 107.34286 ]\n"
          ],
          "name": "stdout"
        }
      ]
    },
    {
      "cell_type": "markdown",
      "metadata": {
        "colab_type": "text",
        "id": "CXbjVdLWWGjW"
      },
      "source": [
        "### Plot the test image using .imshow and draw a boundary box around the image with the coordinates obtained from the model"
      ]
    },
    {
      "cell_type": "code",
      "metadata": {
        "colab_type": "code",
        "id": "t4Ah05MlWGjY",
        "colab": {
          "base_uri": "https://localhost:8080/",
          "height": 269
        },
        "outputId": "85aa6c30-485d-472a-9783-c4b990ca5e15"
      },
      "source": [
        "x0 = int(region[0] * image_width / IMAGE_SIZE) # Scale the BBox\n",
        "y0 = int(region[1] * image_height / IMAGE_SIZE)\n",
        "\n",
        "x1 = int((region[2]) * image_width / IMAGE_SIZE)\n",
        "y1 = int((region[3]) * image_height / IMAGE_SIZE)\n",
        "\n",
        "\n",
        "import matplotlib.pyplot as plt\n",
        "import matplotlib.patches as patches\n",
        "from PIL import Image\n",
        "import numpy as np\n",
        "\n",
        "\n",
        "# Create figure and axes\n",
        "fig,ax = plt.subplots(1)\n",
        "\n",
        "# Display the image\n",
        "ax.imshow(unscaled)\n",
        "\n",
        "# Create a Rectangle patch\n",
        "rect = patches.Rectangle((x0, y0), (x1 - x0) , (y1 - y0) , linewidth=2, edgecolor='r', facecolor='none')\n",
        "\n",
        "# Add the patch to the Axes\n",
        "ax.add_patch(rect)\n",
        "\n",
        "plt.show()"
      ],
      "execution_count": 71,
      "outputs": [
        {
          "output_type": "display_data",
          "data": {
            "image/png": "[encoded data removed]",
            "text/plain": [
              "<Figure size 432x288 with 1 Axes>"
            ]
          },
          "metadata": {
            "tags": []
          }
        }
      ]
    },
    {
      "cell_type": "markdown",
      "metadata": {
        "id": "70uye82rMg3S",
        "colab_type": "text"
      },
      "source": [
        "# Time Series Prediction using LSTM"
      ]
    },
    {
      "cell_type": "markdown",
      "metadata": {
        "id": "CBdggSYjMg3U",
        "colab_type": "text"
      },
      "source": [
        "### Download Data\n",
        "Link: https://datamarket.com/data/set/2324/daily-minimum-temperatures-in-melbourne-australia-1981-1990#!ds=2324&display=line\n",
        "\n",
        "#### Description\n",
        "Daily minimum temperatures in Melbourne, Australia, 1981-1990\n",
        "\n",
        "Units: Degrees Celcius\n",
        "\n",
        "#### Steps before loading\n",
        "- Rename the column name with temprature values to \"Temprature\"\n",
        "- In the last, there is one extra row in the data, remove it by opening the file and save it again.\n",
        "- There are some values in Temprature column which have a \"?\" before them, they will give error, remove \"?\" before them and save the file\n",
        "- If you don't want to do these steps, just load the data file given by Great Learning."
      ]
    },
    {
      "cell_type": "markdown",
      "metadata": {
        "id": "xXaEyK4qMg3W",
        "colab_type": "text"
      },
      "source": [
        "#### Mount google drive"
      ]
    },
    {
      "cell_type": "code",
      "metadata": {
        "colab_type": "code",
        "id": "VjoLRSg57qlt",
        "colab": {}
      },
      "source": [
        ""
      ],
      "execution_count": 0,
      "outputs": []
    },
    {
      "cell_type": "markdown",
      "metadata": {
        "id": "BghKtCKlMg3b",
        "colab_type": "text"
      },
      "source": [
        "#### Change your present working directory"
      ]
    },
    {
      "cell_type": "code",
      "metadata": {
        "id": "JOYCPgwJMg3c",
        "colab_type": "code",
        "colab": {}
      },
      "source": [
        ""
      ],
      "execution_count": 0,
      "outputs": []
    },
    {
      "cell_type": "markdown",
      "metadata": {
        "id": "UMP39JKEMg3f",
        "colab_type": "text"
      },
      "source": [
        "### Load your data file"
      ]
    },
    {
      "cell_type": "code",
      "metadata": {
        "colab_type": "code",
        "id": "AanHqGBu7Jw2",
        "colab": {
          "base_uri": "https://localhost:8080/",
          "height": 195
        },
        "outputId": "309d33bf-7058-4bc9-a20c-fba60969f1da"
      },
      "source": [
        "import pandas as pd\n",
        "df = pd.read_csv('/content/drive/My Drive/greatlakes/Residency9/InternalLab/daily-minimum-temperatures-in-me.csv')\n",
        "df.sort_index(inplace=True)\n",
        "df.head()"
      ],
      "execution_count": 73,
      "outputs": [
        {
          "output_type": "execute_result",
          "data": {
            "text/html": [
              "<div>\n",
              "<style scoped>\n",
              "    .dataframe tbody tr th:only-of-type {\n",
              "        vertical-align: middle;\n",
              "    }\n",
              "\n",
              "    .dataframe tbody tr th {\n",
              "        vertical-align: top;\n",
              "    }\n",
              "\n",
              "    .dataframe thead th {\n",
              "        text-align: right;\n",
              "    }\n",
              "</style>\n",
              "<table border=\"1\" class=\"dataframe\">\n",
              "  <thead>\n",
              "    <tr style=\"text-align: right;\">\n",
              "      <th></th>\n",
              "      <th>Date</th>\n",
              "      <th>Temperature</th>\n",
              "    </tr>\n",
              "  </thead>\n",
              "  <tbody>\n",
              "    <tr>\n",
              "      <th>0</th>\n",
              "      <td>1981-01-01</td>\n",
              "      <td>20.7</td>\n",
              "    </tr>\n",
              "    <tr>\n",
              "      <th>1</th>\n",
              "      <td>1981-01-02</td>\n",
              "      <td>17.9</td>\n",
              "    </tr>\n",
              "    <tr>\n",
              "      <th>2</th>\n",
              "      <td>1981-01-03</td>\n",
              "      <td>18.8</td>\n",
              "    </tr>\n",
              "    <tr>\n",
              "      <th>3</th>\n",
              "      <td>1981-01-04</td>\n",
              "      <td>14.6</td>\n",
              "    </tr>\n",
              "    <tr>\n",
              "      <th>4</th>\n",
              "      <td>1981-01-05</td>\n",
              "      <td>15.8</td>\n",
              "    </tr>\n",
              "  </tbody>\n",
              "</table>\n",
              "</div>"
            ],
            "text/plain": [
              "         Date  Temperature\n",
              "0  1981-01-01         20.7\n",
              "1  1981-01-02         17.9\n",
              "2  1981-01-03         18.8\n",
              "3  1981-01-04         14.6\n",
              "4  1981-01-05         15.8"
            ]
          },
          "metadata": {
            "tags": []
          },
          "execution_count": 73
        }
      ]
    },
    {
      "cell_type": "markdown",
      "metadata": {
        "id": "EAfx3bsQMg3j",
        "colab_type": "text"
      },
      "source": [
        "#### Plot data"
      ]
    },
    {
      "cell_type": "code",
      "metadata": {
        "id": "REU4UapqMg3k",
        "colab_type": "code",
        "colab": {
          "base_uri": "https://localhost:8080/",
          "height": 282
        },
        "outputId": "3c2e7221-704f-49e9-f960-de2e607730a8"
      },
      "source": [
        "df.plot()"
      ],
      "execution_count": 74,
      "outputs": [
        {
          "output_type": "execute_result",
          "data": {
            "text/plain": [
              "<matplotlib.axes._subplots.AxesSubplot at 0x7f3a9c61b128>"
            ]
          },
          "metadata": {
            "tags": []
          },
          "execution_count": 74
        },
        {
          "output_type": "display_data",
          "data": {
            "image/png": "[encoded data removed]",
            "text/plain": [
              "<Figure size 432x288 with 1 Axes>"
            ]
          },
          "metadata": {
            "tags": []
          }
        }
      ]
    },
    {
      "cell_type": "markdown",
      "metadata": {
        "id": "LWGBEOdNMg3n",
        "colab_type": "text"
      },
      "source": [
        "#### Descibe your dataframe"
      ]
    },
    {
      "cell_type": "code",
      "metadata": {
        "colab_type": "code",
        "id": "oBWNA_kG7JxC",
        "colab": {
          "base_uri": "https://localhost:8080/",
          "height": 77
        },
        "outputId": "c64af43e-23f8-472c-e76e-f3589e2d96c7"
      },
      "source": [
        "df.describe().T"
      ],
      "execution_count": 76,
      "outputs": [
        {
          "output_type": "execute_result",
          "data": {
            "text/html": [
              "<div>\n",
              "<style scoped>\n",
              "    .dataframe tbody tr th:only-of-type {\n",
              "        vertical-align: middle;\n",
              "    }\n",
              "\n",
              "    .dataframe tbody tr th {\n",
              "        vertical-align: top;\n",
              "    }\n",
              "\n",
              "    .dataframe thead th {\n",
              "        text-align: right;\n",
              "    }\n",
              "</style>\n",
              "<table border=\"1\" class=\"dataframe\">\n",
              "  <thead>\n",
              "    <tr style=\"text-align: right;\">\n",
              "      <th></th>\n",
              "      <th>count</th>\n",
              "      <th>mean</th>\n",
              "      <th>std</th>\n",
              "      <th>min</th>\n",
              "      <th>25%</th>\n",
              "      <th>50%</th>\n",
              "      <th>75%</th>\n",
              "      <th>max</th>\n",
              "    </tr>\n",
              "  </thead>\n",
              "  <tbody>\n",
              "    <tr>\n",
              "      <th>Temperature</th>\n",
              "      <td>3650.0</td>\n",
              "      <td>11.177753</td>\n",
              "      <td>4.071837</td>\n",
              "      <td>0.0</td>\n",
              "      <td>8.3</td>\n",
              "      <td>11.0</td>\n",
              "      <td>14.0</td>\n",
              "      <td>26.3</td>\n",
              "    </tr>\n",
              "  </tbody>\n",
              "</table>\n",
              "</div>"
            ],
            "text/plain": [
              "              count       mean       std  min  25%   50%   75%   max\n",
              "Temperature  3650.0  11.177753  4.071837  0.0  8.3  11.0  14.0  26.3"
            ]
          },
          "metadata": {
            "tags": []
          },
          "execution_count": 76
        }
      ]
    },
    {
      "cell_type": "markdown",
      "metadata": {
        "id": "HlPYgFPLMg3r",
        "colab_type": "text"
      },
      "source": [
        "#### Check for null values"
      ]
    },
    {
      "cell_type": "code",
      "metadata": {
        "colab_type": "code",
        "id": "97MVIy_N7JxH",
        "colab": {
          "base_uri": "https://localhost:8080/",
          "height": 67
        },
        "outputId": "330385bb-dfad-43f4-984c-35c4cf1a76fc"
      },
      "source": [
        "df.isnull().sum()"
      ],
      "execution_count": 77,
      "outputs": [
        {
          "output_type": "execute_result",
          "data": {
            "text/plain": [
              "Date           0\n",
              "Temperature    0\n",
              "dtype: int64"
            ]
          },
          "metadata": {
            "tags": []
          },
          "execution_count": 77
        }
      ]
    },
    {
      "cell_type": "markdown",
      "metadata": {
        "id": "qo6HzStBMg3v",
        "colab_type": "text"
      },
      "source": [
        "#### Drop null values"
      ]
    },
    {
      "cell_type": "code",
      "metadata": {
        "colab_type": "code",
        "id": "fgh7mdOI7JxS",
        "colab": {}
      },
      "source": [
        ""
      ],
      "execution_count": 0,
      "outputs": []
    },
    {
      "cell_type": "markdown",
      "metadata": {
        "id": "LcJgcz37Mg30",
        "colab_type": "text"
      },
      "source": [
        "#### Get the representation of the distribution of data in the form of histogram"
      ]
    },
    {
      "cell_type": "code",
      "metadata": {
        "colab_type": "code",
        "id": "659sLAx27Jxc",
        "colab": {
          "base_uri": "https://localhost:8080/",
          "height": 314
        },
        "outputId": "56342835-34e7-4672-ddcb-af86f2f925df"
      },
      "source": [
        "df.hist()"
      ],
      "execution_count": 80,
      "outputs": [
        {
          "output_type": "execute_result",
          "data": {
            "text/plain": [
              "array([[<matplotlib.axes._subplots.AxesSubplot object at 0x7f3aa7cc5198>]],\n",
              "      dtype=object)"
            ]
          },
          "metadata": {
            "tags": []
          },
          "execution_count": 80
        },
        {
          "output_type": "display_data",
          "data": {
            "image/png": "[encoded data removed]",
            "text/plain": [
              "<Figure size 432x288 with 1 Axes>"
            ]
          },
          "metadata": {
            "tags": []
          }
        }
      ]
    },
    {
      "cell_type": "markdown",
      "metadata": {
        "id": "GpH88qtBMg34",
        "colab_type": "text"
      },
      "source": [
        "#### Check the maximum and minimum values"
      ]
    },
    {
      "cell_type": "code",
      "metadata": {
        "colab_type": "code",
        "id": "WmkjCx8c7Jxn",
        "colab": {
          "base_uri": "https://localhost:8080/",
          "height": 118
        },
        "outputId": "7d973e7d-6a68-4300-d7a1-302511b4e531"
      },
      "source": [
        "#Check Data Range\n",
        "print('Min', np.min(df))\n",
        "print('Max', np.max(df))"
      ],
      "execution_count": 79,
      "outputs": [
        {
          "output_type": "stream",
          "text": [
            "Min Date           1981-01-01\n",
            "Temperature             0\n",
            "dtype: object\n",
            "Max Date           1990-12-31\n",
            "Temperature          26.3\n",
            "dtype: object\n"
          ],
          "name": "stdout"
        }
      ]
    },
    {
      "cell_type": "markdown",
      "metadata": {
        "id": "AQVmR3ENMg37",
        "colab_type": "text"
      },
      "source": [
        "### Normalize the data"
      ]
    },
    {
      "cell_type": "code",
      "metadata": {
        "colab_type": "code",
        "id": "fb4SNzD27Jxw",
        "colab": {}
      },
      "source": [
        "df.drop(\"Date\", axis=1, inplace=True)\n",
        "from sklearn.preprocessing import MinMaxScaler\n",
        "#Normalize the data\n",
        "scaler = MinMaxScaler(feature_range=(0, 1))\n",
        "scaled = scaler.fit_transform(df)"
      ],
      "execution_count": 0,
      "outputs": []
    },
    {
      "cell_type": "markdown",
      "metadata": {
        "id": "Amc8j4P-Mg3-",
        "colab_type": "text"
      },
      "source": [
        "#### Check the maximum and minimum values of scaled data"
      ]
    },
    {
      "cell_type": "code",
      "metadata": {
        "colab_type": "code",
        "id": "clv2rSfL7Jx4",
        "colab": {
          "base_uri": "https://localhost:8080/",
          "height": 50
        },
        "outputId": "b4690f6c-4ae6-4352-e222-ad8a099550f2"
      },
      "source": [
        "#Check Data Range\n",
        "print('Min', np.min(scaled))\n",
        "print('Max', np.max(scaled))"
      ],
      "execution_count": 82,
      "outputs": [
        {
          "output_type": "stream",
          "text": [
            "Min 0.0\n",
            "Max 1.0\n"
          ],
          "name": "stdout"
        }
      ]
    },
    {
      "cell_type": "markdown",
      "metadata": {
        "id": "mPwfKLsbMg4B",
        "colab_type": "text"
      },
      "source": [
        "#### Look into some of the scaled values"
      ]
    },
    {
      "cell_type": "code",
      "metadata": {
        "colab_type": "code",
        "id": "Xq9CBinO7Jx9",
        "colab": {
          "base_uri": "https://localhost:8080/",
          "height": 185
        },
        "outputId": "6445e125-7090-4b51-cb8a-d0fa2674b371"
      },
      "source": [
        "scaled[:10]"
      ],
      "execution_count": 85,
      "outputs": [
        {
          "output_type": "execute_result",
          "data": {
            "text/plain": [
              "array([[0.78707224],\n",
              "       [0.68060837],\n",
              "       [0.7148289 ],\n",
              "       [0.55513308],\n",
              "       [0.60076046],\n",
              "       [0.60076046],\n",
              "       [0.60076046],\n",
              "       [0.66159696],\n",
              "       [0.82889734],\n",
              "       [0.76045627]])"
            ]
          },
          "metadata": {
            "tags": []
          },
          "execution_count": 85
        }
      ]
    },
    {
      "cell_type": "markdown",
      "metadata": {
        "id": "4i6aEeORMg4F",
        "colab_type": "text"
      },
      "source": [
        "### Split data into Training and Testing"
      ]
    },
    {
      "cell_type": "code",
      "metadata": {
        "colab_type": "code",
        "id": "-0Uh7lCO7JyD",
        "colab": {}
      },
      "source": [
        "#70% examples will used for training\n",
        "train_size = int(len(scaled) * 0.70)\n",
        "#30% will be used for Test\n",
        "test_size = len(scaled - train_size)\n",
        "\n",
        "#Split the data\n",
        "train, test = scaled[0:train_size, :], scaled[train_size: len(scaled), :]"
      ],
      "execution_count": 0,
      "outputs": []
    },
    {
      "cell_type": "markdown",
      "metadata": {
        "id": "MYxgFlAHMg4I",
        "colab_type": "text"
      },
      "source": [
        "#### Print train and test size"
      ]
    },
    {
      "cell_type": "code",
      "metadata": {
        "id": "T9pRem3FMg4J",
        "colab_type": "code",
        "colab": {
          "base_uri": "https://localhost:8080/",
          "height": 50
        },
        "outputId": "f6edbf84-8f7c-4223-9cd3-1021cb1ec299"
      },
      "source": [
        "print('train: {}\\ntest: {}'.format(len(train), len(test)))"
      ],
      "execution_count": 89,
      "outputs": [
        {
          "output_type": "stream",
          "text": [
            "train: 2555\n",
            "test: 1095\n"
          ],
          "name": "stdout"
        }
      ]
    },
    {
      "cell_type": "markdown",
      "metadata": {
        "id": "-UKovqKBMg4L",
        "colab_type": "text"
      },
      "source": [
        "## Create the sequential data\n",
        "Map the temprature at a particular time t to the temprature at time t+n, where n is any number you define.\n",
        "\n",
        "For example: to map tempratures of consecutive days, use t+1, i.e. loop_back = 1"
      ]
    },
    {
      "cell_type": "markdown",
      "metadata": {
        "id": "m7uoSqtKMg4M",
        "colab_type": "text"
      },
      "source": [
        "#### Define your function to create dataset"
      ]
    },
    {
      "cell_type": "code",
      "metadata": {
        "colab_type": "code",
        "id": "jWIvInPB7JyK",
        "colab": {}
      },
      "source": [
        "#window - how long the sequence will be\n",
        "def create_dataset(dataset, window=1):\n",
        "    \n",
        "    dataX, dataY = [], []\n",
        "    \n",
        "    for i in range(len(dataset)-window):\n",
        "        \n",
        "        a = dataset[i:(i+window), 0]        \n",
        "        dataX.append(a)\n",
        "        dataY.append(dataset[i + window, 0])\n",
        "    \n",
        "    return np.array(dataX), np.array(dataY)"
      ],
      "execution_count": 0,
      "outputs": []
    },
    {
      "cell_type": "markdown",
      "metadata": {
        "id": "WePfiYR6Mg4R",
        "colab_type": "text"
      },
      "source": [
        "#### Use function to get training and test set"
      ]
    },
    {
      "cell_type": "code",
      "metadata": {
        "colab_type": "code",
        "id": "uarOJcPk7JyQ",
        "scrolled": true,
        "colab": {}
      },
      "source": [
        "#Create Input and Output\n",
        "window_size = 1\n",
        "X_train, y_train = create_dataset(train, window_size)\n",
        "X_test, y_test = create_dataset(test, window_size)"
      ],
      "execution_count": 0,
      "outputs": []
    },
    {
      "cell_type": "markdown",
      "metadata": {
        "id": "w_vztTvsMg4X",
        "colab_type": "text"
      },
      "source": [
        "#### Transform the prepared train and test input data into the expected structure using numpy.reshape()"
      ]
    },
    {
      "cell_type": "code",
      "metadata": {
        "colab_type": "code",
        "id": "UJZ4VB4N7JyV",
        "colab": {
          "base_uri": "https://localhost:8080/",
          "height": 50
        },
        "outputId": "836c32bc-b94e-4468-cf7f-501fa53df022"
      },
      "source": [
        "#Make it 3 Dimensional Data - needed for LSTM\n",
        "X_train = np.reshape(X_train, (X_train.shape[0], X_train.shape[1], 1))\n",
        "X_test = np.reshape(X_test, (X_test.shape[0], X_test.shape[1], 1))\n",
        "print(X_train.shape)\n",
        "print(X_test.shape)"
      ],
      "execution_count": 92,
      "outputs": [
        {
          "output_type": "stream",
          "text": [
            "(2554, 1, 1)\n",
            "(1094, 1, 1)\n"
          ],
          "name": "stdout"
        }
      ]
    },
    {
      "cell_type": "markdown",
      "metadata": {
        "id": "2ApGy3FBMg4a",
        "colab_type": "text"
      },
      "source": [
        "## Define Model"
      ]
    },
    {
      "cell_type": "markdown",
      "metadata": {
        "id": "kx0ctZLiMg4b",
        "colab_type": "text"
      },
      "source": [
        "### Define sequntial model, add LSTM layer and compile the model"
      ]
    },
    {
      "cell_type": "code",
      "metadata": {
        "colab_type": "code",
        "id": "yRW-Txvt7Jya",
        "colab": {
          "base_uri": "https://localhost:8080/",
          "height": 87
        },
        "outputId": "add10d7e-1172-421d-f113-b8580435a37d"
      },
      "source": [
        "import tensorflow as tf\n",
        "tf.keras.backend.clear_session()\n",
        "model = tf.keras.Sequential()\n",
        "model.add(tf.keras.layers.LSTM(32,input_shape=(window_size,1)))\n",
        "model.add(tf.keras.layers.Dense(1))\n",
        "model.compile(optimizer='adam',loss='mse')\n"
      ],
      "execution_count": 93,
      "outputs": [
        {
          "output_type": "stream",
          "text": [
            "WARNING:tensorflow:From /usr/local/lib/python3.6/dist-packages/tensorflow_core/python/ops/resource_variable_ops.py:1630: calling BaseResourceVariable.__init__ (from tensorflow.python.ops.resource_variable_ops) with constraint is deprecated and will be removed in a future version.\n",
            "Instructions for updating:\n",
            "If using Keras pass *_constraint arguments to layers.\n"
          ],
          "name": "stdout"
        }
      ]
    },
    {
      "cell_type": "markdown",
      "metadata": {
        "id": "zyAxLVdxMg4f",
        "colab_type": "text"
      },
      "source": [
        "### Summarize your model"
      ]
    },
    {
      "cell_type": "code",
      "metadata": {
        "id": "0I_UO7GOMg4g",
        "colab_type": "code",
        "colab": {
          "base_uri": "https://localhost:8080/",
          "height": 218
        },
        "outputId": "577cc5aa-5a1b-4702-fe30-9ec8cf67009b"
      },
      "source": [
        "model.summary()"
      ],
      "execution_count": 94,
      "outputs": [
        {
          "output_type": "stream",
          "text": [
            "Model: \"sequential\"\n",
            "_________________________________________________________________\n",
            "Layer (type)                 Output Shape              Param #   \n",
            "=================================================================\n",
            "lstm (LSTM)                  (None, 32)                4352      \n",
            "_________________________________________________________________\n",
            "dense (Dense)                (None, 1)                 33        \n",
            "=================================================================\n",
            "Total params: 4,385\n",
            "Trainable params: 4,385\n",
            "Non-trainable params: 0\n",
            "_________________________________________________________________\n"
          ],
          "name": "stdout"
        }
      ]
    },
    {
      "cell_type": "markdown",
      "metadata": {
        "id": "orlJW-1_Mg4j",
        "colab_type": "text"
      },
      "source": [
        "### Train the model"
      ]
    },
    {
      "cell_type": "code",
      "metadata": {
        "id": "yyzESxsmMg4j",
        "colab_type": "code",
        "colab": {
          "base_uri": "https://localhost:8080/",
          "height": 1000
        },
        "outputId": "9a8eaed2-6c53-43af-a779-8fe9ae352d2b"
      },
      "source": [
        "model.fit(X_train, y_train,epochs=200,  validation_data=(X_test, y_test), batch_size=32)"
      ],
      "execution_count": 95,
      "outputs": [
        {
          "output_type": "stream",
          "text": [
            "WARNING:tensorflow:From /usr/local/lib/python3.6/dist-packages/tensorflow_core/python/ops/math_grad.py:1424: where (from tensorflow.python.ops.array_ops) is deprecated and will be removed in a future version.\n",
            "Instructions for updating:\n",
            "Use tf.where in 2.0, which has the same broadcast rule as np.where\n",
            "Train on 2554 samples, validate on 1094 samples\n",
            "Epoch 1/200\n",
            "2554/2554 [==============================] - 1s 292us/sample - loss: 0.1092 - val_loss: 0.0384\n",
            "Epoch 2/200\n",
            "2554/2554 [==============================] - 0s 90us/sample - loss: 0.0192 - val_loss: 0.0144\n",
            "Epoch 3/200\n",
            "2554/2554 [==============================] - 0s 90us/sample - loss: 0.0150 - val_loss: 0.0135\n",
            "Epoch 4/200\n",
            "2554/2554 [==============================] - 0s 93us/sample - loss: 0.0141 - val_loss: 0.0126\n",
            "Epoch 5/200\n",
            "2554/2554 [==============================] - 0s 89us/sample - loss: 0.0132 - val_loss: 0.0117\n",
            "Epoch 6/200\n",
            "2554/2554 [==============================] - 0s 90us/sample - loss: 0.0124 - val_loss: 0.0109\n",
            "Epoch 7/200\n",
            "2554/2554 [==============================] - 0s 94us/sample - loss: 0.0117 - val_loss: 0.0102\n",
            "Epoch 8/200\n",
            "2554/2554 [==============================] - 0s 91us/sample - loss: 0.0111 - val_loss: 0.0098\n",
            "Epoch 9/200\n",
            "2554/2554 [==============================] - 0s 100us/sample - loss: 0.0107 - val_loss: 0.0093\n",
            "Epoch 10/200\n",
            "2554/2554 [==============================] - 0s 92us/sample - loss: 0.0104 - val_loss: 0.0090\n",
            "Epoch 11/200\n",
            "2554/2554 [==============================] - 0s 89us/sample - loss: 0.0102 - val_loss: 0.0089\n",
            "Epoch 12/200\n",
            "2554/2554 [==============================] - 0s 91us/sample - loss: 0.0101 - val_loss: 0.0089\n",
            "Epoch 13/200\n",
            "2554/2554 [==============================] - 0s 91us/sample - loss: 0.0101 - val_loss: 0.0087\n",
            "Epoch 14/200\n",
            "2554/2554 [==============================] - 0s 96us/sample - loss: 0.0101 - val_loss: 0.0089\n",
            "Epoch 15/200\n",
            "2554/2554 [==============================] - 0s 91us/sample - loss: 0.0101 - val_loss: 0.0087\n",
            "Epoch 16/200\n",
            "2554/2554 [==============================] - 0s 90us/sample - loss: 0.0100 - val_loss: 0.0088\n",
            "Epoch 17/200\n",
            "2554/2554 [==============================] - 0s 96us/sample - loss: 0.0100 - val_loss: 0.0087\n",
            "Epoch 18/200\n",
            "2554/2554 [==============================] - 0s 90us/sample - loss: 0.0100 - val_loss: 0.0087\n",
            "Epoch 19/200\n",
            "2554/2554 [==============================] - 0s 92us/sample - loss: 0.0100 - val_loss: 0.0086\n",
            "Epoch 20/200\n",
            "2554/2554 [==============================] - 0s 94us/sample - loss: 0.0100 - val_loss: 0.0088\n",
            "Epoch 21/200\n",
            "2554/2554 [==============================] - 0s 88us/sample - loss: 0.0100 - val_loss: 0.0088\n",
            "Epoch 22/200\n",
            "2554/2554 [==============================] - 0s 88us/sample - loss: 0.0100 - val_loss: 0.0087\n",
            "Epoch 23/200\n",
            "2554/2554 [==============================] - 0s 89us/sample - loss: 0.0100 - val_loss: 0.0088\n",
            "Epoch 24/200\n",
            "2554/2554 [==============================] - 0s 91us/sample - loss: 0.0100 - val_loss: 0.0087\n",
            "Epoch 25/200\n",
            "2554/2554 [==============================] - 0s 95us/sample - loss: 0.0101 - val_loss: 0.0086\n",
            "Epoch 26/200\n",
            "2554/2554 [==============================] - 0s 91us/sample - loss: 0.0100 - val_loss: 0.0086\n",
            "Epoch 27/200\n",
            "2554/2554 [==============================] - 0s 95us/sample - loss: 0.0101 - val_loss: 0.0089\n",
            "Epoch 28/200\n",
            "2554/2554 [==============================] - 0s 91us/sample - loss: 0.0100 - val_loss: 0.0087\n",
            "Epoch 29/200\n",
            "2554/2554 [==============================] - 0s 93us/sample - loss: 0.0100 - val_loss: 0.0087\n",
            "Epoch 30/200\n",
            "2554/2554 [==============================] - 0s 99us/sample - loss: 0.0100 - val_loss: 0.0086\n",
            "Epoch 31/200\n",
            "2554/2554 [==============================] - 0s 95us/sample - loss: 0.0100 - val_loss: 0.0086\n",
            "Epoch 32/200\n",
            "2554/2554 [==============================] - 0s 92us/sample - loss: 0.0100 - val_loss: 0.0087\n",
            "Epoch 33/200\n",
            "2554/2554 [==============================] - 0s 88us/sample - loss: 0.0100 - val_loss: 0.0087\n",
            "Epoch 34/200\n",
            "2554/2554 [==============================] - 0s 96us/sample - loss: 0.0101 - val_loss: 0.0088\n",
            "Epoch 35/200\n",
            "2554/2554 [==============================] - 0s 95us/sample - loss: 0.0100 - val_loss: 0.0088\n",
            "Epoch 36/200\n",
            "2554/2554 [==============================] - 0s 90us/sample - loss: 0.0101 - val_loss: 0.0088\n",
            "Epoch 37/200\n",
            "2554/2554 [==============================] - 0s 91us/sample - loss: 0.0101 - val_loss: 0.0087\n",
            "Epoch 38/200\n",
            "2554/2554 [==============================] - 0s 92us/sample - loss: 0.0100 - val_loss: 0.0087\n",
            "Epoch 39/200\n",
            "2554/2554 [==============================] - 0s 99us/sample - loss: 0.0100 - val_loss: 0.0087\n",
            "Epoch 40/200\n",
            "2554/2554 [==============================] - 0s 90us/sample - loss: 0.0100 - val_loss: 0.0087\n",
            "Epoch 41/200\n",
            "2554/2554 [==============================] - 0s 89us/sample - loss: 0.0101 - val_loss: 0.0087\n",
            "Epoch 42/200\n",
            "2554/2554 [==============================] - 0s 92us/sample - loss: 0.0100 - val_loss: 0.0089\n",
            "Epoch 43/200\n",
            "2554/2554 [==============================] - 0s 98us/sample - loss: 0.0100 - val_loss: 0.0088\n",
            "Epoch 44/200\n",
            "2554/2554 [==============================] - 0s 95us/sample - loss: 0.0100 - val_loss: 0.0087\n",
            "Epoch 45/200\n",
            "2554/2554 [==============================] - 0s 89us/sample - loss: 0.0100 - val_loss: 0.0087\n",
            "Epoch 46/200\n",
            "2554/2554 [==============================] - 0s 91us/sample - loss: 0.0100 - val_loss: 0.0087\n",
            "Epoch 47/200\n",
            "2554/2554 [==============================] - 0s 89us/sample - loss: 0.0100 - val_loss: 0.0086\n",
            "Epoch 48/200\n",
            "2554/2554 [==============================] - 0s 99us/sample - loss: 0.0101 - val_loss: 0.0087\n",
            "Epoch 49/200\n",
            "2554/2554 [==============================] - 0s 89us/sample - loss: 0.0101 - val_loss: 0.0087\n",
            "Epoch 50/200\n",
            "2554/2554 [==============================] - 0s 91us/sample - loss: 0.0100 - val_loss: 0.0087\n",
            "Epoch 51/200\n",
            "2554/2554 [==============================] - 0s 96us/sample - loss: 0.0100 - val_loss: 0.0087\n",
            "Epoch 52/200\n",
            "2554/2554 [==============================] - 0s 96us/sample - loss: 0.0100 - val_loss: 0.0087\n",
            "Epoch 53/200\n",
            "2554/2554 [==============================] - 0s 92us/sample - loss: 0.0100 - val_loss: 0.0088\n",
            "Epoch 54/200\n",
            "2554/2554 [==============================] - 0s 87us/sample - loss: 0.0100 - val_loss: 0.0088\n",
            "Epoch 55/200\n",
            "2554/2554 [==============================] - 0s 89us/sample - loss: 0.0100 - val_loss: 0.0086\n",
            "Epoch 56/200\n",
            "2554/2554 [==============================] - 0s 93us/sample - loss: 0.0100 - val_loss: 0.0086\n",
            "Epoch 57/200\n",
            "2554/2554 [==============================] - 0s 89us/sample - loss: 0.0100 - val_loss: 0.0087\n",
            "Epoch 58/200\n",
            "2554/2554 [==============================] - 0s 87us/sample - loss: 0.0100 - val_loss: 0.0089\n",
            "Epoch 59/200\n",
            "2554/2554 [==============================] - 0s 87us/sample - loss: 0.0101 - val_loss: 0.0090\n",
            "Epoch 60/200\n",
            "2554/2554 [==============================] - 0s 92us/sample - loss: 0.0100 - val_loss: 0.0086\n",
            "Epoch 61/200\n",
            "2554/2554 [==============================] - 0s 90us/sample - loss: 0.0100 - val_loss: 0.0086\n",
            "Epoch 62/200\n",
            "2554/2554 [==============================] - 0s 92us/sample - loss: 0.0100 - val_loss: 0.0087\n",
            "Epoch 63/200\n",
            "2554/2554 [==============================] - 0s 89us/sample - loss: 0.0100 - val_loss: 0.0087\n",
            "Epoch 64/200\n",
            "2554/2554 [==============================] - 0s 89us/sample - loss: 0.0100 - val_loss: 0.0089\n",
            "Epoch 65/200\n",
            "2554/2554 [==============================] - 0s 90us/sample - loss: 0.0100 - val_loss: 0.0087\n",
            "Epoch 66/200\n",
            "2554/2554 [==============================] - 0s 89us/sample - loss: 0.0100 - val_loss: 0.0086\n",
            "Epoch 67/200\n",
            "2554/2554 [==============================] - 0s 93us/sample - loss: 0.0100 - val_loss: 0.0088\n",
            "Epoch 68/200\n",
            "2554/2554 [==============================] - 0s 89us/sample - loss: 0.0100 - val_loss: 0.0087\n",
            "Epoch 69/200\n",
            "2554/2554 [==============================] - 0s 88us/sample - loss: 0.0100 - val_loss: 0.0088\n",
            "Epoch 70/200\n",
            "2554/2554 [==============================] - 0s 94us/sample - loss: 0.0100 - val_loss: 0.0087\n",
            "Epoch 71/200\n",
            "2554/2554 [==============================] - 0s 95us/sample - loss: 0.0100 - val_loss: 0.0087\n",
            "Epoch 72/200\n",
            "2554/2554 [==============================] - 0s 91us/sample - loss: 0.0100 - val_loss: 0.0086\n",
            "Epoch 73/200\n",
            "2554/2554 [==============================] - 0s 90us/sample - loss: 0.0100 - val_loss: 0.0086\n",
            "Epoch 74/200\n",
            "2554/2554 [==============================] - 0s 88us/sample - loss: 0.0100 - val_loss: 0.0088\n",
            "Epoch 75/200\n",
            "2554/2554 [==============================] - 0s 90us/sample - loss: 0.0100 - val_loss: 0.0086\n",
            "Epoch 76/200\n",
            "2554/2554 [==============================] - 0s 93us/sample - loss: 0.0100 - val_loss: 0.0091\n",
            "Epoch 77/200\n",
            "2554/2554 [==============================] - 0s 94us/sample - loss: 0.0100 - val_loss: 0.0088\n",
            "Epoch 78/200\n",
            "2554/2554 [==============================] - 0s 93us/sample - loss: 0.0100 - val_loss: 0.0089\n",
            "Epoch 79/200\n",
            "2554/2554 [==============================] - 0s 93us/sample - loss: 0.0100 - val_loss: 0.0088\n",
            "Epoch 80/200\n",
            "2554/2554 [==============================] - 0s 90us/sample - loss: 0.0100 - val_loss: 0.0088\n",
            "Epoch 81/200\n",
            "2554/2554 [==============================] - 0s 89us/sample - loss: 0.0101 - val_loss: 0.0087\n",
            "Epoch 82/200\n",
            "2554/2554 [==============================] - 0s 90us/sample - loss: 0.0100 - val_loss: 0.0087\n",
            "Epoch 83/200\n",
            "2554/2554 [==============================] - 0s 94us/sample - loss: 0.0100 - val_loss: 0.0086\n",
            "Epoch 84/200\n",
            "2554/2554 [==============================] - 0s 93us/sample - loss: 0.0100 - val_loss: 0.0087\n",
            "Epoch 85/200\n",
            "2554/2554 [==============================] - 0s 90us/sample - loss: 0.0100 - val_loss: 0.0087\n",
            "Epoch 86/200\n",
            "2554/2554 [==============================] - 0s 88us/sample - loss: 0.0100 - val_loss: 0.0087\n",
            "Epoch 87/200\n",
            "2554/2554 [==============================] - 0s 91us/sample - loss: 0.0100 - val_loss: 0.0087\n",
            "Epoch 88/200\n",
            "2554/2554 [==============================] - 0s 90us/sample - loss: 0.0100 - val_loss: 0.0088\n",
            "Epoch 89/200\n",
            "2554/2554 [==============================] - 0s 93us/sample - loss: 0.0100 - val_loss: 0.0088\n",
            "Epoch 90/200\n",
            "2554/2554 [==============================] - 0s 90us/sample - loss: 0.0100 - val_loss: 0.0086\n",
            "Epoch 91/200\n",
            "2554/2554 [==============================] - 0s 89us/sample - loss: 0.0100 - val_loss: 0.0087\n",
            "Epoch 92/200\n",
            "2554/2554 [==============================] - 0s 89us/sample - loss: 0.0100 - val_loss: 0.0087\n",
            "Epoch 93/200\n",
            "2554/2554 [==============================] - 0s 94us/sample - loss: 0.0100 - val_loss: 0.0087\n",
            "Epoch 94/200\n",
            "2554/2554 [==============================] - 0s 93us/sample - loss: 0.0100 - val_loss: 0.0088\n",
            "Epoch 95/200\n",
            "2554/2554 [==============================] - 0s 87us/sample - loss: 0.0100 - val_loss: 0.0087\n",
            "Epoch 96/200\n",
            "2554/2554 [==============================] - 0s 91us/sample - loss: 0.0100 - val_loss: 0.0087\n",
            "Epoch 97/200\n",
            "2554/2554 [==============================] - 0s 95us/sample - loss: 0.0100 - val_loss: 0.0089\n",
            "Epoch 98/200\n",
            "2554/2554 [==============================] - 0s 94us/sample - loss: 0.0100 - val_loss: 0.0087\n",
            "Epoch 99/200\n",
            "2554/2554 [==============================] - 0s 93us/sample - loss: 0.0100 - val_loss: 0.0088\n",
            "Epoch 100/200\n",
            "2554/2554 [==============================] - 0s 93us/sample - loss: 0.0100 - val_loss: 0.0086\n",
            "Epoch 101/200\n",
            "2554/2554 [==============================] - 0s 95us/sample - loss: 0.0100 - val_loss: 0.0086\n",
            "Epoch 102/200\n",
            "2554/2554 [==============================] - 0s 92us/sample - loss: 0.0100 - val_loss: 0.0087\n",
            "Epoch 103/200\n",
            "2554/2554 [==============================] - 0s 89us/sample - loss: 0.0100 - val_loss: 0.0087\n",
            "Epoch 104/200\n",
            "2554/2554 [==============================] - 0s 91us/sample - loss: 0.0100 - val_loss: 0.0089\n",
            "Epoch 105/200\n",
            "2554/2554 [==============================] - 0s 90us/sample - loss: 0.0100 - val_loss: 0.0087\n",
            "Epoch 106/200\n",
            "2554/2554 [==============================] - 0s 95us/sample - loss: 0.0100 - val_loss: 0.0087\n",
            "Epoch 107/200\n",
            "2554/2554 [==============================] - 0s 93us/sample - loss: 0.0100 - val_loss: 0.0086\n",
            "Epoch 108/200\n",
            "2554/2554 [==============================] - 0s 91us/sample - loss: 0.0100 - val_loss: 0.0086\n",
            "Epoch 109/200\n",
            "2554/2554 [==============================] - 0s 91us/sample - loss: 0.0100 - val_loss: 0.0086\n",
            "Epoch 110/200\n",
            "2554/2554 [==============================] - 0s 99us/sample - loss: 0.0100 - val_loss: 0.0088\n",
            "Epoch 111/200\n",
            "2554/2554 [==============================] - 0s 94us/sample - loss: 0.0100 - val_loss: 0.0087\n",
            "Epoch 112/200\n",
            "2554/2554 [==============================] - 0s 91us/sample - loss: 0.0101 - val_loss: 0.0087\n",
            "Epoch 113/200\n",
            "2554/2554 [==============================] - 0s 91us/sample - loss: 0.0100 - val_loss: 0.0087\n",
            "Epoch 114/200\n",
            "2554/2554 [==============================] - 0s 94us/sample - loss: 0.0100 - val_loss: 0.0089\n",
            "Epoch 115/200\n",
            "2554/2554 [==============================] - 0s 93us/sample - loss: 0.0100 - val_loss: 0.0087\n",
            "Epoch 116/200\n",
            "2554/2554 [==============================] - 0s 92us/sample - loss: 0.0100 - val_loss: 0.0087\n",
            "Epoch 117/200\n",
            "2554/2554 [==============================] - 0s 89us/sample - loss: 0.0100 - val_loss: 0.0087\n",
            "Epoch 118/200\n",
            "2554/2554 [==============================] - 0s 94us/sample - loss: 0.0100 - val_loss: 0.0087\n",
            "Epoch 119/200\n",
            "2554/2554 [==============================] - 0s 90us/sample - loss: 0.0100 - val_loss: 0.0087\n",
            "Epoch 120/200\n",
            "2554/2554 [==============================] - 0s 88us/sample - loss: 0.0100 - val_loss: 0.0087\n",
            "Epoch 121/200\n",
            "2554/2554 [==============================] - 0s 90us/sample - loss: 0.0100 - val_loss: 0.0087\n",
            "Epoch 122/200\n",
            "2554/2554 [==============================] - 0s 98us/sample - loss: 0.0100 - val_loss: 0.0091\n",
            "Epoch 123/200\n",
            "2554/2554 [==============================] - 0s 90us/sample - loss: 0.0101 - val_loss: 0.0087\n",
            "Epoch 124/200\n",
            "2554/2554 [==============================] - 0s 93us/sample - loss: 0.0100 - val_loss: 0.0087\n",
            "Epoch 125/200\n",
            "2554/2554 [==============================] - 0s 99us/sample - loss: 0.0100 - val_loss: 0.0087\n",
            "Epoch 126/200\n",
            "2554/2554 [==============================] - 0s 92us/sample - loss: 0.0100 - val_loss: 0.0091\n",
            "Epoch 127/200\n",
            "2554/2554 [==============================] - 0s 92us/sample - loss: 0.0100 - val_loss: 0.0087\n",
            "Epoch 128/200\n",
            "2554/2554 [==============================] - 0s 90us/sample - loss: 0.0100 - val_loss: 0.0088\n",
            "Epoch 129/200\n",
            "2554/2554 [==============================] - 0s 100us/sample - loss: 0.0100 - val_loss: 0.0087\n",
            "Epoch 130/200\n",
            "2554/2554 [==============================] - 0s 92us/sample - loss: 0.0100 - val_loss: 0.0086\n",
            "Epoch 131/200\n",
            "2554/2554 [==============================] - 0s 91us/sample - loss: 0.0100 - val_loss: 0.0088\n",
            "Epoch 132/200\n",
            "2554/2554 [==============================] - 0s 89us/sample - loss: 0.0100 - val_loss: 0.0087\n",
            "Epoch 133/200\n",
            "2554/2554 [==============================] - 0s 93us/sample - loss: 0.0100 - val_loss: 0.0087\n",
            "Epoch 134/200\n",
            "2554/2554 [==============================] - 0s 90us/sample - loss: 0.0100 - val_loss: 0.0088\n",
            "Epoch 135/200\n",
            "2554/2554 [==============================] - 0s 91us/sample - loss: 0.0100 - val_loss: 0.0087\n",
            "Epoch 136/200\n",
            "2554/2554 [==============================] - 0s 87us/sample - loss: 0.0099 - val_loss: 0.0087\n",
            "Epoch 137/200\n",
            "2554/2554 [==============================] - 0s 94us/sample - loss: 0.0100 - val_loss: 0.0087\n",
            "Epoch 138/200\n",
            "2554/2554 [==============================] - 0s 89us/sample - loss: 0.0100 - val_loss: 0.0088\n",
            "Epoch 139/200\n",
            "2554/2554 [==============================] - 0s 87us/sample - loss: 0.0100 - val_loss: 0.0087\n",
            "Epoch 140/200\n",
            "2554/2554 [==============================] - 0s 91us/sample - loss: 0.0100 - val_loss: 0.0088\n",
            "Epoch 141/200\n",
            "2554/2554 [==============================] - 0s 88us/sample - loss: 0.0100 - val_loss: 0.0088\n",
            "Epoch 142/200\n",
            "2554/2554 [==============================] - 0s 99us/sample - loss: 0.0100 - val_loss: 0.0087\n",
            "Epoch 143/200\n",
            "2554/2554 [==============================] - 0s 89us/sample - loss: 0.0099 - val_loss: 0.0087\n",
            "Epoch 144/200\n",
            "2554/2554 [==============================] - 0s 92us/sample - loss: 0.0100 - val_loss: 0.0087\n",
            "Epoch 145/200\n",
            "2554/2554 [==============================] - 0s 90us/sample - loss: 0.0100 - val_loss: 0.0087\n",
            "Epoch 146/200\n",
            "2554/2554 [==============================] - 0s 91us/sample - loss: 0.0100 - val_loss: 0.0087\n",
            "Epoch 147/200\n",
            "2554/2554 [==============================] - 0s 91us/sample - loss: 0.0100 - val_loss: 0.0087\n",
            "Epoch 148/200\n",
            "2554/2554 [==============================] - 0s 92us/sample - loss: 0.0100 - val_loss: 0.0087\n",
            "Epoch 149/200\n",
            "2554/2554 [==============================] - 0s 102us/sample - loss: 0.0100 - val_loss: 0.0087\n",
            "Epoch 150/200\n",
            "2554/2554 [==============================] - 0s 105us/sample - loss: 0.0100 - val_loss: 0.0087\n",
            "Epoch 151/200\n",
            "2554/2554 [==============================] - 0s 103us/sample - loss: 0.0100 - val_loss: 0.0087\n",
            "Epoch 152/200\n",
            "2554/2554 [==============================] - 0s 92us/sample - loss: 0.0100 - val_loss: 0.0088\n",
            "Epoch 153/200\n",
            "2554/2554 [==============================] - 0s 88us/sample - loss: 0.0100 - val_loss: 0.0088\n",
            "Epoch 154/200\n",
            "2554/2554 [==============================] - 0s 91us/sample - loss: 0.0100 - val_loss: 0.0087\n",
            "Epoch 155/200\n",
            "2554/2554 [==============================] - 0s 92us/sample - loss: 0.0100 - val_loss: 0.0087\n",
            "Epoch 156/200\n",
            "2554/2554 [==============================] - 0s 86us/sample - loss: 0.0100 - val_loss: 0.0087\n",
            "Epoch 157/200\n",
            "2554/2554 [==============================] - 0s 85us/sample - loss: 0.0100 - val_loss: 0.0088\n",
            "Epoch 158/200\n",
            "2554/2554 [==============================] - 0s 92us/sample - loss: 0.0100 - val_loss: 0.0087\n",
            "Epoch 159/200\n",
            "2554/2554 [==============================] - 0s 95us/sample - loss: 0.0100 - val_loss: 0.0087\n",
            "Epoch 160/200\n",
            "2554/2554 [==============================] - 0s 93us/sample - loss: 0.0100 - val_loss: 0.0089\n",
            "Epoch 161/200\n",
            "2554/2554 [==============================] - 0s 92us/sample - loss: 0.0100 - val_loss: 0.0087\n",
            "Epoch 162/200\n",
            "2554/2554 [==============================] - 0s 90us/sample - loss: 0.0100 - val_loss: 0.0087\n",
            "Epoch 163/200\n",
            "2554/2554 [==============================] - 0s 88us/sample - loss: 0.0100 - val_loss: 0.0089\n",
            "Epoch 164/200\n",
            "2554/2554 [==============================] - 0s 92us/sample - loss: 0.0100 - val_loss: 0.0087\n",
            "Epoch 165/200\n",
            "2554/2554 [==============================] - 0s 92us/sample - loss: 0.0100 - val_loss: 0.0091\n",
            "Epoch 166/200\n",
            "2554/2554 [==============================] - 0s 87us/sample - loss: 0.0100 - val_loss: 0.0088\n",
            "Epoch 167/200\n",
            "2554/2554 [==============================] - 0s 92us/sample - loss: 0.0100 - val_loss: 0.0087\n",
            "Epoch 168/200\n",
            "2554/2554 [==============================] - 0s 90us/sample - loss: 0.0100 - val_loss: 0.0089\n",
            "Epoch 169/200\n",
            "2554/2554 [==============================] - 0s 97us/sample - loss: 0.0100 - val_loss: 0.0088\n",
            "Epoch 170/200\n",
            "2554/2554 [==============================] - 0s 91us/sample - loss: 0.0100 - val_loss: 0.0087\n",
            "Epoch 171/200\n",
            "2554/2554 [==============================] - 0s 90us/sample - loss: 0.0100 - val_loss: 0.0087\n",
            "Epoch 172/200\n",
            "2554/2554 [==============================] - 0s 94us/sample - loss: 0.0100 - val_loss: 0.0087\n",
            "Epoch 173/200\n",
            "2554/2554 [==============================] - 0s 90us/sample - loss: 0.0100 - val_loss: 0.0087\n",
            "Epoch 174/200\n",
            "2554/2554 [==============================] - 0s 87us/sample - loss: 0.0100 - val_loss: 0.0088\n",
            "Epoch 175/200\n",
            "2554/2554 [==============================] - 0s 89us/sample - loss: 0.0100 - val_loss: 0.0089\n",
            "Epoch 176/200\n",
            "2554/2554 [==============================] - 0s 103us/sample - loss: 0.0100 - val_loss: 0.0088\n",
            "Epoch 177/200\n",
            "2554/2554 [==============================] - 0s 92us/sample - loss: 0.0100 - val_loss: 0.0087\n",
            "Epoch 178/200\n",
            "2554/2554 [==============================] - 0s 91us/sample - loss: 0.0100 - val_loss: 0.0088\n",
            "Epoch 179/200\n",
            "2554/2554 [==============================] - 0s 90us/sample - loss: 0.0100 - val_loss: 0.0088\n",
            "Epoch 180/200\n",
            "2554/2554 [==============================] - 0s 91us/sample - loss: 0.0100 - val_loss: 0.0089\n",
            "Epoch 181/200\n",
            "2554/2554 [==============================] - 0s 103us/sample - loss: 0.0100 - val_loss: 0.0087\n",
            "Epoch 182/200\n",
            "2554/2554 [==============================] - 0s 102us/sample - loss: 0.0100 - val_loss: 0.0087\n",
            "Epoch 183/200\n",
            "2554/2554 [==============================] - 0s 103us/sample - loss: 0.0100 - val_loss: 0.0087\n",
            "Epoch 184/200\n",
            "2554/2554 [==============================] - 0s 96us/sample - loss: 0.0099 - val_loss: 0.0089\n",
            "Epoch 185/200\n",
            "2554/2554 [==============================] - 0s 89us/sample - loss: 0.0100 - val_loss: 0.0087\n",
            "Epoch 186/200\n",
            "2554/2554 [==============================] - 0s 92us/sample - loss: 0.0100 - val_loss: 0.0087\n",
            "Epoch 187/200\n",
            "2554/2554 [==============================] - 0s 92us/sample - loss: 0.0100 - val_loss: 0.0087\n",
            "Epoch 188/200\n",
            "2554/2554 [==============================] - 0s 87us/sample - loss: 0.0100 - val_loss: 0.0087\n",
            "Epoch 189/200\n",
            "2554/2554 [==============================] - 0s 92us/sample - loss: 0.0100 - val_loss: 0.0087\n",
            "Epoch 190/200\n",
            "2554/2554 [==============================] - 0s 92us/sample - loss: 0.0100 - val_loss: 0.0088\n",
            "Epoch 191/200\n",
            "2554/2554 [==============================] - 0s 91us/sample - loss: 0.0100 - val_loss: 0.0087\n",
            "Epoch 192/200\n",
            "2554/2554 [==============================] - 0s 90us/sample - loss: 0.0100 - val_loss: 0.0087\n",
            "Epoch 193/200\n",
            "2554/2554 [==============================] - 0s 104us/sample - loss: 0.0100 - val_loss: 0.0087\n",
            "Epoch 194/200\n",
            "2554/2554 [==============================] - 0s 97us/sample - loss: 0.0100 - val_loss: 0.0087\n",
            "Epoch 195/200\n",
            "2554/2554 [==============================] - 0s 101us/sample - loss: 0.0100 - val_loss: 0.0090\n",
            "Epoch 196/200\n",
            "2554/2554 [==============================] - 0s 100us/sample - loss: 0.0100 - val_loss: 0.0087\n",
            "Epoch 197/200\n",
            "2554/2554 [==============================] - 0s 93us/sample - loss: 0.0099 - val_loss: 0.0090\n",
            "Epoch 198/200\n",
            "2554/2554 [==============================] - 0s 91us/sample - loss: 0.0100 - val_loss: 0.0088\n",
            "Epoch 199/200\n",
            "2554/2554 [==============================] - 0s 91us/sample - loss: 0.0100 - val_loss: 0.0088\n",
            "Epoch 200/200\n",
            "2554/2554 [==============================] - 0s 88us/sample - loss: 0.0100 - val_loss: 0.0088\n"
          ],
          "name": "stdout"
        },
        {
          "output_type": "execute_result",
          "data": {
            "text/plain": [
              "<tensorflow.python.keras.callbacks.History at 0x7f3a9bd47fd0>"
            ]
          },
          "metadata": {
            "tags": []
          },
          "execution_count": 95
        }
      ]
    },
    {
      "cell_type": "markdown",
      "metadata": {
        "id": "eSQgnvPKMg4m",
        "colab_type": "text"
      },
      "source": [
        "## Make Predictions and Evaluate your model"
      ]
    },
    {
      "cell_type": "code",
      "metadata": {
        "colab_type": "code",
        "id": "85Ip5wrq7Jyi",
        "colab": {}
      },
      "source": [
        "#Un-normalize the predited data\n",
        "trainPredict = model.predict(X_train)\n",
        "testPredict = model.predict(X_test)\n",
        "trainPredict = scaler.inverse_transform(trainPredict)\n",
        "testPredict = scaler.inverse_transform(testPredict)"
      ],
      "execution_count": 0,
      "outputs": []
    },
    {
      "cell_type": "markdown",
      "metadata": {
        "id": "Ewi6Zyl9Mg4o",
        "colab_type": "text"
      },
      "source": [
        "## Plot the results"
      ]
    },
    {
      "cell_type": "code",
      "metadata": {
        "colab_type": "code",
        "id": "FHbIWp-D7Jyn",
        "colab": {
          "base_uri": "https://localhost:8080/",
          "height": 374
        },
        "outputId": "bc01c3ae-0a6d-4ebf-b2b5-9520125797ac"
      },
      "source": [
        "import matplotlib.pyplot as plt\n",
        "trainPredictPlot = np.empty_like(scaled)\n",
        "trainPredictPlot[:, :] = np.nan\n",
        "trainPredictPlot[window_size:len(trainPredict)+window_size, :] = trainPredict\n",
        "# shift test predictions for plotting\n",
        "testPredictPlot = np.empty_like(scaled)\n",
        "testPredictPlot[:, :] = np.nan\n",
        "testPredictPlot[len(trainPredict)+(window_size*2):len(scaled), :] = testPredict\n",
        "# plot baseline and predictions\n",
        "plt.figure(figsize=(10,6))\n",
        "plt.plot(scaler.inverse_transform(scaled))\n",
        "plt.plot(trainPredictPlot)\n",
        "plt.plot(testPredictPlot)\n",
        "plt.show()"
      ],
      "execution_count": 98,
      "outputs": [
        {
          "output_type": "display_data",
          "data": {
            "image/png": "[encoded data removed]",
            "text/plain": [
              "<Figure size 720x432 with 1 Axes>"
            ]
          },
          "metadata": {
            "tags": []
          }
        }
      ]
    },
    {
      "cell_type": "code",
      "metadata": {
        "id": "I_j3OpXppgnA",
        "colab_type": "code",
        "colab": {}
      },
      "source": [
        ""
      ],
      "execution_count": 0,
      "outputs": []
    }
  ]
}